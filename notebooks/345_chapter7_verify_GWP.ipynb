{
 "cells": [
  {
   "cell_type": "markdown",
   "id": "basic-appearance",
   "metadata": {},
   "source": [
    "# Check GWPs in table 7.SM.7\n",
    "\n",
    "Theme Song: Low Tide<br>\n",
    "Artist: Isis, Aereogramme<br>\n",
    "Album: In The Fishtank 14<br>\n",
    "Released: 2006"
   ]
  },
  {
   "cell_type": "code",
   "execution_count": 4,
   "id": "c3a85738",
   "metadata": {},
   "outputs": [],
   "source": [
    "from fair.tools.gwp import gwp\n",
    "from fair.constants import molwt\n",
    "import pandas as pp\n",
    "import numpy as np\n",
    "\n",
    "from ar6.metrics.halogen_generic import halogen_analytical\n",
    "from ar6.metrics.co2 import co2_analytical\n",
    "from ar6.metrics.ch4 import ch4_analytical\n",
    "\n",
    "from ar6.constants.gases import lifetimes, radeff\n",
    "\n",
    "from fair.constants.general import M_ATMOS"
   ]
  },
  {
   "cell_type": "markdown",
   "id": "31eb4fa3",
   "metadata": {},
   "source": [
    "## First let's get the AGWP20 and AGWP100 for CO2"
   ]
  },
  {
   "cell_type": "code",
   "execution_count": 25,
   "id": "94b45755",
   "metadata": {},
   "outputs": [
    {
     "data": {
      "text/plain": [
       "(1.0189786364138617e-15,\n",
       " 2.433921440465611e-14,\n",
       " 4.681161234177259e-16,\n",
       " 8.54380577377305e-15)"
      ]
     },
     "execution_count": 25,
     "metadata": {},
     "output_type": "execute_result"
    }
   ],
   "source": [
    "co2_analytical(20)   # rf, agwp, delT, idelT"
   ]
  },
  {
   "cell_type": "code",
   "execution_count": 44,
   "id": "d5477a2b",
   "metadata": {},
   "outputs": [
    {
     "data": {
      "text/plain": [
       "(8.314494575471006e-16,\n",
       " 5.1724670783071825e-14,\n",
       " 4.2867897555143954e-16,\n",
       " 2.3161964643180585e-14)"
      ]
     },
     "execution_count": 44,
     "metadata": {},
     "output_type": "execute_result"
    }
   ],
   "source": [
    "co2_analytical(50, d=np.array([3.424102092311, 285.003477841911]), q=np.array([0.443767728883447, 0.319591049742508]))"
   ]
  },
  {
   "cell_type": "code",
   "execution_count": 65,
   "id": "b206e2ca",
   "metadata": {},
   "outputs": [
    {
     "data": {
      "text/plain": [
       "(6.994622015869083e-16,\n",
       " 8.944343008172272e-14,\n",
       " 3.9595361834127504e-16,\n",
       " 4.355995491730908e-14)"
      ]
     },
     "execution_count": 65,
     "metadata": {},
     "output_type": "execute_result"
    }
   ],
   "source": [
    "co2_analytical(100, d=np.array([3.424102092311, 285.003477841911]), q=np.array([0.443767728883447, 0.319591049742508]), co2=410, ch4=1866, n2o=332, a=np.array([0.2173, 0.2240, 0.2824, 0.2763]), alpha_co2=np.array([0, 394.4, 36.54, 4.304]))"
   ]
  },
  {
   "cell_type": "code",
   "execution_count": 27,
   "id": "3a037783",
   "metadata": {},
   "outputs": [
    {
     "data": {
      "text/plain": [
       "(4.791190255031502e-16,\n",
       " 3.1383888228822573e-13,\n",
       " 3.5889636432888816e-16,\n",
       " 1.927170335076471e-13)"
      ]
     },
     "execution_count": 27,
     "metadata": {},
     "output_type": "execute_result"
    }
   ],
   "source": [
    "co2_analytical(500)"
   ]
  },
  {
   "cell_type": "code",
   "execution_count": 33,
   "id": "6b5df9de",
   "metadata": {},
   "outputs": [],
   "source": [
    "rf, agwp, delT, idelT = co2_analytical(np.arange(101))"
   ]
  },
  {
   "cell_type": "code",
   "execution_count": 50,
   "id": "38b61dd8",
   "metadata": {},
   "outputs": [],
   "source": [
    "### Bill's Thomas Gasser IRF to move to a new module\n",
    "\n",
    "# GTP is the ratio of \"delT\" values between gas of interest and CO2\n",
    "\n",
    "from fair.constants import molwt\n",
    "\n",
    "def ccycle_gasser(H, delT):\n",
    "    dts = H[1]\n",
    "    rf_co2, agwp_co2, delT_co2, idelT_co2 = co2_analytical(H)\n",
    "    \n",
    "    delT_cc = H*0.\n",
    "    agwp_cc = H*0.\n",
    "    rf_cc = H*0.\n",
    "    F_CO2 = H*0.\n",
    "    a = np.array([0.6368, 0.3322, 0.0310])  # Gasser et al. 2017\n",
    "    alpha = np.array([2.376, 30.14, 490.1])\n",
    "\n",
    "    gamma = 3.015*1E12  # kgCO2/yr/K  Gasser et al. 2017\n",
    "    r_f = H*0.\n",
    "    r_f[0] = np.sum(a)/dts\n",
    "    for i in np.arange(0, 3):\n",
    "        r_f = r_f-(a[i]/alpha[i])*np.exp(-H/alpha[i])\n",
    "\n",
    "    for j in np.arange(H.size):\n",
    "        for i in np.arange(j+1):\n",
    "            F_CO2[j] = F_CO2[j]+delT[i]*gamma*r_f[j-i]*dts\n",
    "    for j in np.arange(H.size):\n",
    "        for i in np.arange(j+1):\n",
    "            rf_cc[j] = rf_cc[j]+F_CO2[i]*rf_co2[j-i]*dts * \\\n",
    "                (molwt.CO2/12)\n",
    "            agwp_cc[j] = agwp_cc[j]+F_CO2[i]*agwp_co2[j-i]*dts * \\\n",
    "                (molwt.CO2/12)\n",
    "            delT_cc[j] = delT_cc[j]+F_CO2[i]*delT_co2[j-i]*dts * \\\n",
    "                (molwt.CO2/12)\n",
    "    return rf_cc, agwp_cc, delT_cc\n"
   ]
  },
  {
   "cell_type": "code",
   "execution_count": 51,
   "id": "a6bb36e4",
   "metadata": {},
   "outputs": [
    {
     "data": {
      "text/plain": [
       "(array([ 0.00000000e+00,  2.02432091e-18,  4.86098206e-18,  7.84992822e-18,\n",
       "         1.06577487e-17,  1.31389858e-17,  1.52519625e-17,  1.70086535e-17,\n",
       "         1.84455955e-17,  1.96076245e-17,  2.05393016e-17,  2.12808358e-17,\n",
       "         2.18665516e-17,  2.23247222e-17,  2.26780753e-17,  2.29445728e-17,\n",
       "         2.31382474e-17,  2.32699868e-17,  2.33482168e-17,  2.33794699e-17,\n",
       "         2.33688437e-17,  2.33203614e-17,  2.32372497e-17,  2.31221498e-17,\n",
       "         2.29772754e-17,  2.28045287e-17,  2.26055846e-17,  2.23819521e-17,\n",
       "         2.21350164e-17,  2.18660693e-17,  2.15763293e-17,  2.12669559e-17,\n",
       "         2.09390579e-17,  2.05937000e-17,  2.02319060e-17,  1.98546612e-17,\n",
       "         1.94629138e-17,  1.90575756e-17,  1.86395229e-17,  1.82095965e-17,\n",
       "         1.77686025e-17,  1.73173125e-17,  1.68564645e-17,  1.63867632e-17,\n",
       "         1.59088806e-17,  1.54234575e-17,  1.49311034e-17,  1.44323981e-17,\n",
       "         1.39278924e-17,  1.34181090e-17,  1.29035437e-17,  1.23846663e-17,\n",
       "         1.18619214e-17,  1.13357299e-17,  1.08064893e-17,  1.02745754e-17,\n",
       "         9.74034253e-18,  9.20412508e-18,  8.66623802e-18,  8.12697788e-18,\n",
       "         7.58662359e-18,  7.04543731e-18,  6.50366514e-18,  5.96153796e-18,\n",
       "         5.41927207e-18,  4.87706996e-18,  4.33512092e-18,  3.79360169e-18,\n",
       "         3.25267711e-18,  2.71250066e-18,  2.17321505e-18,  1.63495277e-18,\n",
       "         1.09783657e-18,  5.61979975e-19,  2.74877673e-20, -5.05543581e-19,\n",
       "        -1.03702547e-18, -1.56687674e-18, -2.09502332e-18, -2.62139780e-18,\n",
       "        -3.14593912e-18, -3.66859219e-18, -4.18930757e-18, -4.70804117e-18,\n",
       "        -5.22475393e-18, -5.73941156e-18, -6.25198425e-18, -6.76244641e-18,\n",
       "        -7.27077644e-18, -7.77695648e-18, -8.28097217e-18, -8.78281247e-18,\n",
       "        -9.28246944e-18, -9.77993805e-18, -1.02752160e-17, -1.07683034e-17,\n",
       "        -1.12592030e-17, -1.17479196e-17, -1.22344600e-17, -1.27188331e-17,\n",
       "        -1.32010495e-17]),\n",
       " array([0.00000000e+00, 0.00000000e+00, 1.95577121e-18, 6.66035386e-18,\n",
       "        1.42711498e-17, 2.46225247e-17, 3.74061863e-17, 5.22711838e-17,\n",
       "        6.88759357e-17, 8.69123394e-17, 1.06114211e-16, 1.26257413e-16,\n",
       "        1.47155976e-16, 1.68656680e-16, 1.90633407e-16, 2.12981928e-16,\n",
       "        2.35615399e-16, 2.58460632e-16, 2.81455096e-16, 3.04544561e-16,\n",
       "        3.27681276e-16, 3.50822584e-16, 3.73929880e-16, 3.96967828e-16,\n",
       "        4.19903786e-16, 4.42707382e-16, 4.65350202e-16, 4.87805559e-16,\n",
       "        5.10048319e-16, 5.32054779e-16, 5.53802564e-16, 5.75270547e-16,\n",
       "        5.96438791e-16, 6.17288491e-16, 6.37801924e-16, 6.57962411e-16,\n",
       "        6.77754271e-16, 6.97162783e-16, 7.16174149e-16, 7.34775455e-16,\n",
       "        7.52954638e-16, 7.70700444e-16, 7.88002400e-16, 8.04850773e-16,\n",
       "        8.21236542e-16, 8.37151359e-16, 8.52587525e-16, 8.67537951e-16,\n",
       "        8.81996131e-16, 8.95956115e-16, 9.09412478e-16, 9.22360294e-16,\n",
       "        9.34795108e-16, 9.46712915e-16, 9.58110132e-16, 9.68983578e-16,\n",
       "        9.79330448e-16, 9.89148295e-16, 9.98435012e-16, 1.00718880e-15,\n",
       "        1.01540818e-15, 1.02309193e-15, 1.03023910e-15, 1.03684900e-15,\n",
       "        1.04292116e-15, 1.04845534e-15, 1.05345149e-15, 1.05790977e-15,\n",
       "        1.06183050e-15, 1.06521418e-15, 1.06806146e-15, 1.07037315e-15,\n",
       "        1.07215016e-15, 1.07339357e-15, 1.07410454e-15, 1.07428435e-15,\n",
       "        1.07393437e-15, 1.07305609e-15, 1.07165104e-15, 1.06972086e-15,\n",
       "        1.06726724e-15, 1.06429194e-15, 1.06079679e-15, 1.05678364e-15,\n",
       "        1.05225441e-15, 1.04721106e-15, 1.04165558e-15, 1.03558998e-15,\n",
       "        1.02901632e-15, 1.02193667e-15, 1.01435313e-15, 1.00626779e-15,\n",
       "        9.97682784e-16, 9.88600237e-16, 9.79022287e-16, 9.68951073e-16,\n",
       "        9.58388736e-16, 9.47337415e-16, 9.35799247e-16, 9.23776362e-16,\n",
       "        9.11270884e-16]),\n",
       " array([ 0.00000000e+00,  0.00000000e+00,  1.76008950e-19,  5.61902951e-19,\n",
       "         1.12725899e-18,  1.81920655e-18,  2.58342019e-18,  3.37339138e-18,\n",
       "         4.15340744e-18,  4.89838923e-18,  5.59236098e-18,  6.22650529e-18,\n",
       "         6.79727904e-18,  7.30479619e-18,  7.75153867e-18,  8.14138337e-18,\n",
       "         8.47890178e-18,  8.76887950e-18,  9.01600430e-18,  9.22467853e-18,\n",
       "         9.39891956e-18,  9.54232029e-18,  9.65804860e-18,  9.74887044e-18,\n",
       "         9.81718596e-18,  9.86507116e-18,  9.89432066e-18,  9.90648840e-18,\n",
       "         9.90292485e-18,  9.88480999e-18,  9.85318168e-18,  9.80895983e-18,\n",
       "         9.75296652e-18,  9.68594265e-18,  9.60856155e-18,  9.52143995e-18,\n",
       "         9.42514685e-18,  9.32021062e-18,  9.20712467e-18,  9.08635189e-18,\n",
       "         8.95832827e-18,  8.82346578e-18,  8.68215457e-18,  8.53476490e-18,\n",
       "         8.38164858e-18,  8.22314025e-18,  8.05955840e-18,  7.89120624e-18,\n",
       "         7.71837252e-18,  7.54133217e-18,  7.36034695e-18,  7.17566598e-18,\n",
       "         6.98752631e-18,  6.79615340e-18,  6.60176159e-18,  6.40455455e-18,\n",
       "         6.20472573e-18,  6.00245875e-18,  5.79792783e-18,  5.59129818e-18,\n",
       "         5.38272638e-18,  5.17236071e-18,  4.96034157e-18,  4.74680176e-18,\n",
       "         4.53186687e-18,  4.31565553e-18,  4.09827979e-18,  3.87984537e-18,\n",
       "         3.66045197e-18,  3.44019354e-18,  3.21915853e-18,  2.99743019e-18,\n",
       "         2.77508674e-18,  2.55220170e-18,  2.32884402e-18,  2.10507838e-18,\n",
       "         1.88096535e-18,  1.65656157e-18,  1.43192003e-18,  1.20709013e-18,\n",
       "         9.82117974e-19,  7.57046446e-19,  5.31915421e-19,  3.06761903e-19,\n",
       "         8.16201721e-20, -1.43478074e-19, -3.68503585e-19, -5.93429433e-19,\n",
       "        -8.18230887e-19, -1.04288530e-18, -1.26737198e-18, -1.49167211e-18,\n",
       "        -1.71576864e-18, -1.93964616e-18, -2.16329085e-18, -2.38669037e-18,\n",
       "        -2.60983376e-18, -2.83271139e-18, -3.05531486e-18, -3.27763696e-18,\n",
       "        -3.49967154e-18]))"
      ]
     },
     "execution_count": 51,
     "metadata": {},
     "output_type": "execute_result"
    }
   ],
   "source": [
    "ccycle_gasser(np.arange(101), delT)"
   ]
  },
  {
   "cell_type": "code",
   "execution_count": 46,
   "id": "8460ba99",
   "metadata": {},
   "outputs": [
    {
     "data": {
      "text/plain": [
       "3.9260119046427737e-16"
      ]
     },
     "execution_count": 46,
     "metadata": {},
     "output_type": "execute_result"
    }
   ],
   "source": [
    "-3.49675758e-18 + 3.960979480442774e-16"
   ]
  },
  {
   "cell_type": "markdown",
   "id": "ea891c82",
   "metadata": {},
   "source": [
    "## First, we'll do the halogens"
   ]
  },
  {
   "cell_type": "code",
   "execution_count": 3,
   "id": "cc773b11",
   "metadata": {},
   "outputs": [
    {
     "data": {
      "text/plain": [
       "(1.7594733595013092e-12,\n",
       " 5.344978747321651e-10,\n",
       " 1.3486608050322899e-12,\n",
       " 2.571559526658994e-10)"
      ]
     },
     "execution_count": 3,
     "metadata": {},
     "output_type": "execute_result"
    }
   ],
   "source": [
    "lifetimes['CFC-11'], radeff['CFC-11'], molwt.CFC11\n",
    "halogen_analytical(100, lifetimes['CFC-11'], radeff['CFC-11'], molwt.CFC11, 0.13)"
   ]
  },
  {
   "cell_type": "code",
   "execution_count": 8,
   "id": "9b55a399",
   "metadata": {},
   "outputs": [
    {
     "data": {
      "text/plain": [
       "(1.6310318042577135e-12,\n",
       " 4.954795298767171e-10,\n",
       " 1.2502085662649327e-12,\n",
       " 2.383835681212887e-10)"
      ]
     },
     "execution_count": 8,
     "metadata": {},
     "output_type": "execute_result"
    }
   ],
   "source": [
    "halogen_analytical(100, lifetimes['CFC-11'], 0.927*radeff['CFC-11'], molwt.CFC11, 0.13)"
   ]
  },
  {
   "cell_type": "code",
   "execution_count": 12,
   "id": "4ae015fa",
   "metadata": {},
   "outputs": [
    {
     "data": {
      "text/plain": [
       "(1.7440297573591152e-12,\n",
       " 5.298063728809798e-10,\n",
       " 1.3368230691636476e-12,\n",
       " 2.5489879190809475e-10)"
      ]
     },
     "execution_count": 12,
     "metadata": {},
     "output_type": "execute_result"
    }
   ],
   "source": [
    "halogen_analytical(100, 52, 0.25941, 137.36, 0.12)"
   ]
  },
  {
   "cell_type": "code",
   "execution_count": 2,
   "id": "republican-membership",
   "metadata": {},
   "outputs": [
    {
     "ename": "FileNotFoundError",
     "evalue": "[Errno 2] No such file or directory: '../data_input/7sm/metrics_supplement.csv'",
     "output_type": "error",
     "traceback": [
      "\u001b[0;31m---------------------------------------------------------------------------\u001b[0m",
      "\u001b[0;31mFileNotFoundError\u001b[0m                         Traceback (most recent call last)",
      "\u001b[0;32m<ipython-input-2-f2cf12d480cb>\u001b[0m in \u001b[0;36m<module>\u001b[0;34m\u001b[0m\n\u001b[1;32m      1\u001b[0m \u001b[0;31m# Raw metrics file from Bill Collins\u001b[0m\u001b[0;34m\u001b[0m\u001b[0;34m\u001b[0m\u001b[0;34m\u001b[0m\u001b[0m\n\u001b[0;32m----> 2\u001b[0;31m \u001b[0mdf\u001b[0m \u001b[0;34m=\u001b[0m \u001b[0mpd\u001b[0m\u001b[0;34m.\u001b[0m\u001b[0mread_csv\u001b[0m\u001b[0;34m(\u001b[0m\u001b[0;34m'../data_input/7sm/metrics_supplement.csv'\u001b[0m\u001b[0;34m)\u001b[0m\u001b[0;34m\u001b[0m\u001b[0;34m\u001b[0m\u001b[0m\n\u001b[0m",
      "\u001b[0;32m/nfs/b0110/Users/mencsm/miniconda3/envs/ar6/lib/python3.7/site-packages/pandas/io/parsers.py\u001b[0m in \u001b[0;36mread_csv\u001b[0;34m(filepath_or_buffer, sep, delimiter, header, names, index_col, usecols, squeeze, prefix, mangle_dupe_cols, dtype, engine, converters, true_values, false_values, skipinitialspace, skiprows, skipfooter, nrows, na_values, keep_default_na, na_filter, verbose, skip_blank_lines, parse_dates, infer_datetime_format, keep_date_col, date_parser, dayfirst, cache_dates, iterator, chunksize, compression, thousands, decimal, lineterminator, quotechar, quoting, doublequote, escapechar, comment, encoding, dialect, error_bad_lines, warn_bad_lines, delim_whitespace, low_memory, memory_map, float_precision)\u001b[0m\n\u001b[1;32m    686\u001b[0m     )\n\u001b[1;32m    687\u001b[0m \u001b[0;34m\u001b[0m\u001b[0m\n\u001b[0;32m--> 688\u001b[0;31m     \u001b[0;32mreturn\u001b[0m \u001b[0m_read\u001b[0m\u001b[0;34m(\u001b[0m\u001b[0mfilepath_or_buffer\u001b[0m\u001b[0;34m,\u001b[0m \u001b[0mkwds\u001b[0m\u001b[0;34m)\u001b[0m\u001b[0;34m\u001b[0m\u001b[0;34m\u001b[0m\u001b[0m\n\u001b[0m\u001b[1;32m    689\u001b[0m \u001b[0;34m\u001b[0m\u001b[0m\n\u001b[1;32m    690\u001b[0m \u001b[0;34m\u001b[0m\u001b[0m\n",
      "\u001b[0;32m/nfs/b0110/Users/mencsm/miniconda3/envs/ar6/lib/python3.7/site-packages/pandas/io/parsers.py\u001b[0m in \u001b[0;36m_read\u001b[0;34m(filepath_or_buffer, kwds)\u001b[0m\n\u001b[1;32m    452\u001b[0m \u001b[0;34m\u001b[0m\u001b[0m\n\u001b[1;32m    453\u001b[0m     \u001b[0;31m# Create the parser.\u001b[0m\u001b[0;34m\u001b[0m\u001b[0;34m\u001b[0m\u001b[0;34m\u001b[0m\u001b[0m\n\u001b[0;32m--> 454\u001b[0;31m     \u001b[0mparser\u001b[0m \u001b[0;34m=\u001b[0m \u001b[0mTextFileReader\u001b[0m\u001b[0;34m(\u001b[0m\u001b[0mfp_or_buf\u001b[0m\u001b[0;34m,\u001b[0m \u001b[0;34m**\u001b[0m\u001b[0mkwds\u001b[0m\u001b[0;34m)\u001b[0m\u001b[0;34m\u001b[0m\u001b[0;34m\u001b[0m\u001b[0m\n\u001b[0m\u001b[1;32m    455\u001b[0m \u001b[0;34m\u001b[0m\u001b[0m\n\u001b[1;32m    456\u001b[0m     \u001b[0;32mif\u001b[0m \u001b[0mchunksize\u001b[0m \u001b[0;32mor\u001b[0m \u001b[0miterator\u001b[0m\u001b[0;34m:\u001b[0m\u001b[0;34m\u001b[0m\u001b[0;34m\u001b[0m\u001b[0m\n",
      "\u001b[0;32m/nfs/b0110/Users/mencsm/miniconda3/envs/ar6/lib/python3.7/site-packages/pandas/io/parsers.py\u001b[0m in \u001b[0;36m__init__\u001b[0;34m(self, f, engine, **kwds)\u001b[0m\n\u001b[1;32m    946\u001b[0m             \u001b[0mself\u001b[0m\u001b[0;34m.\u001b[0m\u001b[0moptions\u001b[0m\u001b[0;34m[\u001b[0m\u001b[0;34m\"has_index_names\"\u001b[0m\u001b[0;34m]\u001b[0m \u001b[0;34m=\u001b[0m \u001b[0mkwds\u001b[0m\u001b[0;34m[\u001b[0m\u001b[0;34m\"has_index_names\"\u001b[0m\u001b[0;34m]\u001b[0m\u001b[0;34m\u001b[0m\u001b[0;34m\u001b[0m\u001b[0m\n\u001b[1;32m    947\u001b[0m \u001b[0;34m\u001b[0m\u001b[0m\n\u001b[0;32m--> 948\u001b[0;31m         \u001b[0mself\u001b[0m\u001b[0;34m.\u001b[0m\u001b[0m_make_engine\u001b[0m\u001b[0;34m(\u001b[0m\u001b[0mself\u001b[0m\u001b[0;34m.\u001b[0m\u001b[0mengine\u001b[0m\u001b[0;34m)\u001b[0m\u001b[0;34m\u001b[0m\u001b[0;34m\u001b[0m\u001b[0m\n\u001b[0m\u001b[1;32m    949\u001b[0m \u001b[0;34m\u001b[0m\u001b[0m\n\u001b[1;32m    950\u001b[0m     \u001b[0;32mdef\u001b[0m \u001b[0mclose\u001b[0m\u001b[0;34m(\u001b[0m\u001b[0mself\u001b[0m\u001b[0;34m)\u001b[0m\u001b[0;34m:\u001b[0m\u001b[0;34m\u001b[0m\u001b[0;34m\u001b[0m\u001b[0m\n",
      "\u001b[0;32m/nfs/b0110/Users/mencsm/miniconda3/envs/ar6/lib/python3.7/site-packages/pandas/io/parsers.py\u001b[0m in \u001b[0;36m_make_engine\u001b[0;34m(self, engine)\u001b[0m\n\u001b[1;32m   1178\u001b[0m     \u001b[0;32mdef\u001b[0m \u001b[0m_make_engine\u001b[0m\u001b[0;34m(\u001b[0m\u001b[0mself\u001b[0m\u001b[0;34m,\u001b[0m \u001b[0mengine\u001b[0m\u001b[0;34m=\u001b[0m\u001b[0;34m\"c\"\u001b[0m\u001b[0;34m)\u001b[0m\u001b[0;34m:\u001b[0m\u001b[0;34m\u001b[0m\u001b[0;34m\u001b[0m\u001b[0m\n\u001b[1;32m   1179\u001b[0m         \u001b[0;32mif\u001b[0m \u001b[0mengine\u001b[0m \u001b[0;34m==\u001b[0m \u001b[0;34m\"c\"\u001b[0m\u001b[0;34m:\u001b[0m\u001b[0;34m\u001b[0m\u001b[0;34m\u001b[0m\u001b[0m\n\u001b[0;32m-> 1180\u001b[0;31m             \u001b[0mself\u001b[0m\u001b[0;34m.\u001b[0m\u001b[0m_engine\u001b[0m \u001b[0;34m=\u001b[0m \u001b[0mCParserWrapper\u001b[0m\u001b[0;34m(\u001b[0m\u001b[0mself\u001b[0m\u001b[0;34m.\u001b[0m\u001b[0mf\u001b[0m\u001b[0;34m,\u001b[0m \u001b[0;34m**\u001b[0m\u001b[0mself\u001b[0m\u001b[0;34m.\u001b[0m\u001b[0moptions\u001b[0m\u001b[0;34m)\u001b[0m\u001b[0;34m\u001b[0m\u001b[0;34m\u001b[0m\u001b[0m\n\u001b[0m\u001b[1;32m   1181\u001b[0m         \u001b[0;32melse\u001b[0m\u001b[0;34m:\u001b[0m\u001b[0;34m\u001b[0m\u001b[0;34m\u001b[0m\u001b[0m\n\u001b[1;32m   1182\u001b[0m             \u001b[0;32mif\u001b[0m \u001b[0mengine\u001b[0m \u001b[0;34m==\u001b[0m \u001b[0;34m\"python\"\u001b[0m\u001b[0;34m:\u001b[0m\u001b[0;34m\u001b[0m\u001b[0;34m\u001b[0m\u001b[0m\n",
      "\u001b[0;32m/nfs/b0110/Users/mencsm/miniconda3/envs/ar6/lib/python3.7/site-packages/pandas/io/parsers.py\u001b[0m in \u001b[0;36m__init__\u001b[0;34m(self, src, **kwds)\u001b[0m\n\u001b[1;32m   2008\u001b[0m         \u001b[0mkwds\u001b[0m\u001b[0;34m[\u001b[0m\u001b[0;34m\"usecols\"\u001b[0m\u001b[0;34m]\u001b[0m \u001b[0;34m=\u001b[0m \u001b[0mself\u001b[0m\u001b[0;34m.\u001b[0m\u001b[0musecols\u001b[0m\u001b[0;34m\u001b[0m\u001b[0;34m\u001b[0m\u001b[0m\n\u001b[1;32m   2009\u001b[0m \u001b[0;34m\u001b[0m\u001b[0m\n\u001b[0;32m-> 2010\u001b[0;31m         \u001b[0mself\u001b[0m\u001b[0;34m.\u001b[0m\u001b[0m_reader\u001b[0m \u001b[0;34m=\u001b[0m \u001b[0mparsers\u001b[0m\u001b[0;34m.\u001b[0m\u001b[0mTextReader\u001b[0m\u001b[0;34m(\u001b[0m\u001b[0msrc\u001b[0m\u001b[0;34m,\u001b[0m \u001b[0;34m**\u001b[0m\u001b[0mkwds\u001b[0m\u001b[0;34m)\u001b[0m\u001b[0;34m\u001b[0m\u001b[0;34m\u001b[0m\u001b[0m\n\u001b[0m\u001b[1;32m   2011\u001b[0m         \u001b[0mself\u001b[0m\u001b[0;34m.\u001b[0m\u001b[0munnamed_cols\u001b[0m \u001b[0;34m=\u001b[0m \u001b[0mself\u001b[0m\u001b[0;34m.\u001b[0m\u001b[0m_reader\u001b[0m\u001b[0;34m.\u001b[0m\u001b[0munnamed_cols\u001b[0m\u001b[0;34m\u001b[0m\u001b[0;34m\u001b[0m\u001b[0m\n\u001b[1;32m   2012\u001b[0m \u001b[0;34m\u001b[0m\u001b[0m\n",
      "\u001b[0;32mpandas/_libs/parsers.pyx\u001b[0m in \u001b[0;36mpandas._libs.parsers.TextReader.__cinit__\u001b[0;34m()\u001b[0m\n",
      "\u001b[0;32mpandas/_libs/parsers.pyx\u001b[0m in \u001b[0;36mpandas._libs.parsers.TextReader._setup_parser_source\u001b[0;34m()\u001b[0m\n",
      "\u001b[0;31mFileNotFoundError\u001b[0m: [Errno 2] No such file or directory: '../data_input/7sm/metrics_supplement.csv'"
     ]
    }
   ],
   "source": [
    "# Raw metrics file from Bill Collins\n",
    "df = pd.read_csv('../data_input/7sm/metrics_supplement.csv')"
   ]
  },
  {
   "cell_type": "code",
   "execution_count": null,
   "id": "normal-biodiversity",
   "metadata": {},
   "outputs": [],
   "source": [
    "df"
   ]
  },
  {
   "cell_type": "code",
   "execution_count": null,
   "id": "037839d4",
   "metadata": {},
   "outputs": [],
   "source": [
    "lt = df.loc[df['Acronym']=='CFC-11', 'Lifetime (yr)'].values[0]\n",
    "re = df.loc[df['Acronym']=='CFC-11', 'Radiative efficiency (W m-2 ppb-1)'].values[0]"
   ]
  },
  {
   "cell_type": "code",
   "execution_count": null,
   "id": "f8e5c4bc",
   "metadata": {},
   "outputs": [],
   "source": [
    "re"
   ]
  },
  {
   "cell_type": "code",
   "execution_count": null,
   "id": "8d07f802",
   "metadata": {},
   "outputs": [],
   "source": [
    "gwp(100, lt, re, molwt.CFC11)"
   ]
  },
  {
   "cell_type": "code",
   "execution_count": null,
   "id": "4f51f1ea",
   "metadata": {},
   "outputs": [],
   "source": []
  }
 ],
 "metadata": {
  "kernelspec": {
   "display_name": "Python 3",
   "language": "python",
   "name": "python3"
  },
  "language_info": {
   "codemirror_mode": {
    "name": "ipython",
    "version": 3
   },
   "file_extension": ".py",
   "mimetype": "text/x-python",
   "name": "python",
   "nbconvert_exporter": "python",
   "pygments_lexer": "ipython3",
   "version": "3.7.10"
  }
 },
 "nbformat": 4,
 "nbformat_minor": 5
}
