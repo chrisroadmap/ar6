{
 "cells": [
  {
   "cell_type": "markdown",
   "metadata": {},
   "source": [
    "# SPM4 bonus material for Bill\n",
    "\n",
    "Theme Song: La Di Da<br>\n",
    "Artist: VUKOVI<br>\n",
    "Album: VUKOVI<br>\n",
    "Released: 2017"
   ]
  },
  {
   "cell_type": "code",
   "execution_count": 1,
   "metadata": {},
   "outputs": [],
   "source": [
    "import numpy as np\n",
    "import scipy.stats as st\n",
    "import pandas as pd\n",
    "import matplotlib.pyplot as pl\n",
    "import os\n",
    "from matplotlib import gridspec, rc\n",
    "from matplotlib.lines import Line2D\n",
    "import matplotlib.patches as mp\n",
    "from netCDF4 import Dataset\n",
    "import warnings\n",
    "\n",
    "from ar6.utils.h5 import *"
   ]
  },
  {
   "cell_type": "code",
   "execution_count": 2,
   "metadata": {},
   "outputs": [],
   "source": [
    "# TODO - sort out figure sizing\n",
    "\n",
    "pl.rcParams['figure.figsize'] = (18/2.54, 11/2.54)\n",
    "pl.rcParams['font.size'] = 11\n",
    "pl.rcParams['font.family'] = 'Arial'\n",
    "pl.rcParams['xtick.direction'] = 'out'\n",
    "pl.rcParams['xtick.minor.visible'] = True\n",
    "pl.rcParams['ytick.major.left'] = True\n",
    "pl.rcParams['ytick.major.size'] = 0\n",
    "pl.rcParams['xtick.top'] = True\n",
    "pl.rcParams['figure.dpi'] = 150"
   ]
  },
  {
   "cell_type": "code",
   "execution_count": 3,
   "metadata": {},
   "outputs": [],
   "source": [
    "results = load_dict_from_hdf5('../data_output_large/twolayer_SSPs.h5')"
   ]
  },
  {
   "cell_type": "code",
   "execution_count": 4,
   "metadata": {},
   "outputs": [
    {
     "data": {
      "text/plain": [
       "(351, 2237)"
      ]
     },
     "execution_count": 4,
     "metadata": {},
     "output_type": "execute_result"
    }
   ],
   "source": [
    "results['ssp245']['surface_temperature'].shape"
   ]
  },
  {
   "cell_type": "code",
   "execution_count": 5,
   "metadata": {},
   "outputs": [
    {
     "data": {
      "text/plain": [
       "1.2882961864594409"
      ]
     },
     "execution_count": 5,
     "metadata": {},
     "output_type": "execute_result"
    }
   ],
   "source": [
    "results['ssp245']['surface_temperature'][269].mean()"
   ]
  },
  {
   "cell_type": "code",
   "execution_count": 6,
   "metadata": {},
   "outputs": [
    {
     "name": "stdout",
     "output_type": "stream",
     "text": [
      "ssp119 co2 1.184257818138223\n",
      "ssp119 ch4 0.1479647406367096\n",
      "ssp119 aerosol -0.16204737745274067\n",
      "ssp126 co2 1.5144231930207652\n",
      "ssp126 ch4 0.15700660225583174\n",
      "ssp126 aerosol -0.16330764057886007\n",
      "ssp245 co2 2.218355784976657\n",
      "ssp245 ch4 0.2848954746587781\n",
      "ssp245 aerosol -0.27867451649624025\n",
      "ssp370 co2 2.9466805281763078\n",
      "ssp370 ch4 0.4981462326525\n",
      "ssp370 aerosol -0.5732443586633299\n",
      "ssp585 co2 3.5989803009371477\n",
      "ssp585 ch4 0.42262311099467836\n",
      "ssp585 aerosol -0.327737943985368\n"
     ]
    }
   ],
   "source": [
    "forcings = ['co2', 'ch4', 'aerosol']\n",
    "scenarios = ['ssp119', 'ssp126', 'ssp245', 'ssp370', 'ssp585']\n",
    "for scenario in scenarios:\n",
    "    for forcing in forcings:\n",
    "        print(scenario, forcing, (results[scenario]['surface_temperature'][331:351] - results['%s_remove_%s' % (scenario, forcing)]['surface_temperature'][331:351]).mean())"
   ]
  },
  {
   "cell_type": "code",
   "execution_count": 7,
   "metadata": {},
   "outputs": [
    {
     "data": {
      "text/plain": [
       "(83, 2237)"
      ]
     },
     "execution_count": 7,
     "metadata": {},
     "output_type": "execute_result"
    }
   ],
   "source": [
    "(results['%s_remove_%s' % (scenario, forcing)]['surface_temperature'][268:351] - results['%s_remove_%s' % (scenario, forcing)]['surface_temperature'][0]).shape"
   ]
  },
  {
   "cell_type": "code",
   "execution_count": 8,
   "metadata": {},
   "outputs": [],
   "source": [
    "forcings = ['co2', 'ch4', 'aerosol', 'other_ghg', 'other_anthro']\n",
    "\n",
    "AR6_ecsforc = {}\n",
    "scenarios = ['ssp119', 'ssp126', 'ssp245', 'ssp370', 'ssp585']\n",
    "\n",
    "base_period = slice(100,151)\n",
    "\n",
    "for scenario in scenarios:\n",
    "    AR6_ecsforc[scenario] = {}\n",
    "    for forcing in forcings:\n",
    "#        AR6_ecsforc[scenario][forcing] = np.zeros((83, 5))\n",
    "        AR6_ecsforc[scenario][forcing] = np.percentile(\n",
    "            (\n",
    "                (results['%s_climuncert' % scenario]['surface_temperature'][268:351] - results['%s_climuncert' % scenario]['surface_temperature'][base_period].mean(axis=0))-\n",
    "                (results['%s_remove_%s_climuncert' % (scenario, forcing)]['surface_temperature'][268:351] - results['%s_remove_%s_climuncert' % (scenario, forcing)]['surface_temperature'][base_period].mean(axis=0))\n",
    "            ), (5,16,50,84,95), axis=1\n",
    "        )\n",
    "    AR6_ecsforc[scenario]['anthro'] = np.percentile(results['%s_climuncert' % scenario]['surface_temperature'][268:351] - results['%s_climuncert' % scenario]['surface_temperature'][base_period].mean(axis=0), (5,16,50,84,95), axis=1)"
   ]
  },
  {
   "cell_type": "code",
   "execution_count": 9,
   "metadata": {},
   "outputs": [],
   "source": [
    "output = []\n",
    "for scenario in scenarios:\n",
    "    for forcing in ['co2', 'ch4', 'aerosol', 'other_ghg', 'other_anthro', 'anthro']:\n",
    "        output.append([scenario, forcing]+[i for i in AR6_ecsforc[scenario][forcing][2,:]])\n",
    "\n",
    "df = pd.DataFrame(output, columns=['scenario', 'forcing'] + list(range(2018,2101)))\n",
    "df.to_csv('../data_output/spm4_extended_warming_contributions.csv', index=False)"
   ]
  },
  {
   "cell_type": "code",
   "execution_count": null,
   "metadata": {},
   "outputs": [],
   "source": []
  }
 ],
 "metadata": {
  "kernelspec": {
   "display_name": "Python 3",
   "language": "python",
   "name": "python3"
  },
  "language_info": {
   "codemirror_mode": {
    "name": "ipython",
    "version": 3
   },
   "file_extension": ".py",
   "mimetype": "text/x-python",
   "name": "python",
   "nbconvert_exporter": "python",
   "pygments_lexer": "ipython3",
   "version": "3.7.10"
  }
 },
 "nbformat": 4,
 "nbformat_minor": 4
}
