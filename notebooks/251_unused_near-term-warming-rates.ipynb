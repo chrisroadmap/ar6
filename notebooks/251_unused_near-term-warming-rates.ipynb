{
 "cells": [
  {
   "cell_type": "markdown",
   "id": "34a9065a",
   "metadata": {},
   "source": [
    "# Attributable near term warming\n",
    "\n",
    "For CONSTRAIN project and unrelated to AR6\n",
    "\n",
    "Theme Song: The Voiceless<br>\n",
    "Artist: And So I Watch You From Afar<br>\n",
    "Album: And So I Watch You From Afar<br>\n",
    "Released: 2009<br>"
   ]
  },
  {
   "cell_type": "code",
   "execution_count": 1,
   "id": "060597e1",
   "metadata": {},
   "outputs": [],
   "source": [
    "from ar6.utils.h5 import *\n",
    "from ar6.utils import mkdir_p\n",
    "import pandas as pd"
   ]
  },
  {
   "cell_type": "code",
   "execution_count": 2,
   "id": "73f76db3",
   "metadata": {},
   "outputs": [],
   "source": [
    "results = load_dict_from_hdf5('../data_output_large/twolayer_SSPs.h5')"
   ]
  },
  {
   "cell_type": "code",
   "execution_count": 3,
   "id": "c7f15911",
   "metadata": {},
   "outputs": [],
   "source": [
    "AR6_ecsforc = {}\n",
    "\n",
    "forcings = ['co2', 'other_ghg', 'aerosol']\n",
    "scenarios = ['ssp119', 'ssp126', 'ssp245', 'ssp370', 'ssp585']\n",
    "\n",
    "# 1850-1900 mean\n",
    "base_period = slice(100,151)\n",
    "\n",
    "for scenario in scenarios:\n",
    "    AR6_ecsforc[scenario] = {}\n",
    "    for forcing in forcings:\n",
    "        AR6_ecsforc[scenario][forcing] = (\n",
    "            (results['%s_climuncert' % scenario]['surface_temperature'][270:291,:] - results['%s_climuncert' % scenario]['surface_temperature'][base_period].mean(axis=0))-\n",
    "            (results['%s_remove_%s_climuncert' % (scenario, forcing)]['surface_temperature'][270:291,:] - results['%s_remove_%s_climuncert' % (scenario, forcing)]['surface_temperature'][base_period].mean(axis=0))\n",
    "        ).T\n",
    "    AR6_ecsforc[scenario]['anthro'] = {}\n",
    "    AR6_ecsforc[scenario]['anthro'] = (\n",
    "        results['%s_climuncert' % scenario]['surface_temperature'][270:291,:] - results['%s_climuncert' % scenario]['surface_temperature'][base_period].mean(axis=0)\n",
    "    ).T"
   ]
  },
  {
   "cell_type": "code",
   "execution_count": 4,
   "id": "df6aadbb",
   "metadata": {},
   "outputs": [],
   "source": [
    "mkdir_p('../data_output_large/near_term_warming/')"
   ]
  },
  {
   "cell_type": "code",
   "execution_count": 5,
   "id": "5bbb98b5",
   "metadata": {},
   "outputs": [],
   "source": [
    "for scenario in scenarios:\n",
    "    for forcing in forcings + ['anthro']:\n",
    "        df = pd.DataFrame(AR6_ecsforc[scenario][forcing], columns=range(2020,2041))\n",
    "        df.to_csv('../data_output_large/near_term_warming/%s_%s.csv' % (scenario, forcing))"
   ]
  },
  {
   "cell_type": "code",
   "execution_count": null,
   "id": "efca10de",
   "metadata": {},
   "outputs": [],
   "source": []
  }
 ],
 "metadata": {
  "kernelspec": {
   "display_name": "Python 3",
   "language": "python",
   "name": "python3"
  },
  "language_info": {
   "codemirror_mode": {
    "name": "ipython",
    "version": 3
   },
   "file_extension": ".py",
   "mimetype": "text/x-python",
   "name": "python",
   "nbconvert_exporter": "python",
   "pygments_lexer": "ipython3",
   "version": "3.7.10"
  }
 },
 "nbformat": 4,
 "nbformat_minor": 5
}
