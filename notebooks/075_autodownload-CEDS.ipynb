{
 "cells": [
  {
   "cell_type": "markdown",
   "id": "f039be3c",
   "metadata": {},
   "source": [
    "# Download CEDS data\n",
    "\n",
    "Many notebooks later in the package use it, but it's not automatically downloaded.\n",
    "\n",
    "Theme Song: Anesthetize<br>\n",
    "Artist: Porcupine Tree<br>\n",
    "Album: Fear of a Blank Planet<br>\n",
    "Released: 2007"
   ]
  },
  {
   "cell_type": "code",
   "execution_count": 1,
   "id": "4c065b90",
   "metadata": {},
   "outputs": [],
   "source": [
    "from ar6.utils import check_and_download, mkdir_p\n",
    "import zipfile\n",
    "import os"
   ]
  },
  {
   "cell_type": "code",
   "execution_count": 2,
   "id": "e4dda068",
   "metadata": {},
   "outputs": [],
   "source": [
    "mkdir_p('../data_input_large/')"
   ]
  },
  {
   "cell_type": "code",
   "execution_count": 3,
   "id": "b0e73f88",
   "metadata": {},
   "outputs": [],
   "source": [
    "check_and_download('../data_input_large/CEDS_v_2020_09_11_emissions.zip', \"https://zenodo.org/record/4025316/files/CEDS_v_2020_09_11_emissions.zip\")"
   ]
  },
  {
   "cell_type": "code",
   "execution_count": 4,
   "id": "6284adef",
   "metadata": {},
   "outputs": [],
   "source": [
    "with zipfile.ZipFile('../data_input_large/CEDS_v_2020_09_11_emissions.zip', 'r') as zip_ref:\n",
    "    zip_ref.extractall('../data_input_large/CEDS_v_2020_09_11_emissions/')"
   ]
  },
  {
   "cell_type": "code",
   "execution_count": 5,
   "id": "b4f943e7",
   "metadata": {},
   "outputs": [],
   "source": [
    "os.remove('../data_input_large/CEDS_v_2020_09_11_emissions.zip')"
   ]
  },
  {
   "cell_type": "code",
   "execution_count": null,
   "id": "2b028747",
   "metadata": {},
   "outputs": [],
   "source": []
  }
 ],
 "metadata": {
  "kernelspec": {
   "display_name": "Python 3 (ipykernel)",
   "language": "python",
   "name": "python3"
  },
  "language_info": {
   "codemirror_mode": {
    "name": "ipython",
    "version": 3
   },
   "file_extension": ".py",
   "mimetype": "text/x-python",
   "name": "python",
   "nbconvert_exporter": "python",
   "pygments_lexer": "ipython3",
   "version": "3.7.11"
  }
 },
 "nbformat": 4,
 "nbformat_minor": 5
}
