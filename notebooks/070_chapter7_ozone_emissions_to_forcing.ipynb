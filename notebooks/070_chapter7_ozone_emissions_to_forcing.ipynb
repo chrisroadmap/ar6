{
 "cells": [
  {
   "cell_type": "markdown",
   "metadata": {},
   "source": [
    "# Correspondence of precursor emissions to ozone forcing\n",
    "\n",
    "In AR6, we do not separate tropospheric and stratospheric ozone.\n",
    "\n",
    "Coefficients provided by AerChemMIP models contributing to Thornhill et al. (2021a), and historical time series from Skeie et al. 2020. The forcing dependence on temperature is from Thornhill et al. (2021b)\n",
    "\n",
    "Use this tuning in FaIRv1.6.2 to run WG1 and WG3 assessment pathways\n",
    "\n",
    "- Skeie et al. 2020  https://www.nature.com/articles/s41612-020-00131-0\n",
    "- Thornhill et al. 2021a  https://acp.copernicus.org/preprints/acp-2019-1205/acp-2019-1205.pdf\n",
    "- Thornhill et al. 2021b  https://acp.copernicus.org/preprints/acp-2019-1207/acp-2019-1207.pdf\n",
    "\n",
    "Theme Song: The Bell<br>\n",
    "Artist: iamthemorning<br>\n",
    "Album: The Bell<br>\n",
    "Released: 2019"
   ]
  },
  {
   "cell_type": "code",
   "execution_count": 1,
   "metadata": {},
   "outputs": [],
   "source": [
    "import fair\n",
    "import numpy as np\n",
    "import pandas as pd\n",
    "import matplotlib.pyplot as pl\n",
    "from fair.constants import molwt\n",
    "from fair.forcing.ozone_tr import stevenson\n",
    "from scipy.interpolate import interp1d\n",
    "from scipy.optimize import curve_fit\n",
    "import copy\n",
    "\n",
    "from ar6.forcing.ozone import eesc\n",
    "from ar6.constants.gases import rcmip_to_ghg_names"
   ]
  },
  {
   "cell_type": "markdown",
   "metadata": {},
   "source": [
    "## The historcial forcing time series\n",
    "\n",
    "Follow Skeie et al., 2020 exclusively for the historical (1850-2010)\n",
    "\n",
    "Update 18.01.2020: 0.47 1750-2019 - the foot has come down<br>\n",
    "Update 20.06.2021: Save split into trop and strat for John Fyfe"
   ]
  },
  {
   "cell_type": "code",
   "execution_count": 2,
   "metadata": {},
   "outputs": [],
   "source": [
    "good_models = ['BCC-ESM1', 'CESM2(WACCM6)', 'GFDL-ESM4', 'GISS-E2-1-H', 'MRI-ESM2-0', 'OsloCTM3']\n",
    "skeie_trop = pd.read_csv('../data_input/Skeie_et_al_npj_2020/skeie_ozone_trop.csv', index_col=0)\n",
    "skeie_trop = skeie_trop.loc[good_models]\n",
    "skeie_trop.insert(0, 1850, 0)\n",
    "skeie_trop.columns = pd.to_numeric(skeie_trop.columns)\n",
    "skeie_trop.interpolate(axis=1, method='values', limit_area='inside', inplace=True)"
   ]
  },
  {
   "cell_type": "code",
   "execution_count": 3,
   "metadata": {},
   "outputs": [
    {
     "data": {
      "text/html": [
       "<div>\n",
       "<style scoped>\n",
       "    .dataframe tbody tr th:only-of-type {\n",
       "        vertical-align: middle;\n",
       "    }\n",
       "\n",
       "    .dataframe tbody tr th {\n",
       "        vertical-align: top;\n",
       "    }\n",
       "\n",
       "    .dataframe thead th {\n",
       "        text-align: right;\n",
       "    }\n",
       "</style>\n",
       "<table border=\"1\" class=\"dataframe\">\n",
       "  <thead>\n",
       "    <tr style=\"text-align: right;\">\n",
       "      <th></th>\n",
       "      <th>1850</th>\n",
       "      <th>1920</th>\n",
       "      <th>1930</th>\n",
       "      <th>1940</th>\n",
       "      <th>1950</th>\n",
       "      <th>1960</th>\n",
       "      <th>1970</th>\n",
       "      <th>1980</th>\n",
       "      <th>1990</th>\n",
       "      <th>2000</th>\n",
       "      <th>2007</th>\n",
       "      <th>2010</th>\n",
       "      <th>2014</th>\n",
       "      <th>2017</th>\n",
       "      <th>2020</th>\n",
       "    </tr>\n",
       "    <tr>\n",
       "      <th>Model</th>\n",
       "      <th></th>\n",
       "      <th></th>\n",
       "      <th></th>\n",
       "      <th></th>\n",
       "      <th></th>\n",
       "      <th></th>\n",
       "      <th></th>\n",
       "      <th></th>\n",
       "      <th></th>\n",
       "      <th></th>\n",
       "      <th></th>\n",
       "      <th></th>\n",
       "      <th></th>\n",
       "      <th></th>\n",
       "      <th></th>\n",
       "    </tr>\n",
       "  </thead>\n",
       "  <tbody>\n",
       "    <tr>\n",
       "      <th>BCC-ESM1</th>\n",
       "      <td>0.0</td>\n",
       "      <td>0.05020</td>\n",
       "      <td>0.06650</td>\n",
       "      <td>0.07970</td>\n",
       "      <td>0.1030</td>\n",
       "      <td>0.14860</td>\n",
       "      <td>0.2012</td>\n",
       "      <td>0.2367</td>\n",
       "      <td>0.2643</td>\n",
       "      <td>0.3086</td>\n",
       "      <td>0.3347</td>\n",
       "      <td>0.3404</td>\n",
       "      <td>NaN</td>\n",
       "      <td>NaN</td>\n",
       "      <td>NaN</td>\n",
       "    </tr>\n",
       "    <tr>\n",
       "      <th>CESM2(WACCM6)</th>\n",
       "      <td>0.0</td>\n",
       "      <td>0.04420</td>\n",
       "      <td>0.05930</td>\n",
       "      <td>0.08410</td>\n",
       "      <td>0.1003</td>\n",
       "      <td>0.14520</td>\n",
       "      <td>0.1939</td>\n",
       "      <td>0.2350</td>\n",
       "      <td>0.2822</td>\n",
       "      <td>0.3318</td>\n",
       "      <td>0.3518</td>\n",
       "      <td>0.3711</td>\n",
       "      <td>NaN</td>\n",
       "      <td>NaN</td>\n",
       "      <td>NaN</td>\n",
       "    </tr>\n",
       "    <tr>\n",
       "      <th>GFDL-ESM4</th>\n",
       "      <td>0.0</td>\n",
       "      <td>0.05220</td>\n",
       "      <td>0.06250</td>\n",
       "      <td>0.08600</td>\n",
       "      <td>0.1096</td>\n",
       "      <td>0.16210</td>\n",
       "      <td>0.2113</td>\n",
       "      <td>0.2463</td>\n",
       "      <td>0.2733</td>\n",
       "      <td>0.3116</td>\n",
       "      <td>0.3280</td>\n",
       "      <td>0.3392</td>\n",
       "      <td>NaN</td>\n",
       "      <td>NaN</td>\n",
       "      <td>NaN</td>\n",
       "    </tr>\n",
       "    <tr>\n",
       "      <th>GISS-E2-1-H</th>\n",
       "      <td>0.0</td>\n",
       "      <td>0.04930</td>\n",
       "      <td>0.06740</td>\n",
       "      <td>0.07670</td>\n",
       "      <td>0.1137</td>\n",
       "      <td>0.14790</td>\n",
       "      <td>0.1850</td>\n",
       "      <td>0.2209</td>\n",
       "      <td>0.2684</td>\n",
       "      <td>0.3266</td>\n",
       "      <td>0.3593</td>\n",
       "      <td>0.3660</td>\n",
       "      <td>NaN</td>\n",
       "      <td>NaN</td>\n",
       "      <td>NaN</td>\n",
       "    </tr>\n",
       "    <tr>\n",
       "      <th>MRI-ESM2-0</th>\n",
       "      <td>0.0</td>\n",
       "      <td>0.05700</td>\n",
       "      <td>0.07230</td>\n",
       "      <td>0.08570</td>\n",
       "      <td>0.1096</td>\n",
       "      <td>0.15920</td>\n",
       "      <td>0.2159</td>\n",
       "      <td>0.2661</td>\n",
       "      <td>0.3122</td>\n",
       "      <td>0.3320</td>\n",
       "      <td>0.3397</td>\n",
       "      <td>0.3448</td>\n",
       "      <td>NaN</td>\n",
       "      <td>NaN</td>\n",
       "      <td>NaN</td>\n",
       "    </tr>\n",
       "    <tr>\n",
       "      <th>OsloCTM3</th>\n",
       "      <td>0.0</td>\n",
       "      <td>0.08204</td>\n",
       "      <td>0.09376</td>\n",
       "      <td>0.10548</td>\n",
       "      <td>0.1172</td>\n",
       "      <td>0.17065</td>\n",
       "      <td>0.2241</td>\n",
       "      <td>0.2777</td>\n",
       "      <td>0.3173</td>\n",
       "      <td>0.3527</td>\n",
       "      <td>0.3987</td>\n",
       "      <td>0.4047</td>\n",
       "      <td>0.4209</td>\n",
       "      <td>0.4117</td>\n",
       "      <td>0.4274</td>\n",
       "    </tr>\n",
       "  </tbody>\n",
       "</table>\n",
       "</div>"
      ],
      "text/plain": [
       "               1850     1920     1930     1940    1950     1960    1970  \\\n",
       "Model                                                                     \n",
       "BCC-ESM1        0.0  0.05020  0.06650  0.07970  0.1030  0.14860  0.2012   \n",
       "CESM2(WACCM6)   0.0  0.04420  0.05930  0.08410  0.1003  0.14520  0.1939   \n",
       "GFDL-ESM4       0.0  0.05220  0.06250  0.08600  0.1096  0.16210  0.2113   \n",
       "GISS-E2-1-H     0.0  0.04930  0.06740  0.07670  0.1137  0.14790  0.1850   \n",
       "MRI-ESM2-0      0.0  0.05700  0.07230  0.08570  0.1096  0.15920  0.2159   \n",
       "OsloCTM3        0.0  0.08204  0.09376  0.10548  0.1172  0.17065  0.2241   \n",
       "\n",
       "                 1980    1990    2000    2007    2010    2014    2017    2020  \n",
       "Model                                                                          \n",
       "BCC-ESM1       0.2367  0.2643  0.3086  0.3347  0.3404     NaN     NaN     NaN  \n",
       "CESM2(WACCM6)  0.2350  0.2822  0.3318  0.3518  0.3711     NaN     NaN     NaN  \n",
       "GFDL-ESM4      0.2463  0.2733  0.3116  0.3280  0.3392     NaN     NaN     NaN  \n",
       "GISS-E2-1-H    0.2209  0.2684  0.3266  0.3593  0.3660     NaN     NaN     NaN  \n",
       "MRI-ESM2-0     0.2661  0.3122  0.3320  0.3397  0.3448     NaN     NaN     NaN  \n",
       "OsloCTM3       0.2777  0.3173  0.3527  0.3987  0.4047  0.4209  0.4117  0.4274  "
      ]
     },
     "execution_count": 3,
     "metadata": {},
     "output_type": "execute_result"
    }
   ],
   "source": [
    "skeie_trop"
   ]
  },
  {
   "cell_type": "code",
   "execution_count": 4,
   "metadata": {},
   "outputs": [
    {
     "data": {
      "text/html": [
       "<div>\n",
       "<style scoped>\n",
       "    .dataframe tbody tr th:only-of-type {\n",
       "        vertical-align: middle;\n",
       "    }\n",
       "\n",
       "    .dataframe tbody tr th {\n",
       "        vertical-align: top;\n",
       "    }\n",
       "\n",
       "    .dataframe thead th {\n",
       "        text-align: right;\n",
       "    }\n",
       "</style>\n",
       "<table border=\"1\" class=\"dataframe\">\n",
       "  <thead>\n",
       "    <tr style=\"text-align: right;\">\n",
       "      <th></th>\n",
       "      <th>1850</th>\n",
       "      <th>1920</th>\n",
       "      <th>1930</th>\n",
       "      <th>1940</th>\n",
       "      <th>1950</th>\n",
       "      <th>1960</th>\n",
       "      <th>1970</th>\n",
       "      <th>1980</th>\n",
       "      <th>1990</th>\n",
       "      <th>2000</th>\n",
       "      <th>2007</th>\n",
       "      <th>2010</th>\n",
       "      <th>2014</th>\n",
       "      <th>2017</th>\n",
       "      <th>2020</th>\n",
       "    </tr>\n",
       "    <tr>\n",
       "      <th>Model</th>\n",
       "      <th></th>\n",
       "      <th></th>\n",
       "      <th></th>\n",
       "      <th></th>\n",
       "      <th></th>\n",
       "      <th></th>\n",
       "      <th></th>\n",
       "      <th></th>\n",
       "      <th></th>\n",
       "      <th></th>\n",
       "      <th></th>\n",
       "      <th></th>\n",
       "      <th></th>\n",
       "      <th></th>\n",
       "      <th></th>\n",
       "    </tr>\n",
       "  </thead>\n",
       "  <tbody>\n",
       "    <tr>\n",
       "      <th>BCC-ESM1</th>\n",
       "      <td>0.0</td>\n",
       "      <td>0.00760</td>\n",
       "      <td>0.0092</td>\n",
       "      <td>0.01430</td>\n",
       "      <td>0.0239</td>\n",
       "      <td>0.03590</td>\n",
       "      <td>0.0496</td>\n",
       "      <td>0.0367</td>\n",
       "      <td>0.0085</td>\n",
       "      <td>0.0147</td>\n",
       "      <td>0.0189</td>\n",
       "      <td>0.0207</td>\n",
       "      <td>NaN</td>\n",
       "      <td>NaN</td>\n",
       "      <td>NaN</td>\n",
       "    </tr>\n",
       "    <tr>\n",
       "      <th>CESM2(WACCM6)</th>\n",
       "      <td>0.0</td>\n",
       "      <td>0.02020</td>\n",
       "      <td>0.0221</td>\n",
       "      <td>0.04000</td>\n",
       "      <td>0.0346</td>\n",
       "      <td>0.04460</td>\n",
       "      <td>0.0533</td>\n",
       "      <td>0.0530</td>\n",
       "      <td>0.0282</td>\n",
       "      <td>0.0468</td>\n",
       "      <td>0.0456</td>\n",
       "      <td>0.0578</td>\n",
       "      <td>NaN</td>\n",
       "      <td>NaN</td>\n",
       "      <td>NaN</td>\n",
       "    </tr>\n",
       "    <tr>\n",
       "      <th>GFDL-ESM4</th>\n",
       "      <td>0.0</td>\n",
       "      <td>0.01380</td>\n",
       "      <td>0.0126</td>\n",
       "      <td>0.02260</td>\n",
       "      <td>0.0315</td>\n",
       "      <td>0.03600</td>\n",
       "      <td>0.0331</td>\n",
       "      <td>0.0145</td>\n",
       "      <td>-0.0397</td>\n",
       "      <td>-0.0209</td>\n",
       "      <td>-0.0206</td>\n",
       "      <td>-0.0170</td>\n",
       "      <td>NaN</td>\n",
       "      <td>NaN</td>\n",
       "      <td>NaN</td>\n",
       "    </tr>\n",
       "    <tr>\n",
       "      <th>GISS-E2-1-H</th>\n",
       "      <td>0.0</td>\n",
       "      <td>0.01820</td>\n",
       "      <td>0.0122</td>\n",
       "      <td>-0.00030</td>\n",
       "      <td>0.0248</td>\n",
       "      <td>0.02330</td>\n",
       "      <td>0.0321</td>\n",
       "      <td>0.0913</td>\n",
       "      <td>0.1171</td>\n",
       "      <td>0.0737</td>\n",
       "      <td>0.0776</td>\n",
       "      <td>0.0898</td>\n",
       "      <td>NaN</td>\n",
       "      <td>NaN</td>\n",
       "      <td>NaN</td>\n",
       "    </tr>\n",
       "    <tr>\n",
       "      <th>MRI-ESM2-0</th>\n",
       "      <td>0.0</td>\n",
       "      <td>0.00720</td>\n",
       "      <td>0.0144</td>\n",
       "      <td>0.01230</td>\n",
       "      <td>0.0198</td>\n",
       "      <td>0.03200</td>\n",
       "      <td>0.0570</td>\n",
       "      <td>0.0668</td>\n",
       "      <td>0.0618</td>\n",
       "      <td>0.0474</td>\n",
       "      <td>0.0403</td>\n",
       "      <td>0.0411</td>\n",
       "      <td>NaN</td>\n",
       "      <td>NaN</td>\n",
       "      <td>NaN</td>\n",
       "    </tr>\n",
       "    <tr>\n",
       "      <th>OsloCTM3</th>\n",
       "      <td>0.0</td>\n",
       "      <td>0.02485</td>\n",
       "      <td>0.0284</td>\n",
       "      <td>0.03195</td>\n",
       "      <td>0.0355</td>\n",
       "      <td>0.04535</td>\n",
       "      <td>0.0552</td>\n",
       "      <td>0.0710</td>\n",
       "      <td>0.0819</td>\n",
       "      <td>0.0876</td>\n",
       "      <td>0.1102</td>\n",
       "      <td>0.1198</td>\n",
       "      <td>0.1318</td>\n",
       "      <td>0.1294</td>\n",
       "      <td>0.1359</td>\n",
       "    </tr>\n",
       "  </tbody>\n",
       "</table>\n",
       "</div>"
      ],
      "text/plain": [
       "               1850     1920    1930     1940    1950     1960    1970  \\\n",
       "Model                                                                    \n",
       "BCC-ESM1        0.0  0.00760  0.0092  0.01430  0.0239  0.03590  0.0496   \n",
       "CESM2(WACCM6)   0.0  0.02020  0.0221  0.04000  0.0346  0.04460  0.0533   \n",
       "GFDL-ESM4       0.0  0.01380  0.0126  0.02260  0.0315  0.03600  0.0331   \n",
       "GISS-E2-1-H     0.0  0.01820  0.0122 -0.00030  0.0248  0.02330  0.0321   \n",
       "MRI-ESM2-0      0.0  0.00720  0.0144  0.01230  0.0198  0.03200  0.0570   \n",
       "OsloCTM3        0.0  0.02485  0.0284  0.03195  0.0355  0.04535  0.0552   \n",
       "\n",
       "                 1980    1990    2000    2007    2010    2014    2017    2020  \n",
       "Model                                                                          \n",
       "BCC-ESM1       0.0367  0.0085  0.0147  0.0189  0.0207     NaN     NaN     NaN  \n",
       "CESM2(WACCM6)  0.0530  0.0282  0.0468  0.0456  0.0578     NaN     NaN     NaN  \n",
       "GFDL-ESM4      0.0145 -0.0397 -0.0209 -0.0206 -0.0170     NaN     NaN     NaN  \n",
       "GISS-E2-1-H    0.0913  0.1171  0.0737  0.0776  0.0898     NaN     NaN     NaN  \n",
       "MRI-ESM2-0     0.0668  0.0618  0.0474  0.0403  0.0411     NaN     NaN     NaN  \n",
       "OsloCTM3       0.0710  0.0819  0.0876  0.1102  0.1198  0.1318  0.1294  0.1359  "
      ]
     },
     "execution_count": 4,
     "metadata": {},
     "output_type": "execute_result"
    }
   ],
   "source": [
    "skeie_strat = pd.read_csv('../data_input/Skeie_et_al_npj_2020/skeie_ozone_strat.csv', index_col=0)\n",
    "skeie_strat = skeie_strat.loc[good_models]\n",
    "skeie_strat.insert(0, 1850, 0)\n",
    "skeie_strat.columns = pd.to_numeric(skeie_strat.columns)\n",
    "skeie_strat.interpolate(axis=1, method='values', limit_area='inside', inplace=True)\n",
    "skeie_strat"
   ]
  },
  {
   "cell_type": "code",
   "execution_count": 5,
   "metadata": {},
   "outputs": [
    {
     "data": {
      "text/html": [
       "<div>\n",
       "<style scoped>\n",
       "    .dataframe tbody tr th:only-of-type {\n",
       "        vertical-align: middle;\n",
       "    }\n",
       "\n",
       "    .dataframe tbody tr th {\n",
       "        vertical-align: top;\n",
       "    }\n",
       "\n",
       "    .dataframe thead th {\n",
       "        text-align: right;\n",
       "    }\n",
       "</style>\n",
       "<table border=\"1\" class=\"dataframe\">\n",
       "  <thead>\n",
       "    <tr style=\"text-align: right;\">\n",
       "      <th></th>\n",
       "      <th>1850</th>\n",
       "      <th>1920</th>\n",
       "      <th>1930</th>\n",
       "      <th>1940</th>\n",
       "      <th>1950</th>\n",
       "      <th>1960</th>\n",
       "      <th>1970</th>\n",
       "      <th>1980</th>\n",
       "      <th>1990</th>\n",
       "      <th>2000</th>\n",
       "      <th>2007</th>\n",
       "      <th>2010</th>\n",
       "      <th>2014</th>\n",
       "      <th>2017</th>\n",
       "      <th>2020</th>\n",
       "    </tr>\n",
       "    <tr>\n",
       "      <th>Model</th>\n",
       "      <th></th>\n",
       "      <th></th>\n",
       "      <th></th>\n",
       "      <th></th>\n",
       "      <th></th>\n",
       "      <th></th>\n",
       "      <th></th>\n",
       "      <th></th>\n",
       "      <th></th>\n",
       "      <th></th>\n",
       "      <th></th>\n",
       "      <th></th>\n",
       "      <th></th>\n",
       "      <th></th>\n",
       "      <th></th>\n",
       "    </tr>\n",
       "  </thead>\n",
       "  <tbody>\n",
       "    <tr>\n",
       "      <th>BCC-ESM1</th>\n",
       "      <td>0.0</td>\n",
       "      <td>0.05780</td>\n",
       "      <td>0.07570</td>\n",
       "      <td>0.09400</td>\n",
       "      <td>0.1269</td>\n",
       "      <td>0.1845</td>\n",
       "      <td>0.2508</td>\n",
       "      <td>0.2734</td>\n",
       "      <td>0.2728</td>\n",
       "      <td>0.3233</td>\n",
       "      <td>0.3536</td>\n",
       "      <td>0.3611</td>\n",
       "      <td>NaN</td>\n",
       "      <td>NaN</td>\n",
       "      <td>NaN</td>\n",
       "    </tr>\n",
       "    <tr>\n",
       "      <th>CESM2(WACCM6)</th>\n",
       "      <td>0.0</td>\n",
       "      <td>0.06440</td>\n",
       "      <td>0.08140</td>\n",
       "      <td>0.12410</td>\n",
       "      <td>0.1349</td>\n",
       "      <td>0.1898</td>\n",
       "      <td>0.2472</td>\n",
       "      <td>0.2880</td>\n",
       "      <td>0.3104</td>\n",
       "      <td>0.3786</td>\n",
       "      <td>0.3974</td>\n",
       "      <td>0.4289</td>\n",
       "      <td>NaN</td>\n",
       "      <td>NaN</td>\n",
       "      <td>NaN</td>\n",
       "    </tr>\n",
       "    <tr>\n",
       "      <th>GFDL-ESM4</th>\n",
       "      <td>0.0</td>\n",
       "      <td>0.06600</td>\n",
       "      <td>0.07510</td>\n",
       "      <td>0.10860</td>\n",
       "      <td>0.1411</td>\n",
       "      <td>0.1981</td>\n",
       "      <td>0.2444</td>\n",
       "      <td>0.2608</td>\n",
       "      <td>0.2336</td>\n",
       "      <td>0.2907</td>\n",
       "      <td>0.3074</td>\n",
       "      <td>0.3222</td>\n",
       "      <td>NaN</td>\n",
       "      <td>NaN</td>\n",
       "      <td>NaN</td>\n",
       "    </tr>\n",
       "    <tr>\n",
       "      <th>GISS-E2-1-H</th>\n",
       "      <td>0.0</td>\n",
       "      <td>0.06750</td>\n",
       "      <td>0.07960</td>\n",
       "      <td>0.07640</td>\n",
       "      <td>0.1385</td>\n",
       "      <td>0.1712</td>\n",
       "      <td>0.2171</td>\n",
       "      <td>0.3122</td>\n",
       "      <td>0.3855</td>\n",
       "      <td>0.4003</td>\n",
       "      <td>0.4369</td>\n",
       "      <td>0.4558</td>\n",
       "      <td>NaN</td>\n",
       "      <td>NaN</td>\n",
       "      <td>NaN</td>\n",
       "    </tr>\n",
       "    <tr>\n",
       "      <th>MRI-ESM2-0</th>\n",
       "      <td>0.0</td>\n",
       "      <td>0.06420</td>\n",
       "      <td>0.08670</td>\n",
       "      <td>0.09800</td>\n",
       "      <td>0.1294</td>\n",
       "      <td>0.1912</td>\n",
       "      <td>0.2729</td>\n",
       "      <td>0.3329</td>\n",
       "      <td>0.3740</td>\n",
       "      <td>0.3794</td>\n",
       "      <td>0.3800</td>\n",
       "      <td>0.3859</td>\n",
       "      <td>NaN</td>\n",
       "      <td>NaN</td>\n",
       "      <td>NaN</td>\n",
       "    </tr>\n",
       "    <tr>\n",
       "      <th>OsloCTM3</th>\n",
       "      <td>0.0</td>\n",
       "      <td>0.10689</td>\n",
       "      <td>0.12216</td>\n",
       "      <td>0.13743</td>\n",
       "      <td>0.1527</td>\n",
       "      <td>0.2160</td>\n",
       "      <td>0.2793</td>\n",
       "      <td>0.3487</td>\n",
       "      <td>0.3992</td>\n",
       "      <td>0.4403</td>\n",
       "      <td>0.5089</td>\n",
       "      <td>0.5245</td>\n",
       "      <td>0.5527</td>\n",
       "      <td>0.5411</td>\n",
       "      <td>0.5633</td>\n",
       "    </tr>\n",
       "  </tbody>\n",
       "</table>\n",
       "</div>"
      ],
      "text/plain": [
       "               1850     1920     1930     1940    1950    1960    1970  \\\n",
       "Model                                                                    \n",
       "BCC-ESM1        0.0  0.05780  0.07570  0.09400  0.1269  0.1845  0.2508   \n",
       "CESM2(WACCM6)   0.0  0.06440  0.08140  0.12410  0.1349  0.1898  0.2472   \n",
       "GFDL-ESM4       0.0  0.06600  0.07510  0.10860  0.1411  0.1981  0.2444   \n",
       "GISS-E2-1-H     0.0  0.06750  0.07960  0.07640  0.1385  0.1712  0.2171   \n",
       "MRI-ESM2-0      0.0  0.06420  0.08670  0.09800  0.1294  0.1912  0.2729   \n",
       "OsloCTM3        0.0  0.10689  0.12216  0.13743  0.1527  0.2160  0.2793   \n",
       "\n",
       "                 1980    1990    2000    2007    2010    2014    2017    2020  \n",
       "Model                                                                          \n",
       "BCC-ESM1       0.2734  0.2728  0.3233  0.3536  0.3611     NaN     NaN     NaN  \n",
       "CESM2(WACCM6)  0.2880  0.3104  0.3786  0.3974  0.4289     NaN     NaN     NaN  \n",
       "GFDL-ESM4      0.2608  0.2336  0.2907  0.3074  0.3222     NaN     NaN     NaN  \n",
       "GISS-E2-1-H    0.3122  0.3855  0.4003  0.4369  0.4558     NaN     NaN     NaN  \n",
       "MRI-ESM2-0     0.3329  0.3740  0.3794  0.3800  0.3859     NaN     NaN     NaN  \n",
       "OsloCTM3       0.3487  0.3992  0.4403  0.5089  0.5245  0.5527  0.5411  0.5633  "
      ]
     },
     "execution_count": 5,
     "metadata": {},
     "output_type": "execute_result"
    }
   ],
   "source": [
    "skeie_total = skeie_trop + skeie_strat\n",
    "#skeie_total.drop([2014,2017,2020], inplace=True, axis=1)\n",
    "skeie_total"
   ]
  },
  {
   "cell_type": "code",
   "execution_count": 6,
   "metadata": {},
   "outputs": [
    {
     "name": "stdout",
     "output_type": "stream",
     "text": [
      "2014-1750 trop. ozone ERF from Skeie: 0.40723333333333334\n",
      "2019-1750 trop. ozone ERF from Skeie: 0.40850000000000003\n"
     ]
    },
    {
     "data": {
      "image/png": "[encoded data removed]",
      "text/plain": [
       "<Figure size 432x288 with 1 Axes>"
      ]
     },
     "metadata": {
      "needs_background": "light"
     },
     "output_type": "display_data"
    }
   ],
   "source": [
    "skeie_trop_est = skeie_trop.mean()\n",
    "skeie_trop_est[1750] = -0.03\n",
    "skeie_trop_est.sort_index(inplace=True)\n",
    "skeie_trop_est = skeie_trop_est + 0.03\n",
    "skeie_trop_est.drop([2014,2017,2020], inplace=True)\n",
    "skeie_trop_est = skeie_trop_est.append(skeie_trop.loc['OsloCTM3',2014:]-skeie_trop.loc['OsloCTM3',2010]+skeie_trop_est[2010])         \n",
    "f = interp1d(skeie_trop_est.index, skeie_trop_est, bounds_error=False, fill_value='extrapolate')\n",
    "years = np.arange(1750,2021)\n",
    "o3trop = f(years)\n",
    "pl.plot(years, o3trop)\n",
    "print(\"2014-1750 trop. ozone ERF from Skeie:\", o3trop[264])\n",
    "print(\"2019-1750 trop. ozone ERF from Skeie:\", o3trop[269])"
   ]
  },
  {
   "cell_type": "code",
   "execution_count": 7,
   "metadata": {},
   "outputs": [
    {
     "name": "stdout",
     "output_type": "stream",
     "text": [
      "2014-1750 strat. ozone ERF from Skeie: 0.06403333333333333\n",
      "2019-1750 strat. ozone ERF from Skeie: 0.06596666666666665\n"
     ]
    },
    {
     "data": {
      "image/png": "[encoded data removed]",
      "text/plain": [
       "<Figure size 432x288 with 1 Axes>"
      ]
     },
     "metadata": {
      "needs_background": "light"
     },
     "output_type": "display_data"
    }
   ],
   "source": [
    "skeie_strat_est = skeie_strat.mean()\n",
    "skeie_strat_est_min = skeie_strat.min()\n",
    "skeie_strat_est_max = skeie_strat.max()\n",
    "skeie_strat_est[1750] = 0.00\n",
    "skeie_strat_est_min[1750] = 0.00\n",
    "skeie_strat_est_max[1750] = 0.00\n",
    "skeie_strat_est.sort_index(inplace=True)\n",
    "skeie_strat_est_min.sort_index(inplace=True)\n",
    "skeie_strat_est_max.sort_index(inplace=True)\n",
    "skeie_strat_est.drop([2014,2017,2020], inplace=True)\n",
    "skeie_strat_est_min.drop([2014,2017,2020], inplace=True)\n",
    "skeie_strat_est_max.drop([2014,2017,2020], inplace=True)\n",
    "\n",
    "years = np.arange(1750,2021)\n",
    "skeie_strat_est = skeie_strat_est.append(skeie_strat.loc['OsloCTM3',2014:]-skeie_strat.loc['OsloCTM3',2010]+skeie_strat_est[2010])         \n",
    "f = interp1d(skeie_strat_est.index, skeie_strat_est, bounds_error=False, fill_value='extrapolate')\n",
    "o3strat = f(years)\n",
    "\n",
    "skeie_strat_est_min = skeie_strat_est_min.append(skeie_strat.loc['OsloCTM3',2014:]-skeie_strat.loc['OsloCTM3',2010]+skeie_strat_est_min[2010])         \n",
    "f = interp1d(skeie_strat_est_min.index, skeie_strat_est_min, bounds_error=False, fill_value='extrapolate')\n",
    "o3strat_min = f(years)\n",
    "\n",
    "skeie_strat_est_max = skeie_strat_est_max.append(skeie_strat.loc['OsloCTM3',2014:]-skeie_strat.loc['OsloCTM3',2010]+skeie_strat_est_max[2010])         \n",
    "f = interp1d(skeie_strat_est_max.index, skeie_strat_est_max, bounds_error=False, fill_value='extrapolate')\n",
    "o3strat_max = f(years)\n",
    "\n",
    "pl.fill_between(years, o3strat_min, o3strat_max)\n",
    "pl.plot(years, o3strat, color='k')\n",
    "print(\"2014-1750 strat. ozone ERF from Skeie:\", o3strat[264])\n",
    "print(\"2019-1750 strat. ozone ERF from Skeie:\", o3strat[269])"
   ]
  },
  {
   "cell_type": "code",
   "execution_count": 8,
   "metadata": {},
   "outputs": [],
   "source": [
    "df = pd.DataFrame(\n",
    "    np.array([o3strat_min, o3strat, o3strat_max]).T,\n",
    "    columns=['min','mean','max'],\n",
    "    index=np.arange(1750,2021)\n",
    ")\n",
    "df.index.name = 'year'\n",
    "df.to_csv('../data_output/o3strat_erf.csv')"
   ]
  },
  {
   "cell_type": "code",
   "execution_count": 9,
   "metadata": {},
   "outputs": [
    {
     "data": {
      "text/plain": [
       "1750    0.000000\n",
       "1850    0.030000\n",
       "1920    0.101132\n",
       "1930    0.116777\n",
       "1940    0.136422\n",
       "1950    0.167250\n",
       "1960    0.221800\n",
       "1970    0.281950\n",
       "1980    0.332667\n",
       "1990    0.359250\n",
       "2000    0.398767\n",
       "2007    0.427367\n",
       "2010    0.443067\n",
       "2014    0.471267\n",
       "2017    0.459667\n",
       "2020    0.481867\n",
       "dtype: float64"
      ]
     },
     "execution_count": 9,
     "metadata": {},
     "output_type": "execute_result"
    }
   ],
   "source": [
    "skeie_ssp245 = skeie_total.mean()\n",
    "skeie_ssp245[1750] = -0.03\n",
    "skeie_ssp245.sort_index(inplace=True)\n",
    "skeie_ssp245 = skeie_ssp245 + 0.03\n",
    "skeie_ssp245.drop([2014,2017,2020], inplace=True)\n",
    "skeie_ssp245 = skeie_ssp245.append(skeie_total.loc['OsloCTM3',2014:]-skeie_total.loc['OsloCTM3',2010]+skeie_ssp245[2010])\n",
    "skeie_ssp245"
   ]
  },
  {
   "cell_type": "code",
   "execution_count": 10,
   "metadata": {},
   "outputs": [
    {
     "name": "stdout",
     "output_type": "stream",
     "text": [
      "2014-1750 ozone ERF from Skeie: 0.4712666666666666\n",
      "2019-1750 ozone ERF from Skeie: 0.47446666666666665\n"
     ]
    },
    {
     "data": {
      "image/png": "[encoded data removed]",
      "text/plain": [
       "<Figure size 432x288 with 1 Axes>"
      ]
     },
     "metadata": {
      "needs_background": "light"
     },
     "output_type": "display_data"
    }
   ],
   "source": [
    "f = interp1d(skeie_ssp245.index, skeie_ssp245, bounds_error=False, fill_value='extrapolate')\n",
    "years = np.arange(1750,2021)\n",
    "o3total = f(years)\n",
    "pl.plot(years, o3total)\n",
    "print(\"2014-1750 ozone ERF from Skeie:\", o3total[264])\n",
    "print(\"2019-1750 ozone ERF from Skeie:\", o3total[269])"
   ]
  },
  {
   "cell_type": "code",
   "execution_count": 11,
   "metadata": {},
   "outputs": [],
   "source": [
    "df = pd.DataFrame(np.array([o3total, o3trop, o3strat]).T, columns=['o3_erf','o3_trop','o3_strat'], index=np.arange(1750,2021))\n",
    "df.index.name = 'year'\n",
    "df.to_csv('../data_output/o3_erf.csv')"
   ]
  },
  {
   "cell_type": "markdown",
   "metadata": {},
   "source": [
    "## Tuning to emissions for projections: NO TEMPERATURE FEEDBACK"
   ]
  },
  {
   "cell_type": "markdown",
   "metadata": {},
   "source": [
    "Thornhill et al (2020) contributions to 2014-1850 ozone forcing: \n",
    "\n",
    "|species  | best  | unc    |\n",
    "|---------|-------|--------|\n",
    "|CH4      | +0.14 | (0.05) |\n",
    "|NOx      | +0.20 | (0.11) |\n",
    "|CO + VOC | +0.11 | (0.07) |\n",
    "|N2O      | +0.03 | (0.02) |\n",
    "|ODS      | -0.11 | (0.10) |  \n",
    "|Sum      | +0.37 | (0.18) |\n",
    "\n",
    "Uncertainties, in brackets, taken to be 5-95%.\n",
    "\n",
    "Here we will define ODS as the Velders EESC definition."
   ]
  },
  {
   "cell_type": "code",
   "execution_count": 12,
   "metadata": {},
   "outputs": [],
   "source": [
    "emissions = pd.read_csv('../data_input_large/rcmip-emissions-annual-means-v5-1-0.csv')\n",
    "concentrations = pd.read_csv('../data_input_large/rcmip-concentrations-annual-means-v5-1-0.csv')\n",
    "\n",
    "scenario = 'ssp245'\n",
    "ch4 = concentrations.loc[(concentrations['Scenario']==scenario)&(concentrations['Region']=='World')&(concentrations.Variable.str.endswith('|CH4')),'1750':'2020'].values.squeeze()\n",
    "n2o = concentrations.loc[(concentrations['Scenario']==scenario)&(concentrations['Region']=='World')&(concentrations.Variable.str.endswith('|N2O')),'1750':'2020'].values.squeeze()\n",
    "ods = {}\n",
    "ods_species = [\n",
    "    'CCl4',\n",
    "    'CFC11',\n",
    "    'CFC113',\n",
    "    'CFC114',\n",
    "    'CFC115',\n",
    "    'CFC12',\n",
    "    'CH2Cl2',\n",
    "    'CH3Br',\n",
    "    'CH3CCl3',\n",
    "    'CH3Cl',\n",
    "    'CHCl3',\n",
    "    'HCFC141b',\n",
    "    'HCFC142b',\n",
    "    'HCFC22',\n",
    "    'Halon1211',\n",
    "    'Halon1301',\n",
    "    'Halon2402',\n",
    "]\n",
    "for specie in ods_species:\n",
    "    ods[specie] = concentrations.loc[(concentrations['Scenario']==scenario)&(concentrations['Region']=='World')&(concentrations.Variable.str.endswith('|%s' % specie)),'1750':'2020'].values.squeeze()\n",
    "\n",
    "co  = emissions.loc[(emissions['Scenario']==scenario)&(emissions['Region']=='World')&(emissions.Variable.str.endswith('|CO')),'1750':'2020'].interpolate(axis=1).values.squeeze()\n",
    "nox = emissions.loc[(emissions['Scenario']==scenario)&(emissions['Region']=='World')&(emissions.Variable.str.endswith('|NOx')),'1750':'2020'].interpolate(axis=1).values.squeeze()\n",
    "voc = emissions.loc[(emissions['Scenario']==scenario)&(emissions['Region']=='World')&(emissions.Variable.str.endswith('|VOC')),'1750':'2020'].interpolate(axis=1).values.squeeze()"
   ]
  },
  {
   "cell_type": "code",
   "execution_count": 13,
   "metadata": {},
   "outputs": [
    {
     "data": {
      "text/plain": [
       "(271,)"
      ]
     },
     "execution_count": 13,
     "metadata": {},
     "output_type": "execute_result"
    },
    {
     "data": {
      "image/png": "[encoded data removed]",
      "text/plain": [
       "<Figure size 432x288 with 1 Axes>"
      ]
     },
     "metadata": {
      "needs_background": "light"
     },
     "output_type": "display_data"
    }
   ],
   "source": [
    "pl.plot(voc)\n",
    "nox.shape"
   ]
  },
  {
   "cell_type": "code",
   "execution_count": 14,
   "metadata": {},
   "outputs": [],
   "source": [
    "eesc_total = np.zeros((271))\n",
    "for specie in ods_species:\n",
    "    eesc_total = eesc_total + eesc(ods[specie], specie)"
   ]
  },
  {
   "cell_type": "code",
   "execution_count": 15,
   "metadata": {},
   "outputs": [
    {
     "data": {
      "text/plain": [
       "[<matplotlib.lines.Line2D at 0x7f73233db590>]"
      ]
     },
     "execution_count": 15,
     "metadata": {},
     "output_type": "execute_result"
    },
    {
     "data": {
      "image/png": "[encoded data removed]",
      "text/plain": [
       "<Figure size 432x288 with 1 Axes>"
      ]
     },
     "metadata": {
      "needs_background": "light"
     },
     "output_type": "display_data"
    }
   ],
   "source": [
    "pl.plot(np.arange(1750,2021), eesc_total)"
   ]
  },
  {
   "cell_type": "code",
   "execution_count": 16,
   "metadata": {},
   "outputs": [],
   "source": [
    "delta_Cch4 = ch4[264] - ch4[0]\n",
    "delta_Cn2o = n2o[264] - n2o[0]\n",
    "delta_Cods = eesc_total[264] - eesc_total[0]\n",
    "delta_Eco  = co[264] - co[0]\n",
    "delta_Evoc = voc[264] - voc[0]\n",
    "delta_Enox = nox[264] - nox[0]"
   ]
  },
  {
   "cell_type": "code",
   "execution_count": 17,
   "metadata": {},
   "outputs": [],
   "source": [
    "# best estimate radiative efficienices from 2014 - 1850\n",
    "\n",
    "radeff_ch4 = 0.14/delta_Cch4\n",
    "radeff_n2o = 0.03/delta_Cn2o\n",
    "radeff_ods = -0.11/delta_Cods\n",
    "radeff_co  = 0.067/delta_Eco    # stevenson rescaled\n",
    "radeff_voc = 0.043/delta_Evoc   # stevenson rescaled\n",
    "radeff_nox = 0.20/delta_Enox"
   ]
  },
  {
   "cell_type": "code",
   "execution_count": 18,
   "metadata": {},
   "outputs": [],
   "source": [
    "fac_cmip6_skeie = (\n",
    "    (\n",
    "    radeff_ch4 * delta_Cch4 +\n",
    "    radeff_n2o * delta_Cn2o +\n",
    "    radeff_ods * delta_Cods +\n",
    "    radeff_co  * delta_Eco +\n",
    "    radeff_voc * delta_Evoc +\n",
    "    radeff_nox * delta_Enox \n",
    "    ) / (o3total[264]-o3total[0])\n",
    ")\n",
    "ts = np.vstack((ch4, n2o, eesc_total, co, voc, nox)).T"
   ]
  },
  {
   "cell_type": "code",
   "execution_count": 19,
   "metadata": {},
   "outputs": [
    {
     "data": {
      "text/plain": [
       "array([[ 731.40599569,  273.86505127,    0.        ,  348.52735878,\n",
       "          60.02182622,   12.73521194],\n",
       "       [ 731.83816528,  273.89405568,    0.        ,  343.92636725,\n",
       "          59.08812628,   12.59230324],\n",
       "       [ 732.89997355,  273.92705536,    0.        ,  341.8090339 ,\n",
       "          58.63199703,   12.59427042],\n",
       "       ...,\n",
       "       [1887.04099528,  330.54097239, 1081.28293378,  903.25133099,\n",
       "         222.21100855,  151.04965204],\n",
       "       [1899.4105835 ,  331.30197652, 1068.45175863,  892.88514643,\n",
       "         220.53307163,  149.55938605],\n",
       "       [1910.97063192,  332.06797536, 1055.34645186,  882.51896187,\n",
       "         218.85513471,  148.06912005]])"
      ]
     },
     "execution_count": 19,
     "metadata": {},
     "output_type": "execute_result"
    }
   ],
   "source": [
    "ts"
   ]
  },
  {
   "cell_type": "code",
   "execution_count": 20,
   "metadata": {},
   "outputs": [
    {
     "data": {
      "text/plain": [
       "[<matplotlib.lines.Line2D at 0x7f73232e9dd0>]"
      ]
     },
     "execution_count": 20,
     "metadata": {},
     "output_type": "execute_result"
    },
    {
     "data": {
      "image/png": "[encoded data removed]",
      "text/plain": [
       "<Figure size 432x288 with 1 Axes>"
      ]
     },
     "metadata": {
      "needs_background": "light"
     },
     "output_type": "display_data"
    }
   ],
   "source": [
    "def fit_precursors(x, rch4, rn2o, rods, rco, rvoc, rnox):\n",
    "    return rch4*x[0] + rn2o*x[1] + rods*x[2] + rco*x[3] + rvoc*x[4] + rnox*x[5]\n",
    "\n",
    "p, cov = curve_fit(\n",
    "    fit_precursors, \n",
    "    ts[:271,:].T - ts[0:1, :].T,\n",
    "    o3total[:271]-o3total[0],\n",
    "    bounds=(\n",
    "        (\n",
    "            0.09/delta_Cch4/fac_cmip6_skeie,\n",
    "            0.01/delta_Cn2o/fac_cmip6_skeie,\n",
    "            -0.21/delta_Cods/fac_cmip6_skeie,\n",
    "            0.010/delta_Eco/fac_cmip6_skeie,\n",
    "            0/delta_Evoc/fac_cmip6_skeie,\n",
    "            0.09/delta_Enox/fac_cmip6_skeie\n",
    "        ), (\n",
    "            0.19/delta_Cch4/fac_cmip6_skeie, \n",
    "            0.05/delta_Cn2o/fac_cmip6_skeie, \n",
    "            -0.01/delta_Cods/fac_cmip6_skeie, \n",
    "            0.124/delta_Eco/fac_cmip6_skeie, \n",
    "            0.086/delta_Evoc/fac_cmip6_skeie, \n",
    "            0.31/delta_Enox/fac_cmip6_skeie\n",
    "        )\n",
    "    )\n",
    ")\n",
    "\n",
    "forcing = (\n",
    "    p[0] * (ch4 - ch4[0]) +\n",
    "    p[1] * (n2o - n2o[0]) +\n",
    "    p[2] * (eesc_total - eesc_total[0]) +\n",
    "    p[3] * (co  - co[0]) +\n",
    "    p[4] * (voc  - voc[0]) +\n",
    "    p[5] * (nox  - nox[0])\n",
    ")\n",
    "\n",
    "pl.plot(np.arange(1750,2021), forcing)"
   ]
  },
  {
   "cell_type": "code",
   "execution_count": 21,
   "metadata": {},
   "outputs": [
    {
     "data": {
      "text/plain": [
       "<matplotlib.legend.Legend at 0x7f73232bce90>"
      ]
     },
     "execution_count": 21,
     "metadata": {},
     "output_type": "execute_result"
    },
    {
     "data": {
      "image/png": "[encoded data removed]",
      "text/plain": [
       "<Figure size 432x288 with 1 Axes>"
      ]
     },
     "metadata": {
      "needs_background": "light"
     },
     "output_type": "display_data"
    }
   ],
   "source": [
    "pl.plot(np.arange(1750,2021), forcing, label='Precursor fit')\n",
    "pl.plot(np.arange(1750,2021), o3total, label='Skeie et al. 2020 mean')\n",
    "pl.legend()"
   ]
  },
  {
   "cell_type": "code",
   "execution_count": 22,
   "metadata": {},
   "outputs": [
    {
     "name": "stdout",
     "output_type": "stream",
     "text": [
      "[ 2.19988638e-04  1.19881702e-03 -6.74329740e-05  1.39653575e-04\n",
      "  5.40764819e-17  9.95704497e-04]\n",
      "0.00012726520677350334 0.0005647277798283193 -9.787056469289512e-05 0.00010885100689986857 0.0002478333432476061 0.0013995310245784151\n"
     ]
    }
   ],
   "source": [
    "print(p)  # these coefficients we export to the ERF time series\n",
    "print(radeff_ch4, radeff_n2o, radeff_ods, radeff_co, radeff_voc, radeff_nox)"
   ]
  },
  {
   "cell_type": "markdown",
   "metadata": {},
   "source": [
    "## Tuning to emissions for projections: INCLUDING TEMPERATURE FEEDBACK\n",
    "\n",
    "Skeie et al. 2020 analyses CMIP6 historical coupled models, so it should include a temperature feedback on total ozone forcing for all models except Oslo-CTM3.\n",
    "\n",
    "1. Get observed 1850-2014 warming from AR6 (use 1850-1900 to 2009-19)\n",
    "2. Calculate temperature-ozone feedback at -0.037 W/m2/K\n",
    "3. Subtract this feedback from all model results except Oslo-CTM3, which was run with fixed-SST, and take average of the forcing\n",
    "4. recalibrate Thornhill coefficients\n",
    "5. grab a beer, you deserve it"
   ]
  },
  {
   "cell_type": "code",
   "execution_count": 23,
   "metadata": {},
   "outputs": [],
   "source": [
    "xl = pd.read_excel('../data_input/observations/AR6 FGD assessment time series - GMST and GSAT.xlsx', skiprows=1, skipfooter=28)\n",
    "Tobs=xl['4-set mean'].values\n",
    "years=xl['Unnamed: 0'].values"
   ]
  },
  {
   "cell_type": "code",
   "execution_count": 24,
   "metadata": {},
   "outputs": [
    {
     "data": {
      "text/plain": [
       "[<matplotlib.lines.Line2D at 0x7f73233998d0>]"
      ]
     },
     "execution_count": 24,
     "metadata": {},
     "output_type": "execute_result"
    },
    {
     "data": {
      "image/png": "[encoded data removed]",
      "text/plain": [
       "<Figure size 432x288 with 1 Axes>"
      ]
     },
     "metadata": {
      "needs_background": "light"
     },
     "output_type": "display_data"
    }
   ],
   "source": [
    "pl.plot(years, Tobs)"
   ]
  },
  {
   "cell_type": "code",
   "execution_count": 25,
   "metadata": {},
   "outputs": [
    {
     "data": {
      "text/plain": [
       "2.6122894697062506e-17"
      ]
     },
     "execution_count": 25,
     "metadata": {},
     "output_type": "execute_result"
    }
   ],
   "source": [
    "Tobs[:51].mean()  # already normalised to 1850-1900 anyway - from plot above, looks stable"
   ]
  },
  {
   "cell_type": "code",
   "execution_count": 26,
   "metadata": {},
   "outputs": [
    {
     "data": {
      "text/plain": [
       "1.0905735294117647"
      ]
     },
     "execution_count": 26,
     "metadata": {},
     "output_type": "execute_result"
    }
   ],
   "source": [
    "Tobs[161:171].mean() # 2011-2020 mean"
   ]
  },
  {
   "cell_type": "code",
   "execution_count": 27,
   "metadata": {},
   "outputs": [
    {
     "data": {
      "text/plain": [
       "[0,\n",
       " -0.0036764705882352724,\n",
       " 0.0951871657754011,\n",
       " 0.298596256684492,\n",
       " 0.23064171122994653,\n",
       " 0.21836898395721926,\n",
       " 0.23655080213903748,\n",
       " 0.41223262032085567,\n",
       " 0.5683689839572194,\n",
       " 0.7867780748663101,\n",
       " 0.8945053475935829,\n",
       " 0.9424598930481282,\n",
       " 1.052005347593583,\n",
       " 1.1788235294117646,\n",
       " 1.101323529411765]"
      ]
     },
     "execution_count": 27,
     "metadata": {},
     "output_type": "execute_result"
    }
   ],
   "source": [
    "delta_gmst = pd.DataFrame(\n",
    "{\n",
    "    1850: 0,\n",
    "    1920: Tobs[65:76].mean(),\n",
    "    1930: Tobs[75:86].mean(),\n",
    "    1940: Tobs[85:96].mean(),\n",
    "    1950: Tobs[95:106].mean(),\n",
    "    1960: Tobs[105:116].mean(),\n",
    "    1970: Tobs[115:126].mean(),\n",
    "    1980: Tobs[125:136].mean(),\n",
    "    1990: Tobs[135:146].mean(),\n",
    "    2000: Tobs[145:156].mean(),\n",
    "    2007: Tobs[152:163].mean(),\n",
    "    2010: Tobs[155:166].mean(),\n",
    "    2014: Tobs[159:170].mean(),\n",
    "    2017: Tobs[167],   # we don't use this\n",
    "    2020: Tobs[168]    # or this\n",
    "}, index=[0])\n",
    "delta_gmst\n",
    "\n",
    "delta_gmst=[\n",
    "    0,\n",
    "    Tobs[65:76].mean(),\n",
    "    Tobs[75:86].mean(),\n",
    "    Tobs[85:96].mean(),\n",
    "    Tobs[95:106].mean(),\n",
    "    Tobs[105:116].mean(),\n",
    "    Tobs[115:126].mean(),\n",
    "    Tobs[125:136].mean(),\n",
    "    Tobs[135:146].mean(),\n",
    "    Tobs[145:156].mean(),\n",
    "    Tobs[152:163].mean(),\n",
    "    Tobs[155:166].mean(),\n",
    "    Tobs[159:170].mean(),\n",
    "    Tobs[167],   # we don't use this\n",
    "    Tobs[168]\n",
    "]\n",
    "delta_gmst"
   ]
  },
  {
   "cell_type": "code",
   "execution_count": 28,
   "metadata": {},
   "outputs": [],
   "source": [
    "warming_pi_pd = Tobs[159:170].mean()"
   ]
  },
  {
   "cell_type": "code",
   "execution_count": 29,
   "metadata": {},
   "outputs": [
    {
     "data": {
      "text/plain": [
       "1750    0.000000\n",
       "1850    0.030000\n",
       "1920    0.101018\n",
       "1930    0.119712\n",
       "1940    0.145628\n",
       "1950    0.174361\n",
       "1960    0.228533\n",
       "1970    0.289244\n",
       "1980    0.345377\n",
       "1990    0.376775\n",
       "2000    0.423026\n",
       "2007    0.454947\n",
       "2010    0.472126\n",
       "2014    0.500326\n",
       "2017    0.488726\n",
       "2020    0.510926\n",
       "dtype: float64"
      ]
     },
     "execution_count": 29,
     "metadata": {},
     "output_type": "execute_result"
    }
   ],
   "source": [
    "skeie_trop = pd.read_csv('../data_input/Skeie_et_al_npj_2020/skeie_ozone_trop.csv', index_col=0)\n",
    "skeie_trop = skeie_trop.loc[good_models]\n",
    "skeie_trop.insert(0, 1850, 0)\n",
    "skeie_trop.columns = pd.to_numeric(skeie_trop.columns)\n",
    "skeie_trop.interpolate(axis=1, method='values', limit_area='inside', inplace=True)\n",
    "skeie_strat = pd.read_csv('../data_input/Skeie_et_al_npj_2020/skeie_ozone_strat.csv', index_col=0)\n",
    "skeie_strat = skeie_strat.loc[good_models]\n",
    "skeie_strat.insert(0, 1850, 0)\n",
    "skeie_strat.columns = pd.to_numeric(skeie_strat.columns)\n",
    "skeie_strat.interpolate(axis=1, method='values', limit_area='inside', inplace=True)\n",
    "skeie_total = skeie_strat + skeie_trop\n",
    "skeie_total\n",
    "coupled_models = copy.deepcopy(good_models)\n",
    "coupled_models.remove('OsloCTM3')\n",
    "skeie_total.loc[coupled_models] = skeie_total.loc[coupled_models] - (-0.037) * np.array(delta_gmst)\n",
    "skeie_ssp245 = skeie_total.mean()\n",
    "skeie_ssp245[1750] = -0.03\n",
    "skeie_ssp245.sort_index(inplace=True)\n",
    "skeie_ssp245 = skeie_ssp245 + 0.03\n",
    "skeie_ssp245.drop([2014,2017,2020], inplace=True)\n",
    "skeie_ssp245 = skeie_ssp245.append(skeie_total.loc['OsloCTM3',2014:]-skeie_total.loc['OsloCTM3',2010]+skeie_ssp245[2010])\n",
    "skeie_ssp245   # this is what the ozone forcing would be, in the absence of any feedbacks"
   ]
  },
  {
   "cell_type": "code",
   "execution_count": 30,
   "metadata": {},
   "outputs": [
    {
     "name": "stdout",
     "output_type": "stream",
     "text": [
      "2014-1750 ozone ERF from Skeie: 0.5003258467023173\n",
      "2019-1750 ozone ERF from Skeie: 0.5035258467023174\n",
      "2014-1850 ozone ERF from Skeie: 0.47032584670231725\n"
     ]
    },
    {
     "data": {
      "image/png": "[encoded data removed]",
      "text/plain": [
       "<Figure size 432x288 with 1 Axes>"
      ]
     },
     "metadata": {
      "needs_background": "light"
     },
     "output_type": "display_data"
    }
   ],
   "source": [
    "f = interp1d(skeie_ssp245.index, skeie_ssp245, bounds_error=False, fill_value='extrapolate')\n",
    "years = np.arange(1750,2021)\n",
    "o3total = f(years)\n",
    "pl.plot(years, o3total)\n",
    "print(\"2014-1750 ozone ERF from Skeie:\", o3total[264])\n",
    "print(\"2019-1750 ozone ERF from Skeie:\", o3total[269])\n",
    "print(\"2014-1850 ozone ERF from Skeie:\", o3total[264] - o3total[100])"
   ]
  },
  {
   "cell_type": "code",
   "execution_count": 31,
   "metadata": {},
   "outputs": [],
   "source": [
    "# best estimate radiative efficienices from 2014 - 1850\n",
    "\n",
    "radeff_ch4 = 0.14/delta_Cch4\n",
    "radeff_n2o = 0.03/delta_Cn2o\n",
    "radeff_ods = -0.11/delta_Cods\n",
    "radeff_co  = 0.067/delta_Eco    # stevenson rescaled\n",
    "radeff_voc = 0.043/delta_Evoc   # stevenson rescaled\n",
    "radeff_nox = 0.20/delta_Enox"
   ]
  },
  {
   "cell_type": "code",
   "execution_count": 32,
   "metadata": {},
   "outputs": [],
   "source": [
    "fac_cmip6_skeie = (\n",
    "    (\n",
    "    radeff_ch4 * delta_Cch4 +\n",
    "    radeff_n2o * delta_Cn2o +\n",
    "    radeff_ods * delta_Cods +\n",
    "    radeff_co  * delta_Eco +\n",
    "    radeff_voc * delta_Evoc +\n",
    "    radeff_nox * delta_Enox \n",
    "    ) / (o3total[264]-o3total[0])\n",
    ")\n",
    "ts = np.vstack((ch4, n2o, eesc_total, co, voc, nox)).T"
   ]
  },
  {
   "cell_type": "code",
   "execution_count": 33,
   "metadata": {},
   "outputs": [
    {
     "data": {
      "text/plain": [
       "[<matplotlib.lines.Line2D at 0x7f7323477c10>]"
      ]
     },
     "execution_count": 33,
     "metadata": {},
     "output_type": "execute_result"
    },
    {
     "data": {
      "image/png": "[encoded data removed]",
      "text/plain": [
       "<Figure size 432x288 with 1 Axes>"
      ]
     },
     "metadata": {
      "needs_background": "light"
     },
     "output_type": "display_data"
    }
   ],
   "source": [
    "def fit_precursors(x, rch4, rn2o, rods, rco, rvoc, rnox):\n",
    "    return rch4*x[0] + rn2o*x[1] + rods*x[2] + rco*x[3] + rvoc*x[4] + rnox*x[5]\n",
    "\n",
    "p, cov = curve_fit(\n",
    "    fit_precursors, \n",
    "    ts[:271,:].T - ts[0:1, :].T,\n",
    "    o3total[:271]-o3total[0],\n",
    "    bounds=(\n",
    "        (\n",
    "            0.09/delta_Cch4/fac_cmip6_skeie,\n",
    "            0.01/delta_Cn2o/fac_cmip6_skeie,\n",
    "            -0.21/delta_Cods/fac_cmip6_skeie,\n",
    "            0.010/delta_Eco/fac_cmip6_skeie,\n",
    "            0/delta_Evoc/fac_cmip6_skeie,\n",
    "            0.09/delta_Enox/fac_cmip6_skeie\n",
    "        ), (\n",
    "            0.19/delta_Cch4/fac_cmip6_skeie, \n",
    "            0.05/delta_Cn2o/fac_cmip6_skeie, \n",
    "            -0.01/delta_Cods/fac_cmip6_skeie, \n",
    "            0.124/delta_Eco/fac_cmip6_skeie, \n",
    "            0.086/delta_Evoc/fac_cmip6_skeie, \n",
    "            0.31/delta_Enox/fac_cmip6_skeie\n",
    "        )\n",
    "    )\n",
    ")\n",
    "\n",
    "forcing = (\n",
    "    p[0] * (ch4 - ch4[0]) +\n",
    "    p[1] * (n2o - n2o[0]) +\n",
    "    p[2] * (eesc_total - eesc_total[0]) +\n",
    "    p[3] * (co  - co[0]) +\n",
    "    p[4] * (voc  - voc[0]) +\n",
    "    p[5] * (nox  - nox[0])\n",
    ")\n",
    "\n",
    "pl.plot(np.arange(1750,2021), forcing)"
   ]
  },
  {
   "cell_type": "code",
   "execution_count": 34,
   "metadata": {},
   "outputs": [],
   "source": [
    "o3_aerchemmip = (\n",
    "    radeff_ch4 * (ch4 - ch4[0]) +\n",
    "    radeff_n2o * (n2o - n2o[0]) +\n",
    "    radeff_ods * (eesc_total - eesc_total[0]) +\n",
    "    radeff_co * (co - co[0]) +\n",
    "    radeff_voc * (voc - voc[0]) +\n",
    "    radeff_nox * (nox - nox[0])\n",
    ")"
   ]
  },
  {
   "cell_type": "code",
   "execution_count": 35,
   "metadata": {},
   "outputs": [],
   "source": [
    "delta_Cch4_1850 = ch4[264] - ch4[100]\n",
    "delta_Cn2o_1850 = n2o[264] - n2o[100]\n",
    "delta_Cods_1850 = eesc_total[264] - eesc_total[100]\n",
    "delta_Eco_1850  = co[264] - co[100]\n",
    "delta_Evoc_1850 = voc[264] - voc[100]\n",
    "delta_Enox_1850 = nox[264] - nox[100]\n",
    "\n",
    "radeff_ch4_1850 = 0.14/delta_Cch4_1850\n",
    "radeff_n2o_1850 = 0.03/delta_Cn2o_1850\n",
    "radeff_ods_1850 = -0.11/delta_Cods_1850\n",
    "radeff_co_1850  = 0.067/delta_Eco_1850    # stevenson rescaled\n",
    "radeff_voc_1850 = 0.043/delta_Evoc_1850   # stevenson rescaled\n",
    "radeff_nox_1850 = 0.20/delta_Enox_1850\n",
    "\n",
    "o3_aerchemmip = (\n",
    "    radeff_ch4_1850 * (ch4 - ch4[0]) +\n",
    "    radeff_n2o_1850 * (n2o - n2o[0]) +\n",
    "    radeff_ods_1850 * (eesc_total - eesc_total[0]) +\n",
    "    radeff_co_1850 * (co - co[0]) +\n",
    "    radeff_voc_1850 * (voc - voc[0]) +\n",
    "    radeff_nox_1850 * (nox - nox[0])\n",
    ")"
   ]
  },
  {
   "cell_type": "code",
   "execution_count": 36,
   "metadata": {},
   "outputs": [
    {
     "data": {
      "text/plain": [
       "1.277249461574919"
      ]
     },
     "execution_count": 36,
     "metadata": {},
     "output_type": "execute_result"
    }
   ],
   "source": [
    "default_to_skeie = forcing[269]/o3_aerchemmip[269]\n",
    "default_to_skeie"
   ]
  },
  {
   "cell_type": "code",
   "execution_count": 37,
   "metadata": {},
   "outputs": [
    {
     "data": {
      "text/plain": [
       "0.49432783701884725"
      ]
     },
     "execution_count": 37,
     "metadata": {},
     "output_type": "execute_result"
    }
   ],
   "source": [
    "default_to_skeie*o3_aerchemmip[269]\n",
    "#o3total[269]\n",
    "#forcing[269]"
   ]
  },
  {
   "cell_type": "code",
   "execution_count": 38,
   "metadata": {},
   "outputs": [
    {
     "name": "stdout",
     "output_type": "stream",
     "text": [
      "1\n"
     ]
    },
    {
     "data": {
      "text/plain": [
       "<matplotlib.legend.Legend at 0x7f73234f81d0>"
      ]
     },
     "execution_count": 38,
     "metadata": {},
     "output_type": "execute_result"
    },
    {
     "data": {
      "image/png": "[encoded data removed]",
      "text/plain": [
       "<Figure size 432x288 with 1 Axes>"
      ]
     },
     "metadata": {
      "needs_background": "light"
     },
     "output_type": "display_data"
    }
   ],
   "source": [
    "# scale everything up to be exactly equal in 2014\n",
    "#ratio = forcing[170]/(o3total[270]-o3total[100])\n",
    "ratio=1\n",
    "print(ratio)\n",
    "pl.plot(np.arange(1750,2021), forcing/ratio, label='Precursor fit')\n",
    "pl.plot(np.arange(1750,2021), o3total, label='Skeie et al. 2020 mean')\n",
    "pl.plot(np.arange(1750,2021), default_to_skeie*o3_aerchemmip, label='Default coefficients')\n",
    "#pl.xlim(2000,2020)\n",
    "#pl.ylim(0.4,0.5)\n",
    "pl.legend()"
   ]
  },
  {
   "cell_type": "markdown",
   "metadata": {},
   "source": [
    "## these are the coefficients to use (first line)"
   ]
  },
  {
   "cell_type": "code",
   "execution_count": 39,
   "metadata": {},
   "outputs": [
    {
     "data": {
      "text/html": [
       "<div>\n",
       "<style scoped>\n",
       "    .dataframe tbody tr th:only-of-type {\n",
       "        vertical-align: middle;\n",
       "    }\n",
       "\n",
       "    .dataframe tbody tr th {\n",
       "        vertical-align: top;\n",
       "    }\n",
       "\n",
       "    .dataframe thead th {\n",
       "        text-align: right;\n",
       "    }\n",
       "</style>\n",
       "<table border=\"1\" class=\"dataframe\">\n",
       "  <thead>\n",
       "    <tr style=\"text-align: right;\">\n",
       "      <th></th>\n",
       "      <th>mean</th>\n",
       "      <th>u90</th>\n",
       "    </tr>\n",
       "    <tr>\n",
       "      <th>species</th>\n",
       "      <th></th>\n",
       "      <th></th>\n",
       "    </tr>\n",
       "  </thead>\n",
       "  <tbody>\n",
       "    <tr>\n",
       "      <th>CH4</th>\n",
       "      <td>0.000175</td>\n",
       "      <td>0.000062</td>\n",
       "    </tr>\n",
       "    <tr>\n",
       "      <th>N2O</th>\n",
       "      <td>0.000710</td>\n",
       "      <td>0.000471</td>\n",
       "    </tr>\n",
       "    <tr>\n",
       "      <th>ODS</th>\n",
       "      <td>-0.000125</td>\n",
       "      <td>-0.000113</td>\n",
       "    </tr>\n",
       "    <tr>\n",
       "      <th>CO</th>\n",
       "      <td>0.000155</td>\n",
       "      <td>0.000131</td>\n",
       "    </tr>\n",
       "    <tr>\n",
       "      <th>VOC</th>\n",
       "      <td>0.000329</td>\n",
       "      <td>0.000328</td>\n",
       "    </tr>\n",
       "    <tr>\n",
       "      <th>NOx</th>\n",
       "      <td>0.001797</td>\n",
       "      <td>0.000983</td>\n",
       "    </tr>\n",
       "  </tbody>\n",
       "</table>\n",
       "</div>"
      ],
      "text/plain": [
       "             mean       u90\n",
       "species                    \n",
       "CH4      0.000175  0.000062\n",
       "N2O      0.000710  0.000471\n",
       "ODS     -0.000125 -0.000113\n",
       "CO       0.000155  0.000131\n",
       "VOC      0.000329  0.000328\n",
       "NOx      0.001797  0.000983"
      ]
     },
     "execution_count": 39,
     "metadata": {},
     "output_type": "execute_result"
    }
   ],
   "source": [
    "p  # these coefficients we export to the ERF time series\n",
    "#print(radeff_ch4/ratio, radeff_n2o/ratio, radeff_ods/ratio, radeff_co/ratio, radeff_voc/ratio, radeff_nox/ratio)\n",
    "mean = np.array([default_to_skeie*radeff_ch4_1850, default_to_skeie*radeff_n2o_1850, default_to_skeie*radeff_ods_1850, default_to_skeie*radeff_co_1850, default_to_skeie*radeff_voc_1850, default_to_skeie*radeff_nox_1850])\n",
    "unc = np.array([47/37*radeff_ch4_1850*5/14, 47/37*radeff_n2o_1850*2/3, 47/37*radeff_ods_1850*10/11, 47/37*radeff_co_1850*57/67, 47/37*radeff_voc_1850*43/43, 47/37*radeff_nox_1850*11/20])\n",
    "\n",
    "df = pd.DataFrame(data={'mean': mean, 'u90': unc})\n",
    "df.index = ['CH4','N2O','ODS','CO','VOC','NOx']\n",
    "df.index.name='species'\n",
    "df.to_csv('../data_input/tunings/cmip6_ozone_skeie_fits.csv')\n",
    "df\n",
    "#pl.savetxt('../data_input/ozone_coeffici')"
   ]
  },
  {
   "cell_type": "code",
   "execution_count": 40,
   "metadata": {},
   "outputs": [
    {
     "name": "stdout",
     "output_type": "stream",
     "text": [
      "0.23897711488350806\n",
      "0.06868579752768668\n",
      "-0.07325529607317613\n",
      "0.061729838399537725\n",
      "3.2625143233890743e-09\n",
      "0.16342243734897516\n"
     ]
    }
   ],
   "source": [
    "print(p[0] * (ch4[264] - ch4[100]))\n",
    "print(p[1] * (n2o[264] - n2o[100]))\n",
    "print(p[2] * (eesc_total[264] - eesc_total[100]))\n",
    "print(p[3] * (co[264]  - co[100]))\n",
    "print(p[4] * (voc[264]  - voc[100]))\n",
    "print(p[5] * (nox[264]  - nox[100]))"
   ]
  },
  {
   "cell_type": "code",
   "execution_count": 41,
   "metadata": {},
   "outputs": [
    {
     "name": "stdout",
     "output_type": "stream",
     "text": [
      "0.13022055553690706\n",
      "0.03047663268193132\n",
      "-0.11\n",
      "0.06014940576347769\n",
      "0.04132434361690338\n",
      "0.19899042743553352\n"
     ]
    }
   ],
   "source": [
    "print(radeff_ch4 * (ch4[264] - ch4[100]))\n",
    "print(radeff_n2o * (n2o[264] - n2o[100]))\n",
    "print(radeff_ods * (eesc_total[264] - eesc_total[100]))\n",
    "print(radeff_co * (co[264]  - co[100]))\n",
    "print(radeff_voc * (voc[264]  - voc[100]))\n",
    "print(radeff_nox * (nox[264]  - nox[100]))"
   ]
  },
  {
   "cell_type": "code",
   "execution_count": 42,
   "metadata": {},
   "outputs": [
    {
     "data": {
      "text/plain": [
       "(0.00017380181731885394,\n",
       " 0.0007061379618263551,\n",
       " -0.00012432206866394785,\n",
       " 0.00015401820093350843,\n",
       " 0.00032758074092083077,\n",
       " 0.0017868021851642044)"
      ]
     },
     "execution_count": 42,
     "metadata": {},
     "output_type": "execute_result"
    }
   ],
   "source": [
    "47/37*radeff_ch4_1850, 47/37*radeff_n2o_1850, 47/37*radeff_ods_1850, 47/37*radeff_co_1850, 47/37*radeff_voc_1850, 47/37*radeff_nox_1850"
   ]
  },
  {
   "cell_type": "code",
   "execution_count": 43,
   "metadata": {},
   "outputs": [
    {
     "data": {
      "text/plain": [
       "(6.207207761387641e-05,\n",
       " 0.0004707586412175701,\n",
       " -0.00011302006242177078,\n",
       " 0.00013103040974940267,\n",
       " 0.00032758074092083077,\n",
       " 0.0009827412018403123)"
      ]
     },
     "execution_count": 43,
     "metadata": {},
     "output_type": "execute_result"
    }
   ],
   "source": [
    "47/37*radeff_ch4_1850*5/14, 47/37*radeff_n2o_1850*2/3, 47/37*radeff_ods_1850*10/11, 47/37*radeff_co_1850*57/67, 47/37*radeff_voc_1850*43/43, 47/37*radeff_nox_1850*11/20"
   ]
  }
 ],
 "metadata": {
  "kernelspec": {
   "display_name": "Python 3",
   "language": "python",
   "name": "python3"
  },
  "language_info": {
   "codemirror_mode": {
    "name": "ipython",
    "version": 3
   },
   "file_extension": ".py",
   "mimetype": "text/x-python",
   "name": "python",
   "nbconvert_exporter": "python",
   "pygments_lexer": "ipython3",
   "version": "3.7.10"
  }
 },
 "nbformat": 4,
 "nbformat_minor": 2
}
