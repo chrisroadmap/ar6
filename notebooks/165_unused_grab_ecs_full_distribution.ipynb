{
 "cells": [
  {
   "cell_type": "markdown",
   "metadata": {},
   "source": [
    "# Produce ECS distribution in standalone file\n",
    "\n",
    "Theme Song: Mr Blue Sky<br>\n",
    "Artist: Electric Light Orchestra<br>\n",
    "Album: Out of the Blue<br>\n",
    "Released: 1977\n",
    "\n",
    "For Camilla's non-IPCC work :)\n",
    "\n",
    "Post-constraint Geoffroy parameters requested by Kelly McCusker"
   ]
  },
  {
   "cell_type": "code",
   "execution_count": 1,
   "metadata": {},
   "outputs": [],
   "source": [
    "import json\n",
    "\n",
    "import numpy as np\n",
    "import matplotlib.pyplot as pl\n",
    "import pandas as pd\n",
    "import scipy.stats as st"
   ]
  },
  {
   "cell_type": "code",
   "execution_count": 2,
   "metadata": {},
   "outputs": [],
   "source": [
    "ecs = np.load('../data_input_large/fair-samples/ecs_unconstrained.npy')\n",
    "accept_inds = np.loadtxt('../data_output_large/fair-samples/accept_inds.csv').astype(int)"
   ]
  },
  {
   "cell_type": "code",
   "execution_count": 3,
   "metadata": {},
   "outputs": [
    {
     "data": {
      "text/plain": [
       "array([2.11534868, 2.13367855, 1.80091073, ..., 2.57175912, 2.75880555,\n",
       "       2.38211563])"
      ]
     },
     "execution_count": 3,
     "metadata": {},
     "output_type": "execute_result"
    }
   ],
   "source": [
    "ecs[accept_inds]"
   ]
  },
  {
   "cell_type": "code",
   "execution_count": 4,
   "metadata": {
    "scrolled": true
   },
   "outputs": [
    {
     "data": {
      "image/png": "[encoded data removed]",
      "text/plain": [
       "<Figure size 432x288 with 1 Axes>"
      ]
     },
     "metadata": {
      "needs_background": "light"
     },
     "output_type": "display_data"
    }
   ],
   "source": [
    "pl.hist(ecs[accept_inds], bins=np.arange(1.6,12.0,0.2), density=True, alpha=0.5);\n",
    "pl.hist(ecs[accept_inds][:600], bins=np.arange(1.6,12.0,0.2), density=True, alpha=0.5);"
   ]
  },
  {
   "cell_type": "code",
   "execution_count": 5,
   "metadata": {},
   "outputs": [],
   "source": [
    "np.savetxt('../data_output_large/fair-samples/ecs.csv', ecs[accept_inds], fmt='%f')"
   ]
  },
  {
   "cell_type": "code",
   "execution_count": 6,
   "metadata": {},
   "outputs": [],
   "source": [
    "with open('../data_input/random_seeds.json', 'r') as filehandle:\n",
    "    SEEDS = json.load(filehandle)"
   ]
  },
  {
   "cell_type": "code",
   "execution_count": 7,
   "metadata": {},
   "outputs": [],
   "source": [
    "SAMPLES=1000000"
   ]
  },
  {
   "cell_type": "code",
   "execution_count": 8,
   "metadata": {},
   "outputs": [
    {
     "data": {
      "text/html": [
       "<div>\n",
       "<style scoped>\n",
       "    .dataframe tbody tr th:only-of-type {\n",
       "        vertical-align: middle;\n",
       "    }\n",
       "\n",
       "    .dataframe tbody tr th {\n",
       "        vertical-align: top;\n",
       "    }\n",
       "\n",
       "    .dataframe thead th {\n",
       "        text-align: right;\n",
       "    }\n",
       "</style>\n",
       "<table border=\"1\" class=\"dataframe\">\n",
       "  <thead>\n",
       "    <tr style=\"text-align: right;\">\n",
       "      <th></th>\n",
       "      <th>q4x</th>\n",
       "      <th>lamg</th>\n",
       "      <th>cmix</th>\n",
       "      <th>cdeep</th>\n",
       "      <th>gamma_2l</th>\n",
       "      <th>eff</th>\n",
       "    </tr>\n",
       "  </thead>\n",
       "  <tbody>\n",
       "    <tr>\n",
       "      <th>156</th>\n",
       "      <td>6.419499</td>\n",
       "      <td>-1.714643</td>\n",
       "      <td>8.810878</td>\n",
       "      <td>448.213437</td>\n",
       "      <td>0.440273</td>\n",
       "      <td>0.347264</td>\n",
       "    </tr>\n",
       "    <tr>\n",
       "      <th>358</th>\n",
       "      <td>8.646745</td>\n",
       "      <td>-1.817834</td>\n",
       "      <td>9.691545</td>\n",
       "      <td>103.494497</td>\n",
       "      <td>0.772469</td>\n",
       "      <td>1.585394</td>\n",
       "    </tr>\n",
       "    <tr>\n",
       "      <th>441</th>\n",
       "      <td>8.316302</td>\n",
       "      <td>-2.085561</td>\n",
       "      <td>5.696549</td>\n",
       "      <td>180.474488</td>\n",
       "      <td>0.821490</td>\n",
       "      <td>1.251474</td>\n",
       "    </tr>\n",
       "    <tr>\n",
       "      <th>636</th>\n",
       "      <td>7.889668</td>\n",
       "      <td>-0.796998</td>\n",
       "      <td>7.735094</td>\n",
       "      <td>89.445554</td>\n",
       "      <td>0.852359</td>\n",
       "      <td>1.535440</td>\n",
       "    </tr>\n",
       "    <tr>\n",
       "      <th>914</th>\n",
       "      <td>7.034846</td>\n",
       "      <td>-1.315331</td>\n",
       "      <td>8.992672</td>\n",
       "      <td>168.484833</td>\n",
       "      <td>0.709503</td>\n",
       "      <td>1.100228</td>\n",
       "    </tr>\n",
       "    <tr>\n",
       "      <th>...</th>\n",
       "      <td>...</td>\n",
       "      <td>...</td>\n",
       "      <td>...</td>\n",
       "      <td>...</td>\n",
       "      <td>...</td>\n",
       "      <td>...</td>\n",
       "    </tr>\n",
       "    <tr>\n",
       "      <th>996792</th>\n",
       "      <td>7.585270</td>\n",
       "      <td>-1.281183</td>\n",
       "      <td>8.745431</td>\n",
       "      <td>62.417455</td>\n",
       "      <td>0.755601</td>\n",
       "      <td>1.668154</td>\n",
       "    </tr>\n",
       "    <tr>\n",
       "      <th>996846</th>\n",
       "      <td>7.574501</td>\n",
       "      <td>-1.881943</td>\n",
       "      <td>9.089493</td>\n",
       "      <td>452.306881</td>\n",
       "      <td>0.565309</td>\n",
       "      <td>0.532951</td>\n",
       "    </tr>\n",
       "    <tr>\n",
       "      <th>998289</th>\n",
       "      <td>7.528928</td>\n",
       "      <td>-1.436389</td>\n",
       "      <td>7.878012</td>\n",
       "      <td>109.737561</td>\n",
       "      <td>0.522615</td>\n",
       "      <td>1.350649</td>\n",
       "    </tr>\n",
       "    <tr>\n",
       "      <th>998908</th>\n",
       "      <td>8.727801</td>\n",
       "      <td>-1.409111</td>\n",
       "      <td>9.221984</td>\n",
       "      <td>128.496448</td>\n",
       "      <td>0.521846</td>\n",
       "      <td>1.581632</td>\n",
       "    </tr>\n",
       "    <tr>\n",
       "      <th>999021</th>\n",
       "      <td>9.073809</td>\n",
       "      <td>-1.471653</td>\n",
       "      <td>9.764826</td>\n",
       "      <td>47.657547</td>\n",
       "      <td>0.499383</td>\n",
       "      <td>0.793753</td>\n",
       "    </tr>\n",
       "  </tbody>\n",
       "</table>\n",
       "<p>2237 rows × 6 columns</p>\n",
       "</div>"
      ],
      "text/plain": [
       "             q4x      lamg      cmix       cdeep  gamma_2l       eff\n",
       "156     6.419499 -1.714643  8.810878  448.213437  0.440273  0.347264\n",
       "358     8.646745 -1.817834  9.691545  103.494497  0.772469  1.585394\n",
       "441     8.316302 -2.085561  5.696549  180.474488  0.821490  1.251474\n",
       "636     7.889668 -0.796998  7.735094   89.445554  0.852359  1.535440\n",
       "914     7.034846 -1.315331  8.992672  168.484833  0.709503  1.100228\n",
       "...          ...       ...       ...         ...       ...       ...\n",
       "996792  7.585270 -1.281183  8.745431   62.417455  0.755601  1.668154\n",
       "996846  7.574501 -1.881943  9.089493  452.306881  0.565309  0.532951\n",
       "998289  7.528928 -1.436389  7.878012  109.737561  0.522615  1.350649\n",
       "998908  8.727801 -1.409111  9.221984  128.496448  0.521846  1.581632\n",
       "999021  9.073809 -1.471653  9.764826   47.657547  0.499383  0.793753\n",
       "\n",
       "[2237 rows x 6 columns]"
      ]
     },
     "execution_count": 8,
     "metadata": {},
     "output_type": "execute_result"
    }
   ],
   "source": [
    "with open(\"../data_input/tunings/cmip6_twolayer_tuning_params.json\", \"r\") as read_file:\n",
    "    params = json.load(read_file)\n",
    "cmip6_models = list(params['q4x']['model_data']['EBM-epsilon'].keys())\n",
    "cmip6_models\n",
    "NMODELS = len(cmip6_models)\n",
    "\n",
    "geoff_data = np.zeros((NMODELS, 6))\n",
    "for im, model in enumerate(cmip6_models):\n",
    "    geoff_data[im,0] = params['q4x']['model_data']['EBM-epsilon'][model]\n",
    "    geoff_data[im,1] = params['lamg']['model_data']['EBM-epsilon'][model]\n",
    "    geoff_data[im,2] = params['cmix']['model_data']['EBM-epsilon'][model]\n",
    "    geoff_data[im,3] = params['cdeep']['model_data']['EBM-epsilon'][model]\n",
    "    geoff_data[im,4] = params['gamma_2l']['model_data']['EBM-epsilon'][model]\n",
    "    geoff_data[im,5] = params['eff']['model_data']['EBM-epsilon'][model]\n",
    "\n",
    "geoff_df = pd.DataFrame(geoff_data, columns=['q4x','lamg','cmix','cdeep','gamma_2l','eff'], index=cmip6_models)\n",
    "kde = st.gaussian_kde(geoff_df.T)\n",
    "geoff_sample = kde.resample(size=int(SAMPLES*1.25), seed = SEEDS[15])\n",
    "\n",
    "# remove unphysical combinations\n",
    "geoff_sample[:,geoff_sample[0,:] <= 0] = np.nan\n",
    "#geoff_sample[:,geoff_sample[1,:] >= -0.6] = np.nan\n",
    "geoff_sample[1, :] = st.truncnorm.rvs(-2, 2, loc=-4/3, scale=0.5, size=int(SAMPLES*1.25), random_state=SEEDS[16])\n",
    "geoff_sample[:,geoff_sample[2,:] <= 0] = np.nan\n",
    "geoff_sample[:,geoff_sample[3,:] <= 0] = np.nan\n",
    "geoff_sample[:,geoff_sample[4,:] <= 0] = np.nan\n",
    "geoff_sample[:,geoff_sample[5,:] <= 0] = np.nan\n",
    "\n",
    "mask = np.all(np.isnan(geoff_sample), axis=0)\n",
    "geoff_sample = geoff_sample[:,~mask][:,:SAMPLES]\n",
    "geoff_sample_df=pd.DataFrame(data=geoff_sample.T, columns=['q4x','lamg','cmix','cdeep','gamma_2l','eff']).loc[accept_inds]\n",
    "geoff_sample_df.to_csv('../data_output/geoff_sample_constrained.csv')\n",
    "geoff_sample_df"
   ]
  },
  {
   "cell_type": "code",
   "execution_count": null,
   "metadata": {},
   "outputs": [],
   "source": []
  }
 ],
 "metadata": {
  "kernelspec": {
   "display_name": "Python 3 (ipykernel)",
   "language": "python",
   "name": "python3"
  },
  "language_info": {
   "codemirror_mode": {
    "name": "ipython",
    "version": 3
   },
   "file_extension": ".py",
   "mimetype": "text/x-python",
   "name": "python",
   "nbconvert_exporter": "python",
   "pygments_lexer": "ipython3",
   "version": "3.7.11"
  }
 },
 "nbformat": 4,
 "nbformat_minor": 4
}
