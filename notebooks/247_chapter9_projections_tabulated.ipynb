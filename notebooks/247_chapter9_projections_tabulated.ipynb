{
 "cells": [
  {
   "cell_type": "markdown",
   "metadata": {},
   "source": [
    "# Dump out long-term temperature projections\n",
    "\n",
    "Theme Song: Control<br>\n",
    "Artist: Tigercub<br>\n",
    "Album: Abstract Figures in the Dark<br>\n",
    "Released: 2016"
   ]
  },
  {
   "cell_type": "code",
   "execution_count": 1,
   "metadata": {},
   "outputs": [],
   "source": [
    "import numpy as np\n",
    "import scipy.stats as st\n",
    "import pandas as pd\n",
    "import matplotlib.pyplot as pl\n",
    "import os\n",
    "from matplotlib import gridspec, rc\n",
    "from matplotlib.lines import Line2D\n",
    "import matplotlib.patches as mp\n",
    "from netCDF4 import Dataset\n",
    "import warnings\n",
    "\n",
    "from ar6.utils.h5 import *"
   ]
  },
  {
   "cell_type": "code",
   "execution_count": 2,
   "metadata": {},
   "outputs": [],
   "source": [
    "results = load_dict_from_hdf5('../data_output_large/chapter9/twolayer_SSPs.h5')"
   ]
  },
  {
   "cell_type": "code",
   "execution_count": 3,
   "metadata": {},
   "outputs": [
    {
     "data": {
      "text/plain": [
       "dict_keys(['ssp119', 'ssp126', 'ssp245', 'ssp370', 'ssp370-lowNTCF-aerchemmip', 'ssp370-lowNTCF-gidden', 'ssp434', 'ssp460', 'ssp534-over', 'ssp585', 'year'])"
      ]
     },
     "execution_count": 3,
     "metadata": {},
     "output_type": "execute_result"
    }
   ],
   "source": [
    "results.keys()"
   ]
  },
  {
   "cell_type": "code",
   "execution_count": 4,
   "metadata": {},
   "outputs": [
    {
     "data": {
      "text/plain": [
       "(751, 2237)"
      ]
     },
     "execution_count": 4,
     "metadata": {},
     "output_type": "execute_result"
    }
   ],
   "source": [
    "results['ssp245']['surface_temperature'].shape"
   ]
  },
  {
   "cell_type": "code",
   "execution_count": 5,
   "metadata": {},
   "outputs": [],
   "source": [
    "df_list = []\n",
    "for scenario in ['ssp119', 'ssp126', 'ssp245', 'ssp370', 'ssp434', 'ssp460', 'ssp534-over', 'ssp585']:\n",
    "    for percentile in (5, 50, 95):\n",
    "        row = ['FaIRv1.6.2', 'unspecified', percentile/100, 'World', scenario, 'K', 'Surface Air Temperature Change'] + np.percentile(results[scenario]['surface_temperature'][245:,:] - results[scenario]['surface_temperature'][245:265,:].mean(axis=0) + 0.85, percentile, axis=1).tolist()\n",
    "        df_list.append(row)"
   ]
  },
  {
   "cell_type": "code",
   "execution_count": 6,
   "metadata": {},
   "outputs": [],
   "source": [
    "columns = ['climate_model', 'model', 'quantile', 'region', 'scenario', 'unit', 'variable'] + np.arange(1995, 2501).tolist()\n",
    "df = pd.DataFrame(df_list, columns=columns)"
   ]
  },
  {
   "cell_type": "code",
   "execution_count": 7,
   "metadata": {},
   "outputs": [],
   "source": [
    "df.to_csv('../data_output/SSP_gsat_chapter9_nonat.csv', index=False)"
   ]
  },
  {
   "cell_type": "code",
   "execution_count": null,
   "metadata": {},
   "outputs": [],
   "source": []
  }
 ],
 "metadata": {
  "kernelspec": {
   "display_name": "Python 3 (ipykernel)",
   "language": "python",
   "name": "python3"
  },
  "language_info": {
   "codemirror_mode": {
    "name": "ipython",
    "version": 3
   },
   "file_extension": ".py",
   "mimetype": "text/x-python",
   "name": "python",
   "nbconvert_exporter": "python",
   "pygments_lexer": "ipython3",
   "version": "3.7.11"
  }
 },
 "nbformat": 4,
 "nbformat_minor": 4
}
