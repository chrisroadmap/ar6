{
 "cells": [
  {
   "cell_type": "markdown",
   "metadata": {},
   "source": [
    "# Ensemble selection for historical temperature attribution\n",
    "\n",
    "Theme Song: Song For The Dead<br>\n",
    "Artist: Queens Of The Stone Age<br>\n",
    "Album: Songs For The Deaf<br>\n",
    "Released: 2002\n",
    "\n",
    "- take SSP forcing derived in 050\n",
    "- derive ensemble using constrained-correlated parameter setups (ensure same seeds are used as FaIR scenarios in 056 and 057)\n",
    "- extend to SSPs 119 126 245 370 585\n",
    "- remove CO2, other GHGs, other ANT one at a time"
   ]
  },
  {
   "cell_type": "code",
   "execution_count": 1,
   "metadata": {},
   "outputs": [],
   "source": [
    "import json\n",
    "import numpy as np\n",
    "from fair.constants import molwt\n",
    "from fair.forcing.ghg import etminan, meinshausen\n",
    "from scipy.interpolate import interp1d\n",
    "from scipy.optimize import curve_fit\n",
    "import scipy.stats as st\n",
    "import random\n",
    "import pandas as pd\n",
    "from tqdm.notebook import tqdm\n",
    "import random\n",
    "import os\n",
    "\n",
    "from ar6.utils import check_and_download, mkdir_p\n",
    "from ar6.utils.statistics import weighted_percentile\n",
    "from ar6.utils.h5 import *\n",
    "from ar6.utils import mkdir_p\n",
    "from ar6.constants.gases import ghg_to_rcmip_names\n",
    "from ar6.forcing.aerosol import ghan, aerocom_n\n",
    "from ar6.forcing.ozone import eesc\n",
    "from ar6.constants.gases import rcmip_to_ghg_names, ghg_to_rcmip_names, ods_species, radeff\n",
    "from multiprocessing import Pool\n",
    "\n",
    "from ar6.twolayermodel import TwoLayerModel\n",
    "from ar6.constants import NINETY_TO_ONESIGMA\n",
    "\n",
    "import matplotlib.pyplot as pl\n",
    "import json"
   ]
  },
  {
   "cell_type": "markdown",
   "metadata": {},
   "source": [
    "## Ensemble generation\n",
    "\n",
    "We want to ensure reproducible results that don't change when this script is re-run. Grab list of pre-generated random seeds."
   ]
  },
  {
   "cell_type": "code",
   "execution_count": 2,
   "metadata": {},
   "outputs": [],
   "source": [
    "with open('../data_input/random_seeds.json', 'r') as filehandle:\n",
    "    SEEDS = json.load(filehandle)"
   ]
  },
  {
   "cell_type": "code",
   "execution_count": 3,
   "metadata": {},
   "outputs": [],
   "source": [
    "forcing = {}\n",
    "scenarios = ['ssp119','ssp126','ssp245','ssp370','ssp370-lowNTCF-aerchemmip','ssp370-lowNTCF-gidden','ssp434','ssp460','ssp534-over','ssp585']\n",
    "for scenario in scenarios:\n",
    "    forcing[scenario] = {}"
   ]
  },
  {
   "cell_type": "code",
   "execution_count": 4,
   "metadata": {},
   "outputs": [
    {
     "data": {
      "application/vnd.jupyter.widget-view+json": {
       "model_id": "a052711c46a446f8a1b7faef657e6823",
       "version_major": 2,
       "version_minor": 0
      },
      "text/plain": [
       "  0%|          | 0/10 [00:00<?, ?it/s]"
      ]
     },
     "metadata": {},
     "output_type": "display_data"
    }
   ],
   "source": [
    "emissions = pd.read_csv('../data_input_large/rcmip-emissions-annual-means-v5-1-0.csv')\n",
    "df_emissions = pd.concat([emissions.loc[(\n",
    "        (emissions.Variable=='Emissions|BC')|\n",
    "        (emissions.Variable=='Emissions|OC')|\n",
    "        (emissions.Variable=='Emissions|Sulfur')|\n",
    "        (emissions.Variable=='Emissions|NOx')|\n",
    "        (emissions.Variable=='Emissions|NH3')|\n",
    "        (emissions.Variable=='Emissions|VOC')|\n",
    "        (emissions.Variable=='Emissions|CO')\n",
    "    ) & (emissions.Scenario=='ssp245') & (emissions.Region=='World'), 'Variable'], emissions.loc[(\n",
    "        (emissions.Variable=='Emissions|BC')|\n",
    "        (emissions.Variable=='Emissions|OC')|\n",
    "        (emissions.Variable=='Emissions|Sulfur')|\n",
    "        (emissions.Variable=='Emissions|NOx')|\n",
    "        (emissions.Variable=='Emissions|NH3')|\n",
    "        (emissions.Variable=='Emissions|VOC')|\n",
    "        (emissions.Variable=='Emissions|CO')\n",
    "    ) & (emissions.Scenario=='ssp245') & (emissions.Region=='World'), '1750':'2100']], axis=1)#.interpolate(axis=1).T\n",
    "df_emissions.set_index('Variable', inplace=True)\n",
    "df_emissions = df_emissions.interpolate(axis=1).T\n",
    "df_emissions.rename(\n",
    "    columns={\n",
    "        'Emissions|BC': 'BC',\n",
    "        'Emissions|OC': 'OC',\n",
    "        'Emissions|Sulfur': 'SO2',\n",
    "        'Emissions|NOx': 'NOx',\n",
    "        'Emissions|NH3': 'NH3',\n",
    "        'Emissions|VOC': 'VOC',\n",
    "        'Emissions|CO': 'CO'\n",
    "    }, inplace=True\n",
    ")\n",
    "# only keep cols we want\n",
    "emissions = df_emissions[['SO2', 'BC', 'OC', 'NH3', 'NOx', 'VOC', 'CO']]\n",
    "emissions.index = emissions.index.astype('int')\n",
    "emissions.index.name='year'\n",
    "emissions.columns.name=None\n",
    "\n",
    "emissions_ceds_update = emissions.copy()\n",
    "\n",
    "emissions_old = pd.read_csv('../data_input_large/rcmip-emissions-annual-means-v5-1-0.csv')\n",
    "df_emissions = pd.concat([emissions_old.loc[(\n",
    "        (emissions_old.Variable=='Emissions|BC|MAGICC Fossil and Industrial')|\n",
    "        (emissions_old.Variable=='Emissions|OC|MAGICC Fossil and Industrial')|\n",
    "        (emissions_old.Variable=='Emissions|Sulfur|MAGICC Fossil and Industrial')|\n",
    "        (emissions_old.Variable=='Emissions|NOx|MAGICC Fossil and Industrial')|\n",
    "        (emissions_old.Variable=='Emissions|NH3|MAGICC Fossil and Industrial')|\n",
    "        (emissions_old.Variable=='Emissions|VOC|MAGICC Fossil and Industrial')|\n",
    "        (emissions_old.Variable=='Emissions|CO|MAGICC Fossil and Industrial')|\n",
    "        (emissions_old.Variable=='Emissions|BC|MAGICC AFOLU|Agriculture')|\n",
    "        (emissions_old.Variable=='Emissions|OC|MAGICC AFOLU|Agriculture')|\n",
    "        (emissions_old.Variable=='Emissions|Sulfur|MAGICC AFOLU|Agriculture')|\n",
    "        (emissions_old.Variable=='Emissions|NOx|MAGICC AFOLU|Agriculture')|\n",
    "        (emissions_old.Variable=='Emissions|NH3|MAGICC AFOLU|Agriculture')|\n",
    "        (emissions_old.Variable=='Emissions|VOC|MAGICC AFOLU|Agriculture')|\n",
    "        (emissions_old.Variable=='Emissions|CO|MAGICC AFOLU|Agriculture')\n",
    "    ) & (emissions_old.Scenario=='ssp245') & (emissions_old.Region=='World'), 'Variable'], emissions_old.loc[(\n",
    "        (emissions_old.Variable=='Emissions|BC|MAGICC Fossil and Industrial')|\n",
    "        (emissions_old.Variable=='Emissions|OC|MAGICC Fossil and Industrial')|\n",
    "        (emissions_old.Variable=='Emissions|Sulfur|MAGICC Fossil and Industrial')|\n",
    "        (emissions_old.Variable=='Emissions|NOx|MAGICC Fossil and Industrial')|\n",
    "        (emissions_old.Variable=='Emissions|NH3|MAGICC Fossil and Industrial')|\n",
    "        (emissions_old.Variable=='Emissions|VOC|MAGICC Fossil and Industrial')|\n",
    "        (emissions_old.Variable=='Emissions|CO|MAGICC Fossil and Industrial')|\n",
    "        (emissions_old.Variable=='Emissions|BC|MAGICC AFOLU|Agriculture')|\n",
    "        (emissions_old.Variable=='Emissions|OC|MAGICC AFOLU|Agriculture')|\n",
    "        (emissions_old.Variable=='Emissions|Sulfur|MAGICC AFOLU|Agriculture')|\n",
    "        (emissions_old.Variable=='Emissions|NOx|MAGICC AFOLU|Agriculture')|\n",
    "        (emissions_old.Variable=='Emissions|NH3|MAGICC AFOLU|Agriculture')|\n",
    "        (emissions_old.Variable=='Emissions|VOC|MAGICC AFOLU|Agriculture')|\n",
    "        (emissions_old.Variable=='Emissions|CO|MAGICC AFOLU|Agriculture')\n",
    "    ) & (emissions_old.Scenario=='ssp245') & (emissions_old.Region=='World'), '1750':'2100']], axis=1)#.interpolate(axis=1).T\n",
    "df_emissions.set_index('Variable', inplace=True)\n",
    "df_emissions = df_emissions.interpolate(axis=1).T\n",
    "for species in ['BC', 'OC', 'Sulfur', 'NOx', 'NH3', 'VOC', 'CO']:\n",
    "    df_emissions[species] = df_emissions['Emissions|{}|MAGICC Fossil and Industrial'.format(species)] + df_emissions['Emissions|{}|MAGICC AFOLU|Agriculture'.format(species)]\n",
    "df_emissions.rename(columns = {'Sulfur': 'SO2'}, inplace=True)\n",
    "df_emissions.drop(columns=[\n",
    "        'Emissions|BC|MAGICC Fossil and Industrial',\n",
    "        'Emissions|OC|MAGICC Fossil and Industrial',\n",
    "        'Emissions|Sulfur|MAGICC Fossil and Industrial',\n",
    "        'Emissions|NOx|MAGICC Fossil and Industrial',\n",
    "        'Emissions|NH3|MAGICC Fossil and Industrial',\n",
    "        'Emissions|VOC|MAGICC Fossil and Industrial',\n",
    "        'Emissions|CO|MAGICC Fossil and Industrial',\n",
    "        'Emissions|BC|MAGICC AFOLU|Agriculture',\n",
    "        'Emissions|OC|MAGICC AFOLU|Agriculture',\n",
    "        'Emissions|Sulfur|MAGICC AFOLU|Agriculture',\n",
    "        'Emissions|NOx|MAGICC AFOLU|Agriculture',\n",
    "        'Emissions|NH3|MAGICC AFOLU|Agriculture',\n",
    "        'Emissions|VOC|MAGICC AFOLU|Agriculture',\n",
    "        'Emissions|CO|MAGICC AFOLU|Agriculture',\n",
    "    ],\n",
    "    inplace=True\n",
    ")\n",
    "df_emissions.index = emissions.index.astype('int')\n",
    "df_emissions.index.name='year'\n",
    "df_emissions.columns.name=None\n",
    "\n",
    "global_total = {}\n",
    "for species in ['BC', 'OC', 'SO2', 'NH3', 'NOx', 'NMVOC', 'CO']:\n",
    "    df = pd.read_csv('../data_input_large/CEDS_v_2020_09_11_emissions/{}_global_CEDS_emissions_by_sector_2020_09_11.csv'.format(species))\n",
    "    global_total[species] = df.sum(axis=0).values[3:].astype(float) / 1000 # yes could get openscm on this\n",
    "    #unit = df.units[0]\n",
    "    #print(unit)\n",
    "global_total['VOC'] = global_total['NMVOC']\n",
    "new_ceds = pd.DataFrame(global_total)\n",
    "new_ceds.index = np.arange(1750,2020)\n",
    "new_ceds.index = new_ceds.index.astype('int')\n",
    "new_ceds.index.name='year'\n",
    "new_ceds.columns.name=None\n",
    "emissions_ceds_update = new_ceds.loc[1750:2020] + emissions - df_emissions\n",
    "emissions_ceds_update.drop(index=range(2020,2101), inplace=True)\n",
    "emissions_ceds_update\n",
    "#new_ceds\n",
    "\n",
    "emissions = pd.read_csv('../data_input_large/rcmip-emissions-annual-means-v5-1-0.csv')\n",
    "new_emissions = {}\n",
    "for scenario in tqdm(scenarios):\n",
    "    bc = emissions.loc[(emissions['Scenario']==scenario)&(emissions['Region']=='World')&(emissions['Variable']=='Emissions|BC'),'1750':'2500'].interpolate(axis=1, pad=True).values.squeeze()\n",
    "    oc = emissions.loc[(emissions['Scenario']==scenario)&(emissions['Region']=='World')&(emissions['Variable']=='Emissions|OC'),'1750':'2500'].interpolate(axis=1, pad=True).values.squeeze()\n",
    "    so2 = emissions.loc[(emissions['Scenario']==scenario)&(emissions['Region']=='World')&(emissions['Variable']=='Emissions|Sulfur'),'1750':'2500'].interpolate(axis=1, pad=True).values.squeeze()\n",
    "    nh3 = emissions.loc[(emissions['Scenario']==scenario)&(emissions['Region']=='World')&(emissions['Variable']=='Emissions|NH3'),'1750':'2500'].interpolate(axis=1, pad=True).values.squeeze()\n",
    "    nox = emissions.loc[(emissions['Scenario']==scenario)&(emissions['Region']=='World')&(emissions['Variable']=='Emissions|NOx'),'1750':'2500'].interpolate(axis=1, pad=True).values.squeeze()\n",
    "    nmvoc = emissions.loc[(emissions['Scenario']==scenario)&(emissions['Region']=='World')&(emissions['Variable']=='Emissions|VOC'),'1750':'2500'].interpolate(axis=1, pad=True).values.squeeze()\n",
    "    co = emissions.loc[(emissions['Scenario']==scenario)&(emissions['Region']=='World')&(emissions['Variable']=='Emissions|CO'),'1750':'2500'].interpolate(axis=1, pad=True).values.squeeze()\n",
    "    bc[:265] = emissions_ceds_update.loc[1750:2014,'BC'].values\n",
    "    oc[:265] = emissions_ceds_update.loc[1750:2014,'OC'].values\n",
    "    so2[:265] = emissions_ceds_update.loc[1750:2014,'SO2'].values\n",
    "    nh3[:265] = emissions_ceds_update.loc[1750:2014,'NH3'].values\n",
    "    nox[:265] = emissions_ceds_update.loc[1750:2014,'NOx'].values\n",
    "    nmvoc[:265] = emissions_ceds_update.loc[1750:2014,'VOC'].values\n",
    "    co[:265] = emissions_ceds_update.loc[1750:2014,'CO'].values\n",
    "    bc[265:270] = np.linspace(1,0.2,5) * emissions_ceds_update.loc[2015:2019,'BC'].values + np.linspace(0,0.8,5) * bc[265:270]\n",
    "    oc[265:270] = np.linspace(1,0.2,5) * emissions_ceds_update.loc[2015:2019,'OC'].values + np.linspace(0,0.8,5) * oc[265:270]\n",
    "    so2[265:270] = np.linspace(1,0.2,5) * emissions_ceds_update.loc[2015:2019,'SO2'].values + np.linspace(0,0.8,5) * so2[265:270]\n",
    "    nh3[265:270] = np.linspace(1,0.2,5) * emissions_ceds_update.loc[2015:2019,'NH3'].values + np.linspace(0,0.8,5) * nh3[265:270]\n",
    "    nox[265:270] = np.linspace(1,0.2,5) * emissions_ceds_update.loc[2015:2019,'NOx'].values + np.linspace(0,0.8,5) * nox[265:270]\n",
    "    nmvoc[265:270] = np.linspace(1,0.2,5) * emissions_ceds_update.loc[2015:2019,'VOC'].values + np.linspace(0,0.8,5) * nmvoc[265:270]\n",
    "    co[265:270] = np.linspace(1,0.2,5) * emissions_ceds_update.loc[2015:2019,'CO'].values + np.linspace(0,0.8,5) * co[265:270]\n",
    "    \n",
    "    new_emissions[scenario] = pd.DataFrame(\n",
    "    {\n",
    "        'BC': bc,\n",
    "        'OC': oc,\n",
    "        'SO2': so2,\n",
    "        'NH3': nh3,\n",
    "        'NOx': nox,\n",
    "        'VOC': nmvoc,\n",
    "        'CO': co\n",
    "    })"
   ]
  },
  {
   "cell_type": "markdown",
   "metadata": {},
   "source": [
    "## Climate model parameters"
   ]
  },
  {
   "cell_type": "markdown",
   "metadata": {},
   "source": [
    "### load unconstrained"
   ]
  },
  {
   "cell_type": "code",
   "execution_count": 5,
   "metadata": {},
   "outputs": [],
   "source": [
    "# ozone\n",
    "ozone_feedback = np.load('../data_input_large/fair-samples/ozone_feedback_unconstrained.npy')\n",
    "beta_ch4 = np.load('../data_input_large/fair-samples/beta_ch4_unconstrained.npy')\n",
    "beta_n2o = np.load('../data_input_large/fair-samples/beta_n2o_unconstrained.npy')\n",
    "beta_ods = np.load('../data_input_large/fair-samples/beta_ods_unconstrained.npy')\n",
    "beta_co = np.load('../data_input_large/fair-samples/beta_co_unconstrained.npy')\n",
    "beta_voc = np.load('../data_input_large/fair-samples/beta_voc_unconstrained.npy')\n",
    "beta_nox = np.load('../data_input_large/fair-samples/beta_nox_unconstrained.npy')\n",
    "\n",
    "# aerosol\n",
    "beta_so2 = np.load('../data_input_large/fair-samples/beta_so2_unconstrained.npy')\n",
    "beta_bc = np.load('../data_input_large/fair-samples/beta_bc_unconstrained.npy')\n",
    "beta_oc = np.load('../data_input_large/fair-samples/beta_oc_unconstrained.npy')\n",
    "beta_nh3 = np.load('../data_input_large/fair-samples/beta_nh3_unconstrained.npy')\n",
    "beta = np.load('../data_input_large/fair-samples/beta_unconstrained.npy')\n",
    "aci_coeffs = np.load('../data_input_large/fair-samples/aci_coeffs.npy')\n",
    "\n",
    "# forcing\n",
    "scale_normals = np.load('../data_input_large/fair-samples/scale_normals.npy')\n",
    "trend_solar = np.load('../data_input_large/fair-samples/scale_trend_solar.npy')\n",
    "\n",
    "# climate response\n",
    "geoff_sample_df = pd.read_csv('../data_output_large/geoff_sample.csv', index_col=0)\n",
    "f2x = np.load('../data_input_large/fair-samples/f2x_unconstrained.npy')\n",
    "ecs = np.load('../data_input_large/fair-samples/ecs_unconstrained.npy')\n",
    "tcr = np.load('../data_input_large/fair-samples/tcr_unconstrained.npy')\n",
    "\n",
    "# accepted ensemble\n",
    "accept_inds = np.loadtxt('../data_output_large/fair-samples/accept_inds.csv', dtype=int)"
   ]
  },
  {
   "cell_type": "markdown",
   "metadata": {},
   "source": [
    "### apply the constraint and overwrite unconstrained"
   ]
  },
  {
   "cell_type": "code",
   "execution_count": 6,
   "metadata": {},
   "outputs": [],
   "source": [
    "df_solar = pd.read_csv('../data_output/solar_erf.csv', index_col='year')\n",
    "solar_forcing = df_solar.solar_erf.loc[1750:2019].values\n",
    "\n",
    "df_volcanic = pd.read_csv('../data_output/volcanic_erf.csv', index_col='year')\n",
    "volcanic_forcing = np.zeros((751))\n",
    "volcanic_forcing[:269] = df_volcanic.volcanic_erf.loc[1750:2018].values\n",
    "# ramp down last 10 years to zero according to https://www.geosci-model-dev.net/9/3461/2016/gmd-9-3461-2016.html\n",
    "volcanic_forcing[269] = volcanic_forcing[268]"
   ]
  },
  {
   "cell_type": "code",
   "execution_count": 7,
   "metadata": {},
   "outputs": [],
   "source": [
    "# ozone\n",
    "ozone_feedback = ozone_feedback[accept_inds]\n",
    "beta_ch4 = beta_ch4[accept_inds]\n",
    "beta_n2o = beta_n2o[accept_inds]\n",
    "beta_ods = beta_ods[accept_inds]\n",
    "beta_co = beta_co[accept_inds]\n",
    "beta_voc = beta_voc[accept_inds]\n",
    "beta_nox = beta_nox[accept_inds]\n",
    "\n",
    "# aerosol\n",
    "beta_so2 = beta_so2[accept_inds]\n",
    "beta_bc = beta_bc[accept_inds]\n",
    "beta_oc = beta_oc[accept_inds]\n",
    "beta_nh3 = beta_nh3[accept_inds]\n",
    "beta = beta[accept_inds]\n",
    "aci_coeffs = aci_coeffs[accept_inds]\n",
    "\n",
    "# forcing\n",
    "scale_normals = scale_normals[accept_inds]\n",
    "trend_solar = trend_solar[accept_inds]\n",
    "\n",
    "# climate response\n",
    "geoff_sample_df = geoff_sample_df.loc[accept_inds]\n",
    "f2x = f2x[accept_inds]\n",
    "ecs = ecs[accept_inds]\n",
    "tcr = tcr[accept_inds]"
   ]
  },
  {
   "cell_type": "code",
   "execution_count": 8,
   "metadata": {},
   "outputs": [],
   "source": [
    "f2x_median = np.median(f2x)\n",
    "ecs_median = np.median(ecs)\n",
    "tcr_median = np.median(tcr)"
   ]
  },
  {
   "cell_type": "code",
   "execution_count": 9,
   "metadata": {},
   "outputs": [
    {
     "data": {
      "text/plain": [
       "(array([121., 574., 807., 474., 185.,  37.,  10.,  16.,  10.,   3.]),\n",
       " array([6.80758831e-04, 3.38060015e-01, 6.75439272e-01, 1.01281853e+00,\n",
       "        1.35019778e+00, 1.68757704e+00, 2.02495630e+00, 2.36233555e+00,\n",
       "        2.69971481e+00, 3.03709407e+00, 3.37447332e+00]),\n",
       " <a list of 10 Patch objects>)"
      ]
     },
     "execution_count": 9,
     "metadata": {},
     "output_type": "execute_result"
    },
    {
     "data": {
      "image/png": "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\n",
      "text/plain": [
       "<Figure size 432x288 with 1 Axes>"
      ]
     },
     "metadata": {
      "needs_background": "light"
     },
     "output_type": "display_data"
    }
   ],
   "source": [
    "kappa = f2x/tcr - f2x/ecs\n",
    "# kappa = efficacy * eta\n",
    "pl.hist(kappa)"
   ]
  },
  {
   "cell_type": "code",
   "execution_count": 10,
   "metadata": {},
   "outputs": [],
   "source": [
    "lamg = geoff_sample_df['lamg'].values\n",
    "eff = geoff_sample_df['eff'].values\n",
    "gamma_2l = geoff_sample_df['gamma_2l'].values\n",
    "cdeep = geoff_sample_df['cdeep'].values\n",
    "cmix = geoff_sample_df['cmix'].values"
   ]
  },
  {
   "cell_type": "markdown",
   "metadata": {},
   "source": [
    "## Forcing uncertainties and SSP projections - ensure consistency with 050"
   ]
  },
  {
   "cell_type": "markdown",
   "metadata": {},
   "source": [
    "### Aerosol emissions"
   ]
  },
  {
   "cell_type": "code",
   "execution_count": 12,
   "metadata": {},
   "outputs": [
    {
     "data": {
      "application/vnd.jupyter.widget-view+json": {
       "model_id": "f75c8faad4364e06874279f5f39a6241",
       "version_major": 2,
       "version_minor": 0
      },
      "text/plain": [
       "  0%|          | 0/10 [00:00<?, ?it/s]"
      ]
     },
     "metadata": {},
     "output_type": "display_data"
    },
    {
     "data": {
      "application/vnd.jupyter.widget-view+json": {
       "model_id": "",
       "version_major": 2,
       "version_minor": 0
      },
      "text/plain": [
       "  0%|          | 0/2237 [00:00<?, ?it/s]"
      ]
     },
     "metadata": {},
     "output_type": "display_data"
    },
    {
     "data": {
      "application/vnd.jupyter.widget-view+json": {
       "model_id": "",
       "version_major": 2,
       "version_minor": 0
      },
      "text/plain": [
       "  0%|          | 0/2237 [00:00<?, ?it/s]"
      ]
     },
     "metadata": {},
     "output_type": "display_data"
    },
    {
     "data": {
      "application/vnd.jupyter.widget-view+json": {
       "model_id": "",
       "version_major": 2,
       "version_minor": 0
      },
      "text/plain": [
       "  0%|          | 0/2237 [00:00<?, ?it/s]"
      ]
     },
     "metadata": {},
     "output_type": "display_data"
    },
    {
     "data": {
      "application/vnd.jupyter.widget-view+json": {
       "model_id": "",
       "version_major": 2,
       "version_minor": 0
      },
      "text/plain": [
       "  0%|          | 0/2237 [00:00<?, ?it/s]"
      ]
     },
     "metadata": {},
     "output_type": "display_data"
    },
    {
     "data": {
      "application/vnd.jupyter.widget-view+json": {
       "model_id": "",
       "version_major": 2,
       "version_minor": 0
      },
      "text/plain": [
       "  0%|          | 0/2237 [00:00<?, ?it/s]"
      ]
     },
     "metadata": {},
     "output_type": "display_data"
    },
    {
     "data": {
      "application/vnd.jupyter.widget-view+json": {
       "model_id": "",
       "version_major": 2,
       "version_minor": 0
      },
      "text/plain": [
       "  0%|          | 0/2237 [00:00<?, ?it/s]"
      ]
     },
     "metadata": {},
     "output_type": "display_data"
    },
    {
     "data": {
      "application/vnd.jupyter.widget-view+json": {
       "model_id": "",
       "version_major": 2,
       "version_minor": 0
      },
      "text/plain": [
       "  0%|          | 0/2237 [00:00<?, ?it/s]"
      ]
     },
     "metadata": {},
     "output_type": "display_data"
    },
    {
     "data": {
      "application/vnd.jupyter.widget-view+json": {
       "model_id": "",
       "version_major": 2,
       "version_minor": 0
      },
      "text/plain": [
       "  0%|          | 0/2237 [00:00<?, ?it/s]"
      ]
     },
     "metadata": {},
     "output_type": "display_data"
    },
    {
     "data": {
      "application/vnd.jupyter.widget-view+json": {
       "model_id": "",
       "version_major": 2,
       "version_minor": 0
      },
      "text/plain": [
       "  0%|          | 0/2237 [00:00<?, ?it/s]"
      ]
     },
     "metadata": {},
     "output_type": "display_data"
    },
    {
     "data": {
      "application/vnd.jupyter.widget-view+json": {
       "model_id": "",
       "version_major": 2,
       "version_minor": 0
      },
      "text/plain": [
       "  0%|          | 0/2237 [00:00<?, ?it/s]"
      ]
     },
     "metadata": {},
     "output_type": "display_data"
    }
   ],
   "source": [
    "for scenario in tqdm(scenarios):\n",
    "    bc = new_emissions[scenario]['BC'].values.squeeze()\n",
    "    oc = new_emissions[scenario]['OC'].values.squeeze()\n",
    "    so2 = new_emissions[scenario]['SO2'].values.squeeze()\n",
    "    nh3 = new_emissions[scenario]['NH3'].values.squeeze()\n",
    "    \n",
    "    forcing[scenario]['aerosol-radiation_interactions'] = np.zeros((751, len(accept_inds)))\n",
    "    forcing[scenario]['aerosol-cloud_interactions'] = np.zeros((751, len(accept_inds)))\n",
    "    \n",
    "    for i in tqdm(range(len(accept_inds)), leave=False):\n",
    "        forcing[scenario]['aerosol-radiation_interactions'][:, i] = (\n",
    "            (so2 - so2[0]) * beta_so2[i] * 32/64 +\n",
    "            (bc - bc[0]) * beta_bc[i] +\n",
    "            (oc - oc[0]) * beta_oc[i] +\n",
    "            (nh3 - nh3[0]) * beta_nh3[i]\n",
    "        )\n",
    "\n",
    "        forcing[scenario]['aerosol-cloud_interactions'][:,i] = ghan([so2 * 32/64, bc+oc], beta[i], aci_coeffs[i,0], aci_coeffs[i,1]) - ghan([so2[0] * 32/64, bc[0]+oc[0]], beta[i], aci_coeffs[i,0], aci_coeffs[i,1])"
   ]
  },
  {
   "cell_type": "code",
   "execution_count": 15,
   "metadata": {},
   "outputs": [
    {
     "data": {
      "image/png": "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\n",
      "text/plain": [
       "<Figure size 432x288 with 1 Axes>"
      ]
     },
     "metadata": {
      "needs_background": "light"
     },
     "output_type": "display_data"
    }
   ],
   "source": [
    "pl.fill_between(np.arange(1750, 2501), np.percentile(forcing[scenario]['aerosol-radiation_interactions'], 5, axis=1), np.percentile(forcing[scenario]['aerosol-radiation_interactions'], 95, axis=1), color='k', alpha=0.5)\n",
    "pl.plot(np.arange(1750,2501), np.percentile(forcing[scenario]['aerosol-radiation_interactions'], 50, axis=1), color='k')\n",
    "pl.grid()"
   ]
  },
  {
   "cell_type": "code",
   "execution_count": 16,
   "metadata": {},
   "outputs": [
    {
     "data": {
      "image/png": "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\n",
      "text/plain": [
       "<Figure size 432x288 with 1 Axes>"
      ]
     },
     "metadata": {
      "needs_background": "light"
     },
     "output_type": "display_data"
    }
   ],
   "source": [
    "pl.fill_between(np.arange(1750, 2501), np.percentile(forcing[scenario]['aerosol-cloud_interactions'], 5, axis=1), np.percentile(forcing[scenario]['aerosol-cloud_interactions'], 95, axis=1), color='k', alpha=0.5)\n",
    "pl.plot(np.arange(1750,2501), np.percentile(forcing[scenario]['aerosol-cloud_interactions'], 50, axis=1), color='k')\n",
    "pl.grid()"
   ]
  },
  {
   "cell_type": "code",
   "execution_count": 17,
   "metadata": {},
   "outputs": [
    {
     "data": {
      "image/png": "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\n",
      "text/plain": [
       "<Figure size 432x288 with 1 Axes>"
      ]
     },
     "metadata": {
      "needs_background": "light"
     },
     "output_type": "display_data"
    }
   ],
   "source": [
    "pl.fill_between(np.arange(1750, 2501), np.percentile(forcing[scenario]['aerosol-radiation_interactions']+forcing[scenario]['aerosol-cloud_interactions'], 5, axis=1), np.percentile(forcing[scenario]['aerosol-radiation_interactions']+forcing[scenario]['aerosol-cloud_interactions'], 95, axis=1), color='k', alpha=0.5)\n",
    "pl.plot(np.arange(1750,2501), np.percentile(forcing[scenario]['aerosol-radiation_interactions']+forcing[scenario]['aerosol-cloud_interactions'], 50, axis=1), color='k')\n",
    "pl.grid()"
   ]
  },
  {
   "cell_type": "markdown",
   "metadata": {},
   "source": [
    "### Non-aerosol forcings and aggregated categories"
   ]
  },
  {
   "cell_type": "code",
   "execution_count": 18,
   "metadata": {},
   "outputs": [],
   "source": [
    "df = pd.read_csv('../data_output/solar_erf.csv', index_col='year')\n",
    "solar_forcing = np.zeros((751))\n",
    "solar_forcing[:550] = df.solar_erf.loc[1750:2299].values"
   ]
  },
  {
   "cell_type": "code",
   "execution_count": 20,
   "metadata": {},
   "outputs": [],
   "source": [
    "for scenario in scenarios:\n",
    "    df = pd.read_csv('../data_output/SSPs/ERF_%s_1750-2500.csv' % scenario, index_col=0)\n",
    "    for i, cat in enumerate(['co2', 'ch4', 'n2o', 'other_wmghg', 'o3', 'h2o_stratospheric', 'contrails', 'bc_on_snow', 'land_use',\n",
    "               'volcanic']):\n",
    "        forcing[scenario][cat] = np.zeros((751, len(accept_inds)))\n",
    "        forcing[scenario][cat] = df[cat].values[:751,None] * scale_normals[:,i]\n",
    "    forcing[scenario]['solar'] = np.zeros((751, len(accept_inds)))\n",
    "    for j in range(len(accept_inds)):\n",
    "        forcing[scenario]['solar'][:270, j] = np.linspace(0,trend_solar[j],270) + solar_forcing[:270]*scale_normals[j,10]\n",
    "        forcing[scenario]['solar'][270:551, j] = trend_solar[j] + solar_forcing[270:551]*scale_normals[j,10]"
   ]
  },
  {
   "cell_type": "code",
   "execution_count": 21,
   "metadata": {},
   "outputs": [
    {
     "data": {
      "application/vnd.jupyter.widget-view+json": {
       "model_id": "1cd400861dda4204a940addef668df20",
       "version_major": 2,
       "version_minor": 0
      },
      "text/plain": [
       "  0%|          | 0/10 [00:00<?, ?it/s]"
      ]
     },
     "metadata": {},
     "output_type": "display_data"
    },
    {
     "data": {
      "application/vnd.jupyter.widget-view+json": {
       "model_id": "",
       "version_major": 2,
       "version_minor": 0
      },
      "text/plain": [
       "  0%|          | 0/49 [00:00<?, ?it/s]"
      ]
     },
     "metadata": {},
     "output_type": "display_data"
    },
    {
     "data": {
      "application/vnd.jupyter.widget-view+json": {
       "model_id": "",
       "version_major": 2,
       "version_minor": 0
      },
      "text/plain": [
       "  0%|          | 0/49 [00:00<?, ?it/s]"
      ]
     },
     "metadata": {},
     "output_type": "display_data"
    },
    {
     "data": {
      "application/vnd.jupyter.widget-view+json": {
       "model_id": "",
       "version_major": 2,
       "version_minor": 0
      },
      "text/plain": [
       "  0%|          | 0/49 [00:00<?, ?it/s]"
      ]
     },
     "metadata": {},
     "output_type": "display_data"
    },
    {
     "data": {
      "application/vnd.jupyter.widget-view+json": {
       "model_id": "",
       "version_major": 2,
       "version_minor": 0
      },
      "text/plain": [
       "  0%|          | 0/49 [00:00<?, ?it/s]"
      ]
     },
     "metadata": {},
     "output_type": "display_data"
    },
    {
     "data": {
      "application/vnd.jupyter.widget-view+json": {
       "model_id": "",
       "version_major": 2,
       "version_minor": 0
      },
      "text/plain": [
       "  0%|          | 0/49 [00:00<?, ?it/s]"
      ]
     },
     "metadata": {},
     "output_type": "display_data"
    },
    {
     "data": {
      "application/vnd.jupyter.widget-view+json": {
       "model_id": "",
       "version_major": 2,
       "version_minor": 0
      },
      "text/plain": [
       "  0%|          | 0/49 [00:00<?, ?it/s]"
      ]
     },
     "metadata": {},
     "output_type": "display_data"
    },
    {
     "data": {
      "application/vnd.jupyter.widget-view+json": {
       "model_id": "",
       "version_major": 2,
       "version_minor": 0
      },
      "text/plain": [
       "  0%|          | 0/49 [00:00<?, ?it/s]"
      ]
     },
     "metadata": {},
     "output_type": "display_data"
    },
    {
     "data": {
      "application/vnd.jupyter.widget-view+json": {
       "model_id": "",
       "version_major": 2,
       "version_minor": 0
      },
      "text/plain": [
       "  0%|          | 0/49 [00:00<?, ?it/s]"
      ]
     },
     "metadata": {},
     "output_type": "display_data"
    },
    {
     "data": {
      "application/vnd.jupyter.widget-view+json": {
       "model_id": "",
       "version_major": 2,
       "version_minor": 0
      },
      "text/plain": [
       "  0%|          | 0/49 [00:00<?, ?it/s]"
      ]
     },
     "metadata": {},
     "output_type": "display_data"
    },
    {
     "data": {
      "application/vnd.jupyter.widget-view+json": {
       "model_id": "",
       "version_major": 2,
       "version_minor": 0
      },
      "text/plain": [
       "  0%|          | 0/49 [00:00<?, ?it/s]"
      ]
     },
     "metadata": {},
     "output_type": "display_data"
    }
   ],
   "source": [
    "for scenario in tqdm(scenarios):\n",
    "    df = pd.read_csv('../data_output/SSPs/ERF_%s_minorGHGs_1750-2500.csv' % scenario, index_col=0)\n",
    "    for i, cat in tqdm(enumerate(list(ghg_to_rcmip_names.keys())), total=len(ghg_to_rcmip_names.keys()), leave=False):\n",
    "        forcing[scenario][cat] = np.zeros((351, len(accept_inds)))\n",
    "        forcing[scenario][cat] = df[cat].values[:351,None] * scale_normals[:,3]"
   ]
  },
  {
   "cell_type": "code",
   "execution_count": 24,
   "metadata": {},
   "outputs": [],
   "source": [
    "for scenario in scenarios:\n",
    "    forcing[scenario]['total'] = (\n",
    "        forcing[scenario]['co2'] +\n",
    "        forcing[scenario]['ch4'] +\n",
    "        forcing[scenario]['n2o'] +\n",
    "        forcing[scenario]['other_wmghg'] +\n",
    "        forcing[scenario]['o3'] +\n",
    "        forcing[scenario]['h2o_stratospheric'] +\n",
    "        forcing[scenario]['contrails'] +\n",
    "        forcing[scenario]['aerosol-radiation_interactions'] +\n",
    "        forcing[scenario]['aerosol-cloud_interactions'] +\n",
    "        forcing[scenario]['bc_on_snow'] +\n",
    "        forcing[scenario]['land_use'] +\n",
    "        forcing[scenario]['solar'] +\n",
    "        forcing[scenario]['volcanic']\n",
    "    )+\n",
        "for scenario in scenarios:\n",
    "    forcing[scenario]['anthro'] = (\n",
    "        forcing[scenario]['co2'] +\n",
    "        forcing[scenario]['ch4'] +\n",
    "        forcing[scenario]['n2o'] +\n",
    "        forcing[scenario]['other_wmghg'] +\n",
    "        forcing[scenario]['o3'] +\n",
    "        forcing[scenario]['h2o_stratospheric'] +\n",
    "        forcing[scenario]['contrails'] +\n",
    "        forcing[scenario]['aerosol-radiation_interactions'] +\n",
    "        forcing[scenario]['aerosol-cloud_interactions'] +\n",
    "        forcing[scenario]['bc_on_snow'] +\n",
    "        forcing[scenario]['land_use'] +\n",
    "    )",
   ]
  },
  {
   "cell_type": "code",
   "execution_count": 25,
   "metadata": {},
   "outputs": [
    {
     "data": {
      "text/plain": [
       "(751,)"
      ]
     },
     "execution_count": 25,
     "metadata": {},
     "output_type": "execute_result"
    }
   ],
   "source": [
    "forcing[scenario]['total'][:,0].shape"
   ]
  },
  {
   "cell_type": "markdown",
   "metadata": {},
   "source": [
    "# Run climate model"
   ]
  },
  {
   "cell_type": "code",
   "execution_count": 26,
   "metadata": {},
   "outputs": [],
   "source": [
    "with open('../data_input/tunings/cmip6_twolayer_tuning_params.json', 'r') as filehandle:\n",
    "    cmip6_models = json.load(filehandle)"
   ]
  },
  {
   "cell_type": "code",
   "execution_count": 27,
   "metadata": {},
   "outputs": [],
   "source": [
    "cmix_mean = cmip6_models['cmix']['mean']['EBM-epsilon']\n",
    "cdeep_mean = cmip6_models['cdeep']['mean']['EBM-epsilon']\n",
    "eff_mean = cmip6_models['eff']['mean']['EBM-epsilon']\n",
    "\n",
    "lamg_median = f2x_median/ecs_median\n",
    "kappa_median = -(f2x_median/ecs_median - f2x_median/tcr_median)\n",
    "gamma_2l_median = kappa_median/eff_mean"
   ]
  },
  {
   "cell_type": "code",
   "execution_count": 28,
   "metadata": {},
   "outputs": [
    {
     "data": {
      "text/plain": [
       "(0.6395952745483992, 0.85785768256684, 1.3670409092103908, 1.3412508139190835)"
      ]
     },
     "execution_count": 28,
     "metadata": {},
     "output_type": "execute_result"
    }
   ],
   "source": [
    "gamma_2l_median, kappa_median, lamg_median, eff_mean"
   ]
  },
  {
   "cell_type": "code",
   "execution_count": 29,
   "metadata": {},
   "outputs": [],
   "source": [
    "results_ch9 = {}\n",
    "mkdir_p('../data_output_large/chapter9/')"
   ]
  },
  {
   "cell_type": "markdown",
   "metadata": {},
   "source": [
    "## 751-year forcing runs\n",
    "\n",
    "- all anthropogenic forcing\n",
    "- include climate variability"
   ]
  },
  {
   "cell_type": "code",
   "execution_count": 31,
   "metadata": {},
   "outputs": [
    {
     "data": {
      "application/vnd.jupyter.widget-view+json": {
       "model_id": "e2109edc5ebe4313bec8bcd13181bc28",
       "version_major": 2,
       "version_minor": 0
      },
      "text/plain": [
       "scenario:   0%|          | 0/10 [00:00<?, ?it/s]"
      ]
     },
     "metadata": {},
     "output_type": "display_data"
    },
    {
     "data": {
      "application/vnd.jupyter.widget-view+json": {
       "model_id": "",
       "version_major": 2,
       "version_minor": 0
      },
      "text/plain": [
       "  0%|          | 0/2237 [00:00<?, ?it/s]"
      ]
     },
     "metadata": {},
     "output_type": "display_data"
    },
    {
     "data": {
      "application/vnd.jupyter.widget-view+json": {
       "model_id": "",
       "version_major": 2,
       "version_minor": 0
      },
      "text/plain": [
       "  0%|          | 0/2237 [00:00<?, ?it/s]"
      ]
     },
     "metadata": {},
     "output_type": "display_data"
    },
    {
     "data": {
      "application/vnd.jupyter.widget-view+json": {
       "model_id": "",
       "version_major": 2,
       "version_minor": 0
      },
      "text/plain": [
       "  0%|          | 0/2237 [00:00<?, ?it/s]"
      ]
     },
     "metadata": {},
     "output_type": "display_data"
    },
    {
     "data": {
      "application/vnd.jupyter.widget-view+json": {
       "model_id": "",
       "version_major": 2,
       "version_minor": 0
      },
      "text/plain": [
       "  0%|          | 0/2237 [00:00<?, ?it/s]"
      ]
     },
     "metadata": {},
     "output_type": "display_data"
    },
    {
     "data": {
      "application/vnd.jupyter.widget-view+json": {
       "model_id": "",
       "version_major": 2,
       "version_minor": 0
      },
      "text/plain": [
       "  0%|          | 0/2237 [00:00<?, ?it/s]"
      ]
     },
     "metadata": {},
     "output_type": "display_data"
    },
    {
     "data": {
      "application/vnd.jupyter.widget-view+json": {
       "model_id": "",
       "version_major": 2,
       "version_minor": 0
      },
      "text/plain": [
       "  0%|          | 0/2237 [00:00<?, ?it/s]"
      ]
     },
     "metadata": {},
     "output_type": "display_data"
    },
    {
     "data": {
      "application/vnd.jupyter.widget-view+json": {
       "model_id": "",
       "version_major": 2,
       "version_minor": 0
      },
      "text/plain": [
       "  0%|          | 0/2237 [00:00<?, ?it/s]"
      ]
     },
     "metadata": {},
     "output_type": "display_data"
    },
    {
     "data": {
      "application/vnd.jupyter.widget-view+json": {
       "model_id": "",
       "version_major": 2,
       "version_minor": 0
      },
      "text/plain": [
       "  0%|          | 0/2237 [00:00<?, ?it/s]"
      ]
     },
     "metadata": {},
     "output_type": "display_data"
    },
    {
     "data": {
      "application/vnd.jupyter.widget-view+json": {
       "model_id": "",
       "version_major": 2,
       "version_minor": 0
      },
      "text/plain": [
       "  0%|          | 0/2237 [00:00<?, ?it/s]"
      ]
     },
     "metadata": {},
     "output_type": "display_data"
    },
    {
     "data": {
      "application/vnd.jupyter.widget-view+json": {
       "model_id": "",
       "version_major": 2,
       "version_minor": 0
      },
      "text/plain": [
       "  0%|          | 0/2237 [00:00<?, ?it/s]"
      ]
     },
     "metadata": {},
     "output_type": "display_data"
    }
   ],
   "source": [
    "for scenario in tqdm(scenarios, desc='scenario'):\n",
    "    arglist = []\n",
    "\n",
    "    lamg = -geoff_sample_df['lamg'].values\n",
    "    eff = geoff_sample_df['eff'].values\n",
    "    gamma_2l = geoff_sample_df['gamma_2l'].values\n",
    "    cdeep = geoff_sample_df['cdeep'].values\n",
    "    cmix = geoff_sample_df['cmix'].values\n",
    "\n",
    "\n",
    "    for i in range(len(accept_inds)):\n",
    "        arglist.append(\n",
    "            {\n",
    "                'cmix': cmix[i],\n",
    "                'cdeep': cdeep[i],\n",
    "                'gamma_2l': gamma_2l[i],\n",
    "                'lamg': lamg[i],\n",
    "                'eff': eff[i],\n",
    "                'in_forcing' : forcing[scenario]['anthro'][:,i],\n",
    "            }\n",
    "        )\n",
    "\n",
    "    results_ch9[scenario] = {}\n",
    "\n",
    "    def run_tlm(args):\n",
    "        in_forcing = args['in_forcing']\n",
    "        driver = TwoLayerModel(\n",
    "            extforce=in_forcing,\n",
    "            exttime=np.arange(1750,2501),\n",
    "            tbeg=1750,\n",
    "            tend=2501,\n",
    "            lamg=args['lamg'],\n",
    "            t2x=None,\n",
    "            eff=args['eff'],\n",
    "            cmix=args['cmix'],\n",
    "            cdeep=args['cdeep'],\n",
    "            gamma_2l=args['gamma_2l'],\n",
    "            outtime=np.arange(1750,2501),\n",
    "            dt=0.2\n",
    "        )\n",
    "        output = driver.run()\n",
    "        return(\n",
    "            output.tg,\n",
    "            output.tlev[:,1],\n",
    "            output.hflux,\n",
    "            output.ohc\n",
    "        )\n",
    "\n",
    "\n",
    "    if __name__ == '__main__':\n",
    "        with Pool(24) as pool:\n",
    "            result = list(tqdm(pool.imap(run_tlm, arglist), total=len(accept_inds), leave=False))\n",
    "        output = np.array(result)\n",
    "        \n",
    "    output_t = output.transpose(1,2,0)\n",
    "\n",
    "    results_ch9[scenario]['effective_radiative_forcing'] = forcing[scenario]['anthro']\n",
    "    results_ch9[scenario]['surface_temperature'] = output_t[0,...]\n",
    "    results_ch9[scenario]['deep_ocean_temperature'] = output_t[1,...]\n",
    "    results_ch9[scenario]['net_energy_imbalance'] = output_t[2,...]\n",
    "    results_ch9[scenario]['ocean_heat_content'] = output_t[3,...] * 1e22\n",
    "    results_ch9[scenario]['ECS'] = ecs\n",
    "    results_ch9[scenario]['TCR'] = tcr\n",
    "    results_ch9[scenario]['lambda0'] = lamg\n",
    "    results_ch9[scenario]['cmix'] = cmix\n",
    "    results_ch9[scenario]['cdeep'] = cdeep\n",
    "    results_ch9[scenario]['efficacy'] = eff\n",
    "    results_ch9[scenario]['eta'] = gamma_2l\n",
    "results_ch9['year'] = np.arange(1750, 2501)"
   ]
  },
  {
   "cell_type": "code",
   "execution_count": 32,
   "metadata": {},
   "outputs": [],
   "source": [
    "save_dict_to_hdf5(results_ch9, '../data_output_large/chapter9/twolayer_SSPs.h5')"
   ]
  }
 ],
 "metadata": {
  "kernelspec": {
   "display_name": "Python 3",
   "language": "python",
   "name": "python3"
  },
  "language_info": {
   "codemirror_mode": {
    "name": "ipython",
    "version": 3
   },
   "file_extension": ".py",
   "mimetype": "text/x-python",
   "name": "python",
   "nbconvert_exporter": "python",
   "pygments_lexer": "ipython3",
   "version": "3.7.10"
  }
 },
 "nbformat": 4,
 "nbformat_minor": 4
}
