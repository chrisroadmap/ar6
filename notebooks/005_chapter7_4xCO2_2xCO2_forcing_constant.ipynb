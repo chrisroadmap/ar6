{
 "cells": [
  {
   "cell_type": "markdown",
   "id": "transsexual-tuning",
   "metadata": {},
   "source": [
    "# Conversion factor from 4xCO2 to 2xCO2 and doubling CO2 cases\n",
    "\n",
    "Theme Song: Hot In Here<br>\n",
    "Artist: Nelly<br>\n",
    "Album: Nellyville<br>\n",
    "Released: 2002"
   ]
  },
  {
   "cell_type": "code",
   "execution_count": 1,
   "id": "paperback-centre",
   "metadata": {},
   "outputs": [],
   "source": [
    "from fair.forcing.ghg import meinshausen, etminan\n",
    "import pandas as pd\n",
    "import numpy as np"
   ]
  },
  {
   "cell_type": "code",
   "execution_count": 2,
   "id": "similar-resort",
   "metadata": {},
   "outputs": [
    {
     "data": {
      "text/html": [
       "<div>\n",
       "<style scoped>\n",
       "    .dataframe tbody tr th:only-of-type {\n",
       "        vertical-align: middle;\n",
       "    }\n",
       "\n",
       "    .dataframe tbody tr th {\n",
       "        vertical-align: top;\n",
       "    }\n",
       "\n",
       "    .dataframe thead th {\n",
       "        text-align: right;\n",
       "    }\n",
       "</style>\n",
       "<table border=\"1\" class=\"dataframe\">\n",
       "  <thead>\n",
       "    <tr style=\"text-align: right;\">\n",
       "      <th></th>\n",
       "      <th>CO2</th>\n",
       "      <th>CH4</th>\n",
       "      <th>N2O</th>\n",
       "      <th>HFC-134a</th>\n",
       "      <th>HFC-23</th>\n",
       "      <th>HFC-32</th>\n",
       "      <th>HFC-125</th>\n",
       "      <th>HFC-143a</th>\n",
       "      <th>HFC-152a</th>\n",
       "      <th>HFC-227ea</th>\n",
       "      <th>...</th>\n",
       "      <th>C7F16</th>\n",
       "      <th>C8F18</th>\n",
       "      <th>CFC-112</th>\n",
       "      <th>CFC-112a</th>\n",
       "      <th>CFC-113a</th>\n",
       "      <th>CFC-114a</th>\n",
       "      <th>HCFC-133a</th>\n",
       "      <th>HCFC-31</th>\n",
       "      <th>HCFC-124</th>\n",
       "      <th>YYYY</th>\n",
       "    </tr>\n",
       "    <tr>\n",
       "      <th>YYYY</th>\n",
       "      <th></th>\n",
       "      <th></th>\n",
       "      <th></th>\n",
       "      <th></th>\n",
       "      <th></th>\n",
       "      <th></th>\n",
       "      <th></th>\n",
       "      <th></th>\n",
       "      <th></th>\n",
       "      <th></th>\n",
       "      <th></th>\n",
       "      <th></th>\n",
       "      <th></th>\n",
       "      <th></th>\n",
       "      <th></th>\n",
       "      <th></th>\n",
       "      <th></th>\n",
       "      <th></th>\n",
       "      <th></th>\n",
       "      <th></th>\n",
       "      <th></th>\n",
       "    </tr>\n",
       "  </thead>\n",
       "  <tbody>\n",
       "    <tr>\n",
       "      <th>1750</th>\n",
       "      <td>278.300</td>\n",
       "      <td>729.2000</td>\n",
       "      <td>270.1000</td>\n",
       "      <td>0.0000</td>\n",
       "      <td>0.000</td>\n",
       "      <td>0.000218</td>\n",
       "      <td>0.0000</td>\n",
       "      <td>0.0000</td>\n",
       "      <td>0.0000</td>\n",
       "      <td>0.000004</td>\n",
       "      <td>...</td>\n",
       "      <td>0.00</td>\n",
       "      <td>0.000</td>\n",
       "      <td>0.000000</td>\n",
       "      <td>0.000</td>\n",
       "      <td>0.000000</td>\n",
       "      <td>0.000000</td>\n",
       "      <td>0.000000</td>\n",
       "      <td>0.000000</td>\n",
       "      <td>0.000000</td>\n",
       "      <td>NaN</td>\n",
       "    </tr>\n",
       "    <tr>\n",
       "      <th>1751</th>\n",
       "      <td>278.372</td>\n",
       "      <td>729.9840</td>\n",
       "      <td>270.1200</td>\n",
       "      <td>0.0000</td>\n",
       "      <td>0.000</td>\n",
       "      <td>0.000218</td>\n",
       "      <td>0.0000</td>\n",
       "      <td>0.0000</td>\n",
       "      <td>0.0000</td>\n",
       "      <td>0.000004</td>\n",
       "      <td>...</td>\n",
       "      <td>0.00</td>\n",
       "      <td>0.000</td>\n",
       "      <td>0.000445</td>\n",
       "      <td>0.000</td>\n",
       "      <td>0.000104</td>\n",
       "      <td>0.001520</td>\n",
       "      <td>0.000061</td>\n",
       "      <td>0.000108</td>\n",
       "      <td>0.004921</td>\n",
       "      <td>NaN</td>\n",
       "    </tr>\n",
       "    <tr>\n",
       "      <th>1752</th>\n",
       "      <td>278.444</td>\n",
       "      <td>730.7680</td>\n",
       "      <td>270.1400</td>\n",
       "      <td>0.0000</td>\n",
       "      <td>0.000</td>\n",
       "      <td>0.000218</td>\n",
       "      <td>0.0000</td>\n",
       "      <td>0.0000</td>\n",
       "      <td>0.0000</td>\n",
       "      <td>0.000004</td>\n",
       "      <td>...</td>\n",
       "      <td>0.00</td>\n",
       "      <td>0.000</td>\n",
       "      <td>0.000890</td>\n",
       "      <td>0.000</td>\n",
       "      <td>0.000208</td>\n",
       "      <td>0.003041</td>\n",
       "      <td>0.000121</td>\n",
       "      <td>0.000216</td>\n",
       "      <td>0.009843</td>\n",
       "      <td>NaN</td>\n",
       "    </tr>\n",
       "    <tr>\n",
       "      <th>1753</th>\n",
       "      <td>278.516</td>\n",
       "      <td>731.5520</td>\n",
       "      <td>270.1600</td>\n",
       "      <td>0.0000</td>\n",
       "      <td>0.000</td>\n",
       "      <td>0.000218</td>\n",
       "      <td>0.0000</td>\n",
       "      <td>0.0000</td>\n",
       "      <td>0.0000</td>\n",
       "      <td>0.000004</td>\n",
       "      <td>...</td>\n",
       "      <td>0.00</td>\n",
       "      <td>0.000</td>\n",
       "      <td>0.001336</td>\n",
       "      <td>0.000</td>\n",
       "      <td>0.000313</td>\n",
       "      <td>0.004561</td>\n",
       "      <td>0.000182</td>\n",
       "      <td>0.000324</td>\n",
       "      <td>0.014764</td>\n",
       "      <td>NaN</td>\n",
       "    </tr>\n",
       "    <tr>\n",
       "      <th>1754</th>\n",
       "      <td>278.588</td>\n",
       "      <td>732.3360</td>\n",
       "      <td>270.1800</td>\n",
       "      <td>0.0000</td>\n",
       "      <td>0.000</td>\n",
       "      <td>0.000218</td>\n",
       "      <td>0.0000</td>\n",
       "      <td>0.0000</td>\n",
       "      <td>0.0000</td>\n",
       "      <td>0.000004</td>\n",
       "      <td>...</td>\n",
       "      <td>0.00</td>\n",
       "      <td>0.000</td>\n",
       "      <td>0.001781</td>\n",
       "      <td>0.000</td>\n",
       "      <td>0.000417</td>\n",
       "      <td>0.006082</td>\n",
       "      <td>0.000243</td>\n",
       "      <td>0.000432</td>\n",
       "      <td>0.019685</td>\n",
       "      <td>NaN</td>\n",
       "    </tr>\n",
       "    <tr>\n",
       "      <th>...</th>\n",
       "      <td>...</td>\n",
       "      <td>...</td>\n",
       "      <td>...</td>\n",
       "      <td>...</td>\n",
       "      <td>...</td>\n",
       "      <td>...</td>\n",
       "      <td>...</td>\n",
       "      <td>...</td>\n",
       "      <td>...</td>\n",
       "      <td>...</td>\n",
       "      <td>...</td>\n",
       "      <td>...</td>\n",
       "      <td>...</td>\n",
       "      <td>...</td>\n",
       "      <td>...</td>\n",
       "      <td>...</td>\n",
       "      <td>...</td>\n",
       "      <td>...</td>\n",
       "      <td>...</td>\n",
       "      <td>...</td>\n",
       "      <td>...</td>\n",
       "    </tr>\n",
       "    <tr>\n",
       "      <th>2015</th>\n",
       "      <td>399.420</td>\n",
       "      <td>1834.0055</td>\n",
       "      <td>328.3025</td>\n",
       "      <td>83.4145</td>\n",
       "      <td>28.042</td>\n",
       "      <td>9.985158</td>\n",
       "      <td>18.0910</td>\n",
       "      <td>17.5655</td>\n",
       "      <td>6.5970</td>\n",
       "      <td>1.096239</td>\n",
       "      <td>...</td>\n",
       "      <td>0.11</td>\n",
       "      <td>0.091</td>\n",
       "      <td>0.412000</td>\n",
       "      <td>0.066</td>\n",
       "      <td>0.680000</td>\n",
       "      <td>1.050000</td>\n",
       "      <td>0.398970</td>\n",
       "      <td>0.083000</td>\n",
       "      <td>1.020000</td>\n",
       "      <td>NaN</td>\n",
       "    </tr>\n",
       "    <tr>\n",
       "      <th>2016</th>\n",
       "      <td>402.850</td>\n",
       "      <td>1842.1665</td>\n",
       "      <td>329.1240</td>\n",
       "      <td>89.4825</td>\n",
       "      <td>28.950</td>\n",
       "      <td>11.972602</td>\n",
       "      <td>20.4815</td>\n",
       "      <td>19.1555</td>\n",
       "      <td>6.6600</td>\n",
       "      <td>1.205802</td>\n",
       "      <td>...</td>\n",
       "      <td>0.11</td>\n",
       "      <td>0.091</td>\n",
       "      <td>0.412000</td>\n",
       "      <td>0.067</td>\n",
       "      <td>0.680000</td>\n",
       "      <td>1.040000</td>\n",
       "      <td>0.425010</td>\n",
       "      <td>0.083000</td>\n",
       "      <td>1.020000</td>\n",
       "      <td>NaN</td>\n",
       "    </tr>\n",
       "    <tr>\n",
       "      <th>2017</th>\n",
       "      <td>405.000</td>\n",
       "      <td>1849.2365</td>\n",
       "      <td>330.0400</td>\n",
       "      <td>95.7485</td>\n",
       "      <td>29.975</td>\n",
       "      <td>14.153317</td>\n",
       "      <td>23.2450</td>\n",
       "      <td>20.8340</td>\n",
       "      <td>6.8175</td>\n",
       "      <td>1.327504</td>\n",
       "      <td>...</td>\n",
       "      <td>0.11</td>\n",
       "      <td>0.091</td>\n",
       "      <td>0.412000</td>\n",
       "      <td>0.067</td>\n",
       "      <td>0.680000</td>\n",
       "      <td>1.040000</td>\n",
       "      <td>0.439890</td>\n",
       "      <td>0.083000</td>\n",
       "      <td>1.020000</td>\n",
       "      <td>NaN</td>\n",
       "    </tr>\n",
       "    <tr>\n",
       "      <th>2018</th>\n",
       "      <td>407.390</td>\n",
       "      <td>1857.7770</td>\n",
       "      <td>331.1905</td>\n",
       "      <td>101.8415</td>\n",
       "      <td>31.158</td>\n",
       "      <td>16.556241</td>\n",
       "      <td>26.3125</td>\n",
       "      <td>22.4245</td>\n",
       "      <td>7.0135</td>\n",
       "      <td>1.457735</td>\n",
       "      <td>...</td>\n",
       "      <td>0.11</td>\n",
       "      <td>0.091</td>\n",
       "      <td>0.412000</td>\n",
       "      <td>0.067</td>\n",
       "      <td>0.680000</td>\n",
       "      <td>1.040000</td>\n",
       "      <td>0.438960</td>\n",
       "      <td>0.083000</td>\n",
       "      <td>1.020000</td>\n",
       "      <td>NaN</td>\n",
       "    </tr>\n",
       "    <tr>\n",
       "      <th>2019</th>\n",
       "      <td>409.850</td>\n",
       "      <td>1866.3275</td>\n",
       "      <td>332.0910</td>\n",
       "      <td>107.5910</td>\n",
       "      <td>32.414</td>\n",
       "      <td>19.980503</td>\n",
       "      <td>29.4030</td>\n",
       "      <td>24.0120</td>\n",
       "      <td>7.1345</td>\n",
       "      <td>1.594721</td>\n",
       "      <td>...</td>\n",
       "      <td>0.11</td>\n",
       "      <td>0.091</td>\n",
       "      <td>0.412000</td>\n",
       "      <td>0.067</td>\n",
       "      <td>0.680000</td>\n",
       "      <td>1.040000</td>\n",
       "      <td>0.431520</td>\n",
       "      <td>0.083000</td>\n",
       "      <td>1.020000</td>\n",
       "      <td>NaN</td>\n",
       "    </tr>\n",
       "  </tbody>\n",
       "</table>\n",
       "<p>270 rows × 53 columns</p>\n",
       "</div>"
      ],
      "text/plain": [
       "          CO2        CH4       N2O  HFC-134a  HFC-23     HFC-32  HFC-125  \\\n",
       "YYYY                                                                       \n",
       "1750  278.300   729.2000  270.1000    0.0000   0.000   0.000218   0.0000   \n",
       "1751  278.372   729.9840  270.1200    0.0000   0.000   0.000218   0.0000   \n",
       "1752  278.444   730.7680  270.1400    0.0000   0.000   0.000218   0.0000   \n",
       "1753  278.516   731.5520  270.1600    0.0000   0.000   0.000218   0.0000   \n",
       "1754  278.588   732.3360  270.1800    0.0000   0.000   0.000218   0.0000   \n",
       "...       ...        ...       ...       ...     ...        ...      ...   \n",
       "2015  399.420  1834.0055  328.3025   83.4145  28.042   9.985158  18.0910   \n",
       "2016  402.850  1842.1665  329.1240   89.4825  28.950  11.972602  20.4815   \n",
       "2017  405.000  1849.2365  330.0400   95.7485  29.975  14.153317  23.2450   \n",
       "2018  407.390  1857.7770  331.1905  101.8415  31.158  16.556241  26.3125   \n",
       "2019  409.850  1866.3275  332.0910  107.5910  32.414  19.980503  29.4030   \n",
       "\n",
       "      HFC-143a  HFC-152a  HFC-227ea  ...  C7F16  C8F18   CFC-112  CFC-112a  \\\n",
       "YYYY                                 ...                                     \n",
       "1750    0.0000    0.0000   0.000004  ...   0.00  0.000  0.000000     0.000   \n",
       "1751    0.0000    0.0000   0.000004  ...   0.00  0.000  0.000445     0.000   \n",
       "1752    0.0000    0.0000   0.000004  ...   0.00  0.000  0.000890     0.000   \n",
       "1753    0.0000    0.0000   0.000004  ...   0.00  0.000  0.001336     0.000   \n",
       "1754    0.0000    0.0000   0.000004  ...   0.00  0.000  0.001781     0.000   \n",
       "...        ...       ...        ...  ...    ...    ...       ...       ...   \n",
       "2015   17.5655    6.5970   1.096239  ...   0.11  0.091  0.412000     0.066   \n",
       "2016   19.1555    6.6600   1.205802  ...   0.11  0.091  0.412000     0.067   \n",
       "2017   20.8340    6.8175   1.327504  ...   0.11  0.091  0.412000     0.067   \n",
       "2018   22.4245    7.0135   1.457735  ...   0.11  0.091  0.412000     0.067   \n",
       "2019   24.0120    7.1345   1.594721  ...   0.11  0.091  0.412000     0.067   \n",
       "\n",
       "      CFC-113a  CFC-114a  HCFC-133a   HCFC-31  HCFC-124  YYYY  \n",
       "YYYY                                                           \n",
       "1750  0.000000  0.000000   0.000000  0.000000  0.000000   NaN  \n",
       "1751  0.000104  0.001520   0.000061  0.000108  0.004921   NaN  \n",
       "1752  0.000208  0.003041   0.000121  0.000216  0.009843   NaN  \n",
       "1753  0.000313  0.004561   0.000182  0.000324  0.014764   NaN  \n",
       "1754  0.000417  0.006082   0.000243  0.000432  0.019685   NaN  \n",
       "...        ...       ...        ...       ...       ...   ...  \n",
       "2015  0.680000  1.050000   0.398970  0.083000  1.020000   NaN  \n",
       "2016  0.680000  1.040000   0.425010  0.083000  1.020000   NaN  \n",
       "2017  0.680000  1.040000   0.439890  0.083000  1.020000   NaN  \n",
       "2018  0.680000  1.040000   0.438960  0.083000  1.020000   NaN  \n",
       "2019  0.680000  1.040000   0.431520  0.083000  1.020000   NaN  \n",
       "\n",
       "[270 rows x 53 columns]"
      ]
     },
     "execution_count": 2,
     "metadata": {},
     "output_type": "execute_result"
    }
   ],
   "source": [
    "ghg_obs = pd.read_excel('../data_input/observations/LLGHG_history_AR6_v9_for_archive.xlsx', skiprows=22, sheet_name=\"mixing_ratios\", index_col=0)\n",
    "for addyear in range(1751,1850):\n",
    "    ghg_obs.loc[addyear, 'YYYY'] = np.nan\n",
    "ghg_obs = ghg_obs.sort_index()\n",
    "ghg_obs = ghg_obs.interpolate()\n",
    "ghg_obs"
   ]
  },
  {
   "cell_type": "code",
   "execution_count": 3,
   "id": "technological-riding",
   "metadata": {},
   "outputs": [],
   "source": [
    "co2_pi = ghg_obs.loc[1750,'CO2']\n",
    "ch4_pi = ghg_obs.loc[1750,'CH4']\n",
    "n2o_pi = ghg_obs.loc[1750,'N2O']\n",
    "\n",
    "co2_1850 = ghg_obs.loc[1850,'CO2']\n",
    "ch4_1850 = ghg_obs.loc[1850,'CH4']\n",
    "n2o_1850 = ghg_obs.loc[1850,'N2O']\n",
    "\n",
    "co2_2011 = ghg_obs.loc[2011,'CO2']\n",
    "ch4_2011 = ghg_obs.loc[2011,'CH4']\n",
    "n2o_2011 = ghg_obs.loc[2011,'N2O']\n",
    "\n",
    "co2_2019 = ghg_obs.loc[2019,'CO2']\n",
    "ch4_2019 = ghg_obs.loc[2019,'CH4']\n",
    "n2o_2019 = ghg_obs.loc[2019,'N2O']"
   ]
  },
  {
   "cell_type": "code",
   "execution_count": 4,
   "id": "subjective-dating",
   "metadata": {},
   "outputs": [
    {
     "data": {
      "text/plain": [
       "0.47630403979167685"
      ]
     },
     "execution_count": 4,
     "metadata": {},
     "output_type": "execute_result"
    }
   ],
   "source": [
    "m4x = meinshausen(np.array([4*co2_pi, ch4_pi, n2o_pi]), Cpi=np.array([co2_pi, ch4_pi, n2o_pi]), scale_F2x=False)\n",
    "m2x = meinshausen(np.array([2*co2_pi, ch4_pi, n2o_pi]), Cpi=np.array([co2_pi, ch4_pi, n2o_pi]), scale_F2x=False)\n",
    "m2x[0]/m4x[0]"
   ]
  },
  {
   "cell_type": "code",
   "execution_count": 5,
   "id": "detected-james",
   "metadata": {},
   "outputs": [
    {
     "data": {
      "text/plain": [
       "0.4780337002434125"
      ]
     },
     "execution_count": 5,
     "metadata": {},
     "output_type": "execute_result"
    }
   ],
   "source": [
    "e4x = etminan(np.array([4*co2_pi, ch4_pi, n2o_pi]), Cpi=np.array([co2_pi, ch4_pi, n2o_pi]), scale_F2x=False)\n",
    "e2x = etminan(np.array([2*co2_pi, ch4_pi, n2o_pi]), Cpi=np.array([co2_pi, ch4_pi, n2o_pi]), scale_F2x=False)\n",
    "e2x[0]/e4x[0]"
   ]
  },
  {
   "cell_type": "code",
   "execution_count": 6,
   "id": "related-department",
   "metadata": {},
   "outputs": [
    {
     "data": {
      "text/plain": [
       "3.80195857817616"
      ]
     },
     "execution_count": 6,
     "metadata": {},
     "output_type": "execute_result"
    }
   ],
   "source": [
    "e2x[0]"
   ]
  },
  {
   "cell_type": "code",
   "execution_count": 7,
   "id": "equivalent-communication",
   "metadata": {},
   "outputs": [
    {
     "data": {
      "text/plain": [
       "3.746826975133355"
      ]
     },
     "execution_count": 7,
     "metadata": {},
     "output_type": "execute_result"
    }
   ],
   "source": [
    "m2x[0]"
   ]
  },
  {
   "cell_type": "code",
   "execution_count": 8,
   "id": "express-secretary",
   "metadata": {},
   "outputs": [
    {
     "data": {
      "text/plain": [
       "array([3.83754147, 0.        , 0.        ])"
      ]
     },
     "execution_count": 8,
     "metadata": {},
     "output_type": "execute_result"
    }
   ],
   "source": [
    "etminan(np.array([2*co2_2011, ch4_2011, n2o_2011]), Cpi=np.array([co2_2011, ch4_2011, n2o_2011]), scale_F2x=False)"
   ]
  },
  {
   "cell_type": "code",
   "execution_count": 9,
   "id": "associate-occurrence",
   "metadata": {},
   "outputs": [
    {
     "data": {
      "text/plain": [
       "array([3.79059855, 0.        , 0.        ])"
      ]
     },
     "execution_count": 9,
     "metadata": {},
     "output_type": "execute_result"
    }
   ],
   "source": [
    "meinshausen(np.array([2*co2_2011, ch4_2011, n2o_2011]), Cpi=np.array([co2_2011, ch4_2011, n2o_2011]), scale_F2x=False)"
   ]
  },
  {
   "cell_type": "code",
   "execution_count": 10,
   "id": "graduate-router",
   "metadata": {},
   "outputs": [
    {
     "data": {
      "text/plain": [
       "array([3.7494039, 0.       , 0.       ])"
      ]
     },
     "execution_count": 10,
     "metadata": {},
     "output_type": "execute_result"
    }
   ],
   "source": [
    "meinshausen(np.array([284.3*2, ch4_pi, n2o_pi]), Cpi=np.array([284.3, ch4_pi, n2o_pi]), scale_F2x=False)"
   ]
  },
  {
   "cell_type": "code",
   "execution_count": 11,
   "id": "conventional-infrastructure",
   "metadata": {},
   "outputs": [
    {
     "data": {
      "text/plain": [
       "array([2.08539106, 0.62916705, 0.19523587])"
      ]
     },
     "execution_count": 11,
     "metadata": {},
     "output_type": "execute_result"
    }
   ],
   "source": [
    "etminan(np.array([co2_2019, ch4_2019, n2o_2019]), Cpi=np.array([co2_pi, ch4_pi, n2o_pi]), scale_F2x=False)"
   ]
  },
  {
   "cell_type": "code",
   "execution_count": 12,
   "id": "polyphonic-destination",
   "metadata": {},
   "outputs": [
    {
     "data": {
      "text/plain": [
       "array([2.05359802, 0.63253836, 0.19482489])"
      ]
     },
     "execution_count": 12,
     "metadata": {},
     "output_type": "execute_result"
    }
   ],
   "source": [
    "meinshausen(np.array([co2_2019, ch4_2019, n2o_2019]), Cpi=np.array([co2_pi, ch4_pi, n2o_pi]), scale_F2x=False)"
   ]
  },
  {
   "cell_type": "code",
   "execution_count": 13,
   "id": "legendary-retail",
   "metadata": {},
   "outputs": [
    {
     "data": {
      "text/plain": [
       "array([3.93416832, 0.        , 0.        ])"
      ]
     },
     "execution_count": 13,
     "metadata": {},
     "output_type": "execute_result"
    }
   ],
   "source": [
    "meinshausen(np.array([2*co2_pi, ch4_pi, n2o_pi]), Cpi=np.array([co2_pi, ch4_pi, n2o_pi]), scale_F2x=False) * np.array([1.05, 0.86, 1.07])"
   ]
  },
  {
   "cell_type": "code",
   "execution_count": 14,
   "id": "republican-petite",
   "metadata": {},
   "outputs": [
    {
     "data": {
      "text/plain": [
       "array([3.74682698, 0.        , 0.        ])"
      ]
     },
     "execution_count": 14,
     "metadata": {},
     "output_type": "execute_result"
    }
   ],
   "source": [
    "meinshausen(np.array([2*co2_pi, ch4_pi, n2o_pi]), Cpi=np.array([co2_pi, ch4_pi, n2o_pi]), scale_F2x=False)"
   ]
  },
  {
   "cell_type": "code",
   "execution_count": 15,
   "id": "mysterious-newcastle",
   "metadata": {},
   "outputs": [
    {
     "data": {
      "text/plain": [
       "array([3.93731869, 0.        , 0.        ])"
      ]
     },
     "execution_count": 15,
     "metadata": {},
     "output_type": "execute_result"
    }
   ],
   "source": [
    "meinshausen(np.array([2*co2_1850, ch4_1850, n2o_1850]), Cpi=np.array([co2_1850, ch4_1850, n2o_1850]), scale_F2x=False) * np.array([1.05, 0.86, 1.07])"
   ]
  },
  {
   "cell_type": "code",
   "execution_count": 16,
   "id": "documented-coaching",
   "metadata": {},
   "outputs": [
    {
     "data": {
      "text/plain": [
       "array([3.80195858, 0.        , 0.        ])"
      ]
     },
     "execution_count": 16,
     "metadata": {},
     "output_type": "execute_result"
    }
   ],
   "source": [
    "etminan(np.array([2*co2_pi, ch4_pi, n2o_pi]), Cpi=np.array([co2_pi, ch4_pi, n2o_pi]), scale_F2x=False)"
   ]
  },
  {
   "cell_type": "code",
   "execution_count": 17,
   "id": "bulgarian-assumption",
   "metadata": {},
   "outputs": [
    {
     "data": {
      "text/plain": [
       "array([3.99205651, 0.        , 0.        ])"
      ]
     },
     "execution_count": 17,
     "metadata": {},
     "output_type": "execute_result"
    }
   ],
   "source": [
    "etminan(np.array([2*co2_pi, ch4_pi, n2o_pi]), Cpi=np.array([co2_pi, ch4_pi, n2o_pi]), scale_F2x=False) * np.array([1.05, 0.86, 1.07])"
   ]
  },
  {
   "cell_type": "code",
   "execution_count": 18,
   "id": "healthy-instrument",
   "metadata": {},
   "outputs": [
    {
     "name": "stdout",
     "output_type": "stream",
     "text": [
      "[3.22707066 0.         0.        ]\n",
      "[3.18558871 0.         0.        ]\n"
     ]
    }
   ],
   "source": [
    "print(etminan(np.array([700, 1800, 323]), Cpi=np.array([389, 1800, 323]), scale_F2x=False))\n",
    "print(meinshausen(np.array([700, 1800, 323]), Cpi=np.array([389, 1800, 323]), scale_F2x=False))"
   ]
  },
  {
   "cell_type": "code",
   "execution_count": 19,
   "id": "legitimate-astrology",
   "metadata": {},
   "outputs": [
    {
     "name": "stdout",
     "output_type": "stream",
     "text": [
      "[4.18614974 0.         0.        ]\n",
      "[4.12898865 0.         0.        ]\n"
     ]
    }
   ],
   "source": [
    "print(etminan(np.array([389, 1800, 323]), Cpi=np.array([180, 1800, 323]), scale_F2x=False))\n",
    "print(meinshausen(np.array([389, 1800, 323]), Cpi=np.array([180, 1800, 323]), scale_F2x=False))"
   ]
  },
  {
   "cell_type": "code",
   "execution_count": 20,
   "id": "national-dealer",
   "metadata": {},
   "outputs": [
    {
     "name": "stdout",
     "output_type": "stream",
     "text": [
      "[7.60776501 0.         0.        ]\n",
      "[7.52110683 0.         0.        ]\n"
     ]
    }
   ],
   "source": [
    "print(etminan(np.array([700, 1800, 323]), Cpi=np.array([180, 1800, 323]), scale_F2x=False))\n",
    "print(meinshausen(np.array([700, 1800, 323]), Cpi=np.array([180, 1800, 323]), scale_F2x=False))"
   ]
  },
  {
   "cell_type": "code",
   "execution_count": 21,
   "id": "spanish-munich",
   "metadata": {},
   "outputs": [
    {
     "data": {
      "text/plain": [
       "7.4132204"
      ]
     },
     "execution_count": 21,
     "metadata": {},
     "output_type": "execute_result"
    }
   ],
   "source": [
    "3.22707066 +4.18614974 "
   ]
  },
  {
   "cell_type": "code",
   "execution_count": 22,
   "id": "employed-stock",
   "metadata": {},
   "outputs": [
    {
     "data": {
      "text/plain": [
       "7.31457736"
      ]
     },
     "execution_count": 22,
     "metadata": {},
     "output_type": "execute_result"
    }
   ],
   "source": [
    "3.18558871 + 4.12898865 "
   ]
  },
  {
   "cell_type": "markdown",
   "id": "former-graphics",
   "metadata": {},
   "source": [
    "### chapter 2 1750"
   ]
  },
  {
   "cell_type": "code",
   "execution_count": 23,
   "id": "three-avenue",
   "metadata": {},
   "outputs": [
    {
     "name": "stdout",
     "output_type": "stream",
     "text": [
      "[3.80195858 0.         0.        ]\n",
      "[3.99205651 0.         0.        ]\n",
      "[3.74682698 0.         0.        ]\n",
      "[3.93416832 0.         0.        ]\n"
     ]
    }
   ],
   "source": [
    "print(etminan(np.array([2*co2_pi, ch4_pi, n2o_pi]), Cpi=np.array([co2_pi, ch4_pi, n2o_pi]), scale_F2x=False))\n",
    "print(etminan(np.array([2*co2_pi, ch4_pi, n2o_pi]), Cpi=np.array([co2_pi, ch4_pi, n2o_pi]), scale_F2x=False)*np.array([1.05, 0.86, 1.07]))\n",
    "\n",
    "print(meinshausen(np.array([2*co2_pi, ch4_pi, n2o_pi]), Cpi=np.array([co2_pi, ch4_pi, n2o_pi]), scale_F2x=False))\n",
    "print(meinshausen(np.array([2*co2_pi, ch4_pi, n2o_pi]), Cpi=np.array([co2_pi, ch4_pi, n2o_pi]), scale_F2x=False)*np.array([1.05, 0.86, 1.07]))"
   ]
  },
  {
   "cell_type": "markdown",
   "id": "norwegian-wallpaper",
   "metadata": {},
   "source": [
    "### Meinshausen et al original 1750"
   ]
  },
  {
   "cell_type": "code",
   "execution_count": 24,
   "id": "moving-illness",
   "metadata": {},
   "outputs": [
    {
     "name": "stdout",
     "output_type": "stream",
     "text": [
      "[3.80094215 0.         0.        ]\n",
      "[3.99098926 0.         0.        ]\n",
      "[3.74616138 0.         0.        ]\n",
      "[3.93346945 0.         0.        ]\n"
     ]
    }
   ],
   "source": [
    "print(etminan(np.array([2*277.15, ch4_pi, 273.87]), Cpi=np.array([277.15, ch4_pi, 273.87]), scale_F2x=False))\n",
    "print(etminan(np.array([2*277.15, ch4_pi, 273.87]), Cpi=np.array([277.15, ch4_pi, 273.87]), scale_F2x=False)*np.array([1.05, 0.86, 1.07]))\n",
    "\n",
    "print(meinshausen(np.array([2*277.15, ch4_pi, 273.87]), Cpi=np.array([277.15, ch4_pi, 273.87]), scale_F2x=False))\n",
    "print(meinshausen(np.array([2*277.15, ch4_pi, 273.87]), Cpi=np.array([277.15, ch4_pi, 273.87]), scale_F2x=False)*np.array([1.05, 0.86, 1.07]))"
   ]
  },
  {
   "cell_type": "markdown",
   "id": "significant-booking",
   "metadata": {},
   "source": [
    "### Meinshausen CMIP6 1850"
   ]
  },
  {
   "cell_type": "code",
   "execution_count": 25,
   "id": "strategic-screw",
   "metadata": {},
   "outputs": [
    {
     "name": "stdout",
     "output_type": "stream",
     "text": [
      "[3.80397448 0.         0.        ]\n",
      "[3.9941732 0.        0.       ]\n",
      "[3.74928048 0.         0.        ]\n",
      "[3.93674451 0.         0.        ]\n"
     ]
    }
   ],
   "source": [
    "print(etminan(np.array([2*284.32, ch4_pi, 273.02]), Cpi=np.array([284.32, ch4_pi, 273.02]), scale_F2x=False))\n",
    "print(etminan(np.array([2*284.32, ch4_pi, 273.02]), Cpi=np.array([284.32, ch4_pi, 273.02]), scale_F2x=False)*np.array([1.05, 0.86, 1.07]))\n",
    "\n",
    "print(meinshausen(np.array([2*284.32, ch4_pi, 273.02]), Cpi=np.array([284.32, ch4_pi, 273.02]), scale_F2x=False))\n",
    "print(meinshausen(np.array([2*284.32, ch4_pi, 273.02]), Cpi=np.array([284.32, ch4_pi, 273.02]), scale_F2x=False)*np.array([1.05, 0.86, 1.07]))"
   ]
  },
  {
   "cell_type": "markdown",
   "id": "efficient-capture",
   "metadata": {},
   "source": [
    "### Etminan 2011 values"
   ]
  },
  {
   "cell_type": "code",
   "execution_count": 26,
   "id": "photographic-doctrine",
   "metadata": {},
   "outputs": [
    {
     "name": "stdout",
     "output_type": "stream",
     "text": [
      "[3.83721632 0.         0.        ]\n",
      "[4.02907714 0.         0.        ]\n",
      "[3.79008967 0.         0.        ]\n",
      "[3.97959416 0.         0.        ]\n"
     ]
    }
   ],
   "source": [
    "print(etminan(np.array([2*389, ch4_pi, 323]), Cpi=np.array([389, ch4_pi, 323]), scale_F2x=False))\n",
    "print(etminan(np.array([2*389, ch4_pi, 323]), Cpi=np.array([389, ch4_pi, 323]), scale_F2x=False)*np.array([1.05, 0.86, 1.07]))\n",
    "\n",
    "print(meinshausen(np.array([2*389, ch4_pi, 323]), Cpi=np.array([389, ch4_pi, 323]), scale_F2x=False))\n",
    "print(meinshausen(np.array([2*389, ch4_pi, 323]), Cpi=np.array([389, ch4_pi, 323]), scale_F2x=False)*np.array([1.05, 0.86, 1.07]))"
   ]
  },
  {
   "cell_type": "markdown",
   "id": "political-gibraltar",
   "metadata": {},
   "source": [
    "### chapter 2 2019"
   ]
  },
  {
   "cell_type": "code",
   "execution_count": 27,
   "id": "confidential-greek",
   "metadata": {},
   "outputs": [
    {
     "name": "stdout",
     "output_type": "stream",
     "text": [
      "[3.84352774 0.         0.        ]\n",
      "[4.03570412 0.         0.        ]\n",
      "[3.79782409 0.         0.        ]\n",
      "[3.9877153 0.        0.       ]\n"
     ]
    }
   ],
   "source": [
    "print(etminan(np.array([2*co2_2019, ch4_2019, n2o_2019]), Cpi=np.array([co2_2019, ch4_2019, n2o_2019]), scale_F2x=False))\n",
    "print(etminan(np.array([2*co2_2019, ch4_2019, n2o_2019]), Cpi=np.array([co2_2019, ch4_2019, n2o_2019]), scale_F2x=False)*np.array([1.05, 0.86, 1.07]))\n",
    "\n",
    "print(meinshausen(np.array([2*co2_2019, ch4_2019, n2o_2019]), Cpi=np.array([co2_2019, ch4_2019, n2o_2019]), scale_F2x=False))\n",
    "print(meinshausen(np.array([2*co2_2019, ch4_2019, n2o_2019]), Cpi=np.array([co2_2019, ch4_2019, n2o_2019]), scale_F2x=False)*np.array([1.05, 0.86, 1.07]))"
   ]
  },
  {
   "cell_type": "code",
   "execution_count": null,
   "id": "cosmetic-period",
   "metadata": {},
   "outputs": [],
   "source": []
  }
 ],
 "metadata": {
  "kernelspec": {
   "display_name": "Python 3",
   "language": "python",
   "name": "python3"
  },
  "language_info": {
   "codemirror_mode": {
    "name": "ipython",
    "version": 3
   },
   "file_extension": ".py",
   "mimetype": "text/x-python",
   "name": "python",
   "nbconvert_exporter": "python",
   "pygments_lexer": "ipython3",
   "version": "3.7.10"
  }
 },
 "nbformat": 4,
 "nbformat_minor": 5
}
